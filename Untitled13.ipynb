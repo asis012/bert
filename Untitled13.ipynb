{
  "nbformat": 4,
  "nbformat_minor": 0,
  "metadata": {
    "colab": {
      "name": "Untitled13.ipynb",
      "version": "0.3.2",
      "provenance": [],
      "collapsed_sections": [],
      "include_colab_link": true
    },
    "kernelspec": {
      "name": "python3",
      "display_name": "Python 3"
    }
  },
  "cells": [
    {
      "cell_type": "markdown",
      "metadata": {
        "id": "view-in-github",
        "colab_type": "text"
      },
      "source": [
        "<a href=\"https://colab.research.google.com/github/asis012/bert/blob/master/Untitled13.ipynb\" target=\"_parent\"><img src=\"https://colab.research.google.com/assets/colab-badge.svg\" alt=\"Open In Colab\"/></a>"
      ]
    },
    {
      "cell_type": "code",
      "metadata": {
        "id": "FCN5y_2gVvin",
        "colab_type": "code",
        "outputId": "0a0e9116-081e-4438-be9b-4fa8b5c2db04",
        "colab": {
          "base_uri": "https://localhost:8080/",
          "height": 198
        }
      },
      "source": [
        "import sys, os\n",
        "from pathlib import Path\n",
        "if not \"cwd\" in globals():\n",
        "    cwd = Path(os.getcwd())\n",
        "cwd\n",
        "\n"
      ],
      "execution_count": 0,
      "outputs": [
        {
          "output_type": "error",
          "ename": "NameError",
          "evalue": "ignored",
          "traceback": [
            "\u001b[0;31m---------------------------------------------------------------------------\u001b[0m",
            "\u001b[0;31mNameError\u001b[0m                                 Traceback (most recent call last)",
            "\u001b[0;32m<ipython-input-4-04a2d70150f3>\u001b[0m in \u001b[0;36m<module>\u001b[0;34m()\u001b[0m\n\u001b[1;32m      5\u001b[0m \u001b[0mcwd\u001b[0m\u001b[0;34m\u001b[0m\u001b[0;34m\u001b[0m\u001b[0m\n\u001b[1;32m      6\u001b[0m \u001b[0;34m\u001b[0m\u001b[0m\n\u001b[0;32m----> 7\u001b[0;31m \u001b[0mls\u001b[0m\u001b[0;34m\u001b[0m\u001b[0;34m\u001b[0m\u001b[0m\n\u001b[0m",
            "\u001b[0;31mNameError\u001b[0m: name 'ls' is not defined"
          ]
        }
      ]
    },
    {
      "cell_type": "code",
      "metadata": {
        "id": "3ucce81_WPeu",
        "colab_type": "code",
        "colab": {}
      },
      "source": [
        "import pandas as pd\n",
        "# Don't truncate the sentence when viewing examples\n",
        "pd.set_option('display.max_colwidth', -1)"
      ],
      "execution_count": 0,
      "outputs": []
    },
    {
      "cell_type": "code",
      "metadata": {
        "id": "ce7zp4EPWcG9",
        "colab_type": "code",
        "outputId": "b01fd336-ca9d-445d-88cc-7b4e537747c8",
        "colab": {
          "base_uri": "https://localhost:8080/",
          "height": 351
        }
      },
      "source": [
        "from snorkel.mtl.data import MultitaskDataLoader\n",
        "from snorkel.mtl.model import MultitaskModel\n",
        "from snorkel.mtl.snorkel_config import default_config as config\n",
        "from snorkel.mtl.trainer import Trainer"
      ],
      "execution_count": 0,
      "outputs": [
        {
          "output_type": "error",
          "ename": "ModuleNotFoundError",
          "evalue": "ignored",
          "traceback": [
            "\u001b[0;31m---------------------------------------------------------------------------\u001b[0m",
            "\u001b[0;31mModuleNotFoundError\u001b[0m                       Traceback (most recent call last)",
            "\u001b[0;32m<ipython-input-15-4e1365039f42>\u001b[0m in \u001b[0;36m<module>\u001b[0;34m()\u001b[0m\n\u001b[0;32m----> 1\u001b[0;31m \u001b[0;32mfrom\u001b[0m \u001b[0msnorkel\u001b[0m\u001b[0;34m.\u001b[0m\u001b[0mmtl\u001b[0m\u001b[0;34m.\u001b[0m\u001b[0mdata\u001b[0m \u001b[0;32mimport\u001b[0m \u001b[0mMultitaskDataLoader\u001b[0m\u001b[0;34m\u001b[0m\u001b[0;34m\u001b[0m\u001b[0m\n\u001b[0m\u001b[1;32m      2\u001b[0m \u001b[0;32mfrom\u001b[0m \u001b[0msnorkel\u001b[0m\u001b[0;34m.\u001b[0m\u001b[0mmtl\u001b[0m\u001b[0;34m.\u001b[0m\u001b[0mmodel\u001b[0m \u001b[0;32mimport\u001b[0m \u001b[0mMultitaskModel\u001b[0m\u001b[0;34m\u001b[0m\u001b[0;34m\u001b[0m\u001b[0m\n\u001b[1;32m      3\u001b[0m \u001b[0;32mfrom\u001b[0m \u001b[0msnorkel\u001b[0m\u001b[0;34m.\u001b[0m\u001b[0mmtl\u001b[0m\u001b[0;34m.\u001b[0m\u001b[0msnorkel_config\u001b[0m \u001b[0;32mimport\u001b[0m \u001b[0mdefault_config\u001b[0m \u001b[0;32mas\u001b[0m \u001b[0mconfig\u001b[0m\u001b[0;34m\u001b[0m\u001b[0;34m\u001b[0m\u001b[0m\n\u001b[1;32m      4\u001b[0m \u001b[0;32mfrom\u001b[0m \u001b[0msnorkel\u001b[0m\u001b[0;34m.\u001b[0m\u001b[0mmtl\u001b[0m\u001b[0;34m.\u001b[0m\u001b[0mtrainer\u001b[0m \u001b[0;32mimport\u001b[0m \u001b[0mTrainer\u001b[0m\u001b[0;34m\u001b[0m\u001b[0;34m\u001b[0m\u001b[0m\n",
            "\u001b[0;31mModuleNotFoundError\u001b[0m: No module named 'snorkel.mtl'",
            "",
            "\u001b[0;31m---------------------------------------------------------------------------\u001b[0;32m\nNOTE: If your import is failing due to a missing package, you can\nmanually install dependencies using either !pip or !apt.\n\nTo view examples of installing some common dependencies, click the\n\"Open Examples\" button below.\n\u001b[0;31m---------------------------------------------------------------------------\u001b[0m\n"
          ]
        }
      ]
    },
    {
      "cell_type": "code",
      "metadata": {
        "id": "QLs7XbR5Yvqj",
        "colab_type": "code",
        "colab": {}
      },
      "source": [
        "import superglue_tasks\n",
        "from tokenizer import get_tokenizer\n",
        "from utils import task_dataset_to_dataframe\n"
      ],
      "execution_count": 0,
      "outputs": []
    },
    {
      "cell_type": "code",
      "metadata": {
        "id": "bL25Yitra-07",
        "colab_type": "code",
        "colab": {}
      },
      "source": [
        "from dataloaders import get_jsonl_path\n",
        "from superglue_parsers.wic import get_rows"
      ],
      "execution_count": 0,
      "outputs": []
    },
    {
      "cell_type": "code",
      "metadata": {
        "id": "n0rdCxore92w",
        "colab_type": "code",
        "outputId": "5bfdc18d-b8b1-44af-d618-bbf1b8a466ee",
        "colab": {
          "base_uri": "https://localhost:8080/",
          "height": 34
        }
      },
      "source": [
        "!unzip WiC.zip"
      ],
      "execution_count": 0,
      "outputs": [
        {
          "output_type": "stream",
          "text": [
            "unzip:  cannot find or open WiC.zip, WiC.zip.zip or WiC.zip.ZIP.\n"
          ],
          "name": "stdout"
        }
      ]
    },
    {
      "cell_type": "code",
      "metadata": {
        "id": "oXG8grU-s5GA",
        "colab_type": "code",
        "outputId": "586e2bfd-1a85-4bad-c660-9ab538804f3e",
        "colab": {
          "base_uri": "https://localhost:8080/",
          "height": 51
        }
      },
      "source": [
        "ls"
      ],
      "execution_count": 0,
      "outputs": [
        {
          "output_type": "stream",
          "text": [
            "cb.py    __init__.py  \u001b[0m\u001b[01;34m__pycache__\u001b[0m/  swag.py  wsc.py\n",
            "copa.py  multirc.py   rte.py        wic.py\n"
          ],
          "name": "stdout"
        }
      ]
    },
    {
      "cell_type": "code",
      "metadata": {
        "id": "WnkOocwWf4f6",
        "colab_type": "code",
        "colab": {}
      },
      "source": [
        "task_name= \"WiC\"\n",
        "data_dir = os.environ.get(\"SUPERGLUEDATA\", os.path.join(str(cwd.parents[0]), \"data\"))\n",
        "split = \"valid\"\n",
        "\n"
      ],
      "execution_count": 0,
      "outputs": []
    },
    {
      "cell_type": "code",
      "metadata": {
        "id": "D98AiF7A8ZTc",
        "colab_type": "code",
        "colab": {}
      },
      "source": [
        "data_df['sentence1_idx'] = \"\"\n",
        "  \n",
        "# Observe the result \n"
      ],
      "execution_count": 0,
      "outputs": []
    },
    {
      "cell_type": "code",
      "metadata": {
        "id": "q7p6BwYe8w74",
        "colab_type": "code",
        "colab": {}
      },
      "source": [
        "data_df['sentence2_idx'] = \"\"\n"
      ],
      "execution_count": 0,
      "outputs": []
    },
    {
      "cell_type": "code",
      "metadata": {
        "id": "aZYhSmU09UiF",
        "colab_type": "code",
        "outputId": "989b9987-9a79-4f85-d0bc-3d1fe2714588",
        "colab": {
          "base_uri": "https://localhost:8080/",
          "height": 1000
        }
      },
      "source": [
        "data_df"
      ],
      "execution_count": 0,
      "outputs": [
        {
          "output_type": "execute_result",
          "data": {
            "text/html": [
              "<div>\n",
              "<style scoped>\n",
              "    .dataframe tbody tr th:only-of-type {\n",
              "        vertical-align: middle;\n",
              "    }\n",
              "\n",
              "    .dataframe tbody tr th {\n",
              "        vertical-align: top;\n",
              "    }\n",
              "\n",
              "    .dataframe thead th {\n",
              "        text-align: right;\n",
              "    }\n",
              "</style>\n",
              "<table border=\"1\" class=\"dataframe\">\n",
              "  <thead>\n",
              "    <tr style=\"text-align: right;\">\n",
              "      <th></th>\n",
              "      <th>end1</th>\n",
              "      <th>end2</th>\n",
              "      <th>idx</th>\n",
              "      <th>label</th>\n",
              "      <th>sentence1</th>\n",
              "      <th>sentence2</th>\n",
              "      <th>start1</th>\n",
              "      <th>start2</th>\n",
              "      <th>version</th>\n",
              "      <th>word</th>\n",
              "      <th>sentence1_idx</th>\n",
              "      <th>sentence2_idx</th>\n",
              "    </tr>\n",
              "  </thead>\n",
              "  <tbody>\n",
              "    <tr>\n",
              "      <th>0</th>\n",
              "      <td>30</td>\n",
              "      <td>90</td>\n",
              "      <td>0</td>\n",
              "      <td>False</td>\n",
              "      <td>An emerging professional class.</td>\n",
              "      <td>Apologizing for losing your temper, even though you were badly provoked, showed real class.</td>\n",
              "      <td>25</td>\n",
              "      <td>85</td>\n",
              "      <td>1.1</td>\n",
              "      <td>class</td>\n",
              "      <td></td>\n",
              "      <td></td>\n",
              "    </tr>\n",
              "    <tr>\n",
              "      <th>1</th>\n",
              "      <td>27</td>\n",
              "      <td>25</td>\n",
              "      <td>1</td>\n",
              "      <td>False</td>\n",
              "      <td>Businessmen of every stripe joined in opposition to the proposal.</td>\n",
              "      <td>They earned their stripes in Kuwait.</td>\n",
              "      <td>21</td>\n",
              "      <td>18</td>\n",
              "      <td>1.1</td>\n",
              "      <td>stripe</td>\n",
              "      <td></td>\n",
              "      <td></td>\n",
              "    </tr>\n",
              "    <tr>\n",
              "      <th>2</th>\n",
              "      <td>36</td>\n",
              "      <td>7</td>\n",
              "      <td>2</td>\n",
              "      <td>False</td>\n",
              "      <td>As he called the role he put a check mark by each student's name.</td>\n",
              "      <td>A check on its dependability under stress.</td>\n",
              "      <td>31</td>\n",
              "      <td>2</td>\n",
              "      <td>1.1</td>\n",
              "      <td>check</td>\n",
              "      <td></td>\n",
              "      <td></td>\n",
              "    </tr>\n",
              "    <tr>\n",
              "      <th>3</th>\n",
              "      <td>31</td>\n",
              "      <td>35</td>\n",
              "      <td>3</td>\n",
              "      <td>True</td>\n",
              "      <td>She gave her hair a quick brush.</td>\n",
              "      <td>The dentist recommended two brushes a day.</td>\n",
              "      <td>26</td>\n",
              "      <td>28</td>\n",
              "      <td>1.1</td>\n",
              "      <td>brush</td>\n",
              "      <td></td>\n",
              "      <td></td>\n",
              "    </tr>\n",
              "    <tr>\n",
              "      <th>4</th>\n",
              "      <td>23</td>\n",
              "      <td>52</td>\n",
              "      <td>4</td>\n",
              "      <td>False</td>\n",
              "      <td>The child's acquisition of language.</td>\n",
              "      <td>That graphite tennis racquet is quite an acquisition.</td>\n",
              "      <td>12</td>\n",
              "      <td>41</td>\n",
              "      <td>1.1</td>\n",
              "      <td>acquisition</td>\n",
              "      <td></td>\n",
              "      <td></td>\n",
              "    </tr>\n",
              "    <tr>\n",
              "      <th>5</th>\n",
              "      <td>7</td>\n",
              "      <td>6</td>\n",
              "      <td>5</td>\n",
              "      <td>True</td>\n",
              "      <td>A thing of the spirit.</td>\n",
              "      <td>Things of the heart.</td>\n",
              "      <td>2</td>\n",
              "      <td>0</td>\n",
              "      <td>1.1</td>\n",
              "      <td>thing</td>\n",
              "      <td></td>\n",
              "      <td></td>\n",
              "    </tr>\n",
              "    <tr>\n",
              "      <th>6</th>\n",
              "      <td>12</td>\n",
              "      <td>38</td>\n",
              "      <td>6</td>\n",
              "      <td>True</td>\n",
              "      <td>The minister said a prayer on behalf of the entire congregation.</td>\n",
              "      <td>Clergymen are usually called ministers in Protestant churches.</td>\n",
              "      <td>4</td>\n",
              "      <td>29</td>\n",
              "      <td>1.1</td>\n",
              "      <td>minister</td>\n",
              "      <td></td>\n",
              "      <td></td>\n",
              "    </tr>\n",
              "    <tr>\n",
              "      <th>7</th>\n",
              "      <td>17</td>\n",
              "      <td>21</td>\n",
              "      <td>7</td>\n",
              "      <td>False</td>\n",
              "      <td>The very easiness of the deed held her back.</td>\n",
              "      <td>There was an easiness between them.</td>\n",
              "      <td>9</td>\n",
              "      <td>13</td>\n",
              "      <td>1.1</td>\n",
              "      <td>easiness</td>\n",
              "      <td></td>\n",
              "      <td></td>\n",
              "    </tr>\n",
              "    <tr>\n",
              "      <th>8</th>\n",
              "      <td>30</td>\n",
              "      <td>48</td>\n",
              "      <td>8</td>\n",
              "      <td>True</td>\n",
              "      <td>Sculpture in contradistinction to painting.</td>\n",
              "      <td>We used hamburgers and soda in contradistinction to healthy food.</td>\n",
              "      <td>13</td>\n",
              "      <td>31</td>\n",
              "      <td>1.1</td>\n",
              "      <td>contradistinction</td>\n",
              "      <td></td>\n",
              "      <td></td>\n",
              "    </tr>\n",
              "    <tr>\n",
              "      <th>9</th>\n",
              "      <td>79</td>\n",
              "      <td>8</td>\n",
              "      <td>9</td>\n",
              "      <td>True</td>\n",
              "      <td>Canadian tariffs enabled United States lumber companies to raise prices at home.</td>\n",
              "      <td>His home is New Jersey.</td>\n",
              "      <td>75</td>\n",
              "      <td>4</td>\n",
              "      <td>1.1</td>\n",
              "      <td>home</td>\n",
              "      <td></td>\n",
              "      <td></td>\n",
              "    </tr>\n",
              "    <tr>\n",
              "      <th>10</th>\n",
              "      <td>24</td>\n",
              "      <td>14</td>\n",
              "      <td>10</td>\n",
              "      <td>False</td>\n",
              "      <td>The alkaline inclination of the local waters.</td>\n",
              "      <td>An inclination of his head indicated his agreement.</td>\n",
              "      <td>13</td>\n",
              "      <td>3</td>\n",
              "      <td>1.1</td>\n",
              "      <td>inclination</td>\n",
              "      <td></td>\n",
              "      <td></td>\n",
              "    </tr>\n",
              "    <tr>\n",
              "      <th>11</th>\n",
              "      <td>12</td>\n",
              "      <td>13</td>\n",
              "      <td>11</td>\n",
              "      <td>False</td>\n",
              "      <td>An assurance of help when needed.</td>\n",
              "      <td>His assurance in his superiority did not make him popular.</td>\n",
              "      <td>3</td>\n",
              "      <td>4</td>\n",
              "      <td>1.1</td>\n",
              "      <td>assurance</td>\n",
              "      <td></td>\n",
              "      <td></td>\n",
              "    </tr>\n",
              "    <tr>\n",
              "      <th>12</th>\n",
              "      <td>40</td>\n",
              "      <td>32</td>\n",
              "      <td>12</td>\n",
              "      <td>True</td>\n",
              "      <td>The relief pitcher got credit for a save.</td>\n",
              "      <td>The goalie made a brilliant save.</td>\n",
              "      <td>36</td>\n",
              "      <td>28</td>\n",
              "      <td>1.1</td>\n",
              "      <td>save</td>\n",
              "      <td></td>\n",
              "      <td></td>\n",
              "    </tr>\n",
              "    <tr>\n",
              "      <th>13</th>\n",
              "      <td>13</td>\n",
              "      <td>21</td>\n",
              "      <td>13</td>\n",
              "      <td>False</td>\n",
              "      <td>He got a bang on the head.</td>\n",
              "      <td>They got a great bang out of it.</td>\n",
              "      <td>9</td>\n",
              "      <td>17</td>\n",
              "      <td>1.1</td>\n",
              "      <td>bang</td>\n",
              "      <td></td>\n",
              "      <td></td>\n",
              "    </tr>\n",
              "    <tr>\n",
              "      <th>14</th>\n",
              "      <td>17</td>\n",
              "      <td>23</td>\n",
              "      <td>14</td>\n",
              "      <td>False</td>\n",
              "      <td>She felt a tremor in her stomach before going on stage.</td>\n",
              "      <td>Did you feel the tremor this morning?</td>\n",
              "      <td>11</td>\n",
              "      <td>17</td>\n",
              "      <td>1.1</td>\n",
              "      <td>tremor</td>\n",
              "      <td></td>\n",
              "      <td></td>\n",
              "    </tr>\n",
              "    <tr>\n",
              "      <th>15</th>\n",
              "      <td>36</td>\n",
              "      <td>13</td>\n",
              "      <td>15</td>\n",
              "      <td>False</td>\n",
              "      <td>This situation developed in response to events in Africa.</td>\n",
              "      <td>His responses have slowed with age.</td>\n",
              "      <td>28</td>\n",
              "      <td>4</td>\n",
              "      <td>1.1</td>\n",
              "      <td>response</td>\n",
              "      <td></td>\n",
              "      <td></td>\n",
              "    </tr>\n",
              "    <tr>\n",
              "      <th>16</th>\n",
              "      <td>18</td>\n",
              "      <td>48</td>\n",
              "      <td>16</td>\n",
              "      <td>False</td>\n",
              "      <td>He could not touch the meaning of the poem.</td>\n",
              "      <td>Helen Keller felt the physical world by touching people and objects around her.</td>\n",
              "      <td>13</td>\n",
              "      <td>40</td>\n",
              "      <td>1.1</td>\n",
              "      <td>touch</td>\n",
              "      <td></td>\n",
              "      <td></td>\n",
              "    </tr>\n",
              "    <tr>\n",
              "      <th>17</th>\n",
              "      <td>4</td>\n",
              "      <td>13</td>\n",
              "      <td>17</td>\n",
              "      <td>True</td>\n",
              "      <td>Hail a cab.</td>\n",
              "      <td>He was hailed as a hero.</td>\n",
              "      <td>0</td>\n",
              "      <td>7</td>\n",
              "      <td>1.1</td>\n",
              "      <td>hail</td>\n",
              "      <td></td>\n",
              "      <td></td>\n",
              "    </tr>\n",
              "    <tr>\n",
              "      <th>18</th>\n",
              "      <td>26</td>\n",
              "      <td>19</td>\n",
              "      <td>18</td>\n",
              "      <td>True</td>\n",
              "      <td>He was concerned with rail safety.</td>\n",
              "      <td>He traveled by rail.</td>\n",
              "      <td>22</td>\n",
              "      <td>15</td>\n",
              "      <td>1.1</td>\n",
              "      <td>rail</td>\n",
              "      <td></td>\n",
              "      <td></td>\n",
              "    </tr>\n",
              "    <tr>\n",
              "      <th>19</th>\n",
              "      <td>34</td>\n",
              "      <td>40</td>\n",
              "      <td>19</td>\n",
              "      <td>True</td>\n",
              "      <td>Lack of imagination is an obstacle to one's advancement.</td>\n",
              "      <td>The poverty of a district is an obstacle to good education.</td>\n",
              "      <td>26</td>\n",
              "      <td>32</td>\n",
              "      <td>1.1</td>\n",
              "      <td>obstacle</td>\n",
              "      <td></td>\n",
              "      <td></td>\n",
              "    </tr>\n",
              "    <tr>\n",
              "      <th>20</th>\n",
              "      <td>19</td>\n",
              "      <td>32</td>\n",
              "      <td>20</td>\n",
              "      <td>True</td>\n",
              "      <td>Force socialization rarely creates strong friendships, but there are exceptions.</td>\n",
              "      <td>There was too much socialization with the enlisted men.</td>\n",
              "      <td>6</td>\n",
              "      <td>19</td>\n",
              "      <td>1.1</td>\n",
              "      <td>socialization</td>\n",
              "      <td></td>\n",
              "      <td></td>\n",
              "    </tr>\n",
              "    <tr>\n",
              "      <th>21</th>\n",
              "      <td>42</td>\n",
              "      <td>22</td>\n",
              "      <td>21</td>\n",
              "      <td>True</td>\n",
              "      <td>The strike was supported by the union rank and file.</td>\n",
              "      <td>He rose from the ranks to become a colonel.</td>\n",
              "      <td>38</td>\n",
              "      <td>17</td>\n",
              "      <td>1.1</td>\n",
              "      <td>rank</td>\n",
              "      <td></td>\n",
              "      <td></td>\n",
              "    </tr>\n",
              "    <tr>\n",
              "      <th>22</th>\n",
              "      <td>23</td>\n",
              "      <td>4</td>\n",
              "      <td>22</td>\n",
              "      <td>False</td>\n",
              "      <td>The stick does not bend.</td>\n",
              "      <td>Bend your knees.</td>\n",
              "      <td>19</td>\n",
              "      <td>0</td>\n",
              "      <td>1.1</td>\n",
              "      <td>bend</td>\n",
              "      <td></td>\n",
              "      <td></td>\n",
              "    </tr>\n",
              "    <tr>\n",
              "      <th>23</th>\n",
              "      <td>18</td>\n",
              "      <td>14</td>\n",
              "      <td>23</td>\n",
              "      <td>True</td>\n",
              "      <td>$50 won't even buy a dress.</td>\n",
              "      <td>FMC has bought 565.</td>\n",
              "      <td>15</td>\n",
              "      <td>8</td>\n",
              "      <td>1.1</td>\n",
              "      <td>buy</td>\n",
              "      <td></td>\n",
              "      <td></td>\n",
              "    </tr>\n",
              "    <tr>\n",
              "      <th>24</th>\n",
              "      <td>5</td>\n",
              "      <td>9</td>\n",
              "      <td>24</td>\n",
              "      <td>False</td>\n",
              "      <td>Youth everywhere rises in revolt.</td>\n",
              "      <td>Her youth and beauty is what attracted him to her.</td>\n",
              "      <td>0</td>\n",
              "      <td>4</td>\n",
              "      <td>1.1</td>\n",
              "      <td>youth</td>\n",
              "      <td></td>\n",
              "      <td></td>\n",
              "    </tr>\n",
              "    <tr>\n",
              "      <th>25</th>\n",
              "      <td>6</td>\n",
              "      <td>3</td>\n",
              "      <td>25</td>\n",
              "      <td>True</td>\n",
              "      <td>To lay a tax on land.</td>\n",
              "      <td>Lay a responsibility on someone.</td>\n",
              "      <td>3</td>\n",
              "      <td>0</td>\n",
              "      <td>1.1</td>\n",
              "      <td>lay</td>\n",
              "      <td></td>\n",
              "      <td></td>\n",
              "    </tr>\n",
              "    <tr>\n",
              "      <th>26</th>\n",
              "      <td>5</td>\n",
              "      <td>11</td>\n",
              "      <td>26</td>\n",
              "      <td>True</td>\n",
              "      <td>Leave lots of time for the trip.</td>\n",
              "      <td>This leaves no room for improvement.</td>\n",
              "      <td>0</td>\n",
              "      <td>5</td>\n",
              "      <td>1.1</td>\n",
              "      <td>leave</td>\n",
              "      <td></td>\n",
              "      <td></td>\n",
              "    </tr>\n",
              "    <tr>\n",
              "      <th>27</th>\n",
              "      <td>22</td>\n",
              "      <td>30</td>\n",
              "      <td>27</td>\n",
              "      <td>False</td>\n",
              "      <td>Students making aliyah.</td>\n",
              "      <td>He was called on for an aliyah.</td>\n",
              "      <td>16</td>\n",
              "      <td>24</td>\n",
              "      <td>1.1</td>\n",
              "      <td>aliyah</td>\n",
              "      <td></td>\n",
              "      <td></td>\n",
              "    </tr>\n",
              "    <tr>\n",
              "      <th>28</th>\n",
              "      <td>7</td>\n",
              "      <td>22</td>\n",
              "      <td>28</td>\n",
              "      <td>False</td>\n",
              "      <td>Violate the sanctity of the church.</td>\n",
              "      <td>This sentence violates the rules of syntax.</td>\n",
              "      <td>0</td>\n",
              "      <td>14</td>\n",
              "      <td>1.1</td>\n",
              "      <td>violate</td>\n",
              "      <td></td>\n",
              "      <td></td>\n",
              "    </tr>\n",
              "    <tr>\n",
              "      <th>29</th>\n",
              "      <td>17</td>\n",
              "      <td>39</td>\n",
              "      <td>29</td>\n",
              "      <td>False</td>\n",
              "      <td>An eyebrow pencil.</td>\n",
              "      <td>This artist's favorite medium is pencil.</td>\n",
              "      <td>11</td>\n",
              "      <td>33</td>\n",
              "      <td>1.1</td>\n",
              "      <td>pencil</td>\n",
              "      <td></td>\n",
              "      <td></td>\n",
              "    </tr>\n",
              "    <tr>\n",
              "      <th>...</th>\n",
              "      <td>...</td>\n",
              "      <td>...</td>\n",
              "      <td>...</td>\n",
              "      <td>...</td>\n",
              "      <td>...</td>\n",
              "      <td>...</td>\n",
              "      <td>...</td>\n",
              "      <td>...</td>\n",
              "      <td>...</td>\n",
              "      <td>...</td>\n",
              "      <td>...</td>\n",
              "      <td>...</td>\n",
              "    </tr>\n",
              "    <tr>\n",
              "      <th>608</th>\n",
              "      <td>15</td>\n",
              "      <td>5</td>\n",
              "      <td>608</td>\n",
              "      <td>False</td>\n",
              "      <td>The locks pound the water of the canal.</td>\n",
              "      <td>Pound the roots with a heavy flat stone.</td>\n",
              "      <td>10</td>\n",
              "      <td>0</td>\n",
              "      <td>1.1</td>\n",
              "      <td>pound</td>\n",
              "      <td></td>\n",
              "      <td></td>\n",
              "    </tr>\n",
              "    <tr>\n",
              "      <th>609</th>\n",
              "      <td>6</td>\n",
              "      <td>9</td>\n",
              "      <td>609</td>\n",
              "      <td>True</td>\n",
              "      <td>Donate money to the orphanage.</td>\n",
              "      <td>I donated blood to the Red Cross for the victims of the earthquake.</td>\n",
              "      <td>0</td>\n",
              "      <td>2</td>\n",
              "      <td>1.1</td>\n",
              "      <td>donate</td>\n",
              "      <td></td>\n",
              "      <td></td>\n",
              "    </tr>\n",
              "    <tr>\n",
              "      <th>610</th>\n",
              "      <td>3</td>\n",
              "      <td>59</td>\n",
              "      <td>610</td>\n",
              "      <td>True</td>\n",
              "      <td>Hew out a path in the rock.</td>\n",
              "      <td>One of the most widely used typefaces in the world was hewn by the English printer and typographer John Baskerville.</td>\n",
              "      <td>0</td>\n",
              "      <td>55</td>\n",
              "      <td>1.1</td>\n",
              "      <td>hew</td>\n",
              "      <td></td>\n",
              "      <td></td>\n",
              "    </tr>\n",
              "    <tr>\n",
              "      <th>611</th>\n",
              "      <td>29</td>\n",
              "      <td>7</td>\n",
              "      <td>611</td>\n",
              "      <td>False</td>\n",
              "      <td>Google represents a new breed of entrepreneurs.</td>\n",
              "      <td>A breed of tulip.</td>\n",
              "      <td>24</td>\n",
              "      <td>2</td>\n",
              "      <td>1.1</td>\n",
              "      <td>breed</td>\n",
              "      <td></td>\n",
              "      <td></td>\n",
              "    </tr>\n",
              "    <tr>\n",
              "      <th>612</th>\n",
              "      <td>14</td>\n",
              "      <td>8</td>\n",
              "      <td>612</td>\n",
              "      <td>True</td>\n",
              "      <td>I can not risk smoking.</td>\n",
              "      <td>Why risk your life?</td>\n",
              "      <td>10</td>\n",
              "      <td>4</td>\n",
              "      <td>1.1</td>\n",
              "      <td>risk</td>\n",
              "      <td></td>\n",
              "      <td></td>\n",
              "    </tr>\n",
              "    <tr>\n",
              "      <th>613</th>\n",
              "      <td>30</td>\n",
              "      <td>41</td>\n",
              "      <td>613</td>\n",
              "      <td>True</td>\n",
              "      <td>When does the court of law sit?</td>\n",
              "      <td>In what city is the circuit court sitting for this session.</td>\n",
              "      <td>27</td>\n",
              "      <td>34</td>\n",
              "      <td>1.1</td>\n",
              "      <td>sit</td>\n",
              "      <td></td>\n",
              "      <td></td>\n",
              "    </tr>\n",
              "    <tr>\n",
              "      <th>614</th>\n",
              "      <td>12</td>\n",
              "      <td>60</td>\n",
              "      <td>614</td>\n",
              "      <td>True</td>\n",
              "      <td>Let's review your situation.</td>\n",
              "      <td>Before I tackle the question directly, I must briefly review historical approaches to the problem.</td>\n",
              "      <td>6</td>\n",
              "      <td>54</td>\n",
              "      <td>1.1</td>\n",
              "      <td>review</td>\n",
              "      <td></td>\n",
              "      <td></td>\n",
              "    </tr>\n",
              "    <tr>\n",
              "      <th>615</th>\n",
              "      <td>19</td>\n",
              "      <td>13</td>\n",
              "      <td>615</td>\n",
              "      <td>True</td>\n",
              "      <td>He's a truck jockey.</td>\n",
              "      <td>A disc jockey.</td>\n",
              "      <td>13</td>\n",
              "      <td>7</td>\n",
              "      <td>1.1</td>\n",
              "      <td>jockey</td>\n",
              "      <td></td>\n",
              "      <td></td>\n",
              "    </tr>\n",
              "    <tr>\n",
              "      <th>616</th>\n",
              "      <td>14</td>\n",
              "      <td>16</td>\n",
              "      <td>616</td>\n",
              "      <td>True</td>\n",
              "      <td>The whole body filed out of the auditorium.</td>\n",
              "      <td>The student body.</td>\n",
              "      <td>10</td>\n",
              "      <td>12</td>\n",
              "      <td>1.1</td>\n",
              "      <td>body</td>\n",
              "      <td></td>\n",
              "      <td></td>\n",
              "    </tr>\n",
              "    <tr>\n",
              "      <th>617</th>\n",
              "      <td>26</td>\n",
              "      <td>22</td>\n",
              "      <td>617</td>\n",
              "      <td>True</td>\n",
              "      <td>The country will stabilize after the next election ends.</td>\n",
              "      <td>The economy stabilized.</td>\n",
              "      <td>17</td>\n",
              "      <td>12</td>\n",
              "      <td>1.1</td>\n",
              "      <td>stabilize</td>\n",
              "      <td></td>\n",
              "      <td></td>\n",
              "    </tr>\n",
              "    <tr>\n",
              "      <th>618</th>\n",
              "      <td>11</td>\n",
              "      <td>64</td>\n",
              "      <td>618</td>\n",
              "      <td>True</td>\n",
              "      <td>A good lead for a job.</td>\n",
              "      <td>Joe is a great addition to our sales team, he has numerous leads in the paper industry.</td>\n",
              "      <td>7</td>\n",
              "      <td>59</td>\n",
              "      <td>1.1</td>\n",
              "      <td>lead</td>\n",
              "      <td></td>\n",
              "      <td></td>\n",
              "    </tr>\n",
              "    <tr>\n",
              "      <th>619</th>\n",
              "      <td>48</td>\n",
              "      <td>5</td>\n",
              "      <td>619</td>\n",
              "      <td>False</td>\n",
              "      <td>He told the painter that he wanted a yellow base with just a hint of green.</td>\n",
              "      <td>Bases include oxides and hydroxides of metals and ammonia.</td>\n",
              "      <td>44</td>\n",
              "      <td>0</td>\n",
              "      <td>1.1</td>\n",
              "      <td>base</td>\n",
              "      <td></td>\n",
              "      <td></td>\n",
              "    </tr>\n",
              "    <tr>\n",
              "      <th>620</th>\n",
              "      <td>45</td>\n",
              "      <td>14</td>\n",
              "      <td>620</td>\n",
              "      <td>False</td>\n",
              "      <td>Juvenile offenses often reflect an inadequacy in the parents.</td>\n",
              "      <td>The inadequacy of unemployment benefits.</td>\n",
              "      <td>35</td>\n",
              "      <td>4</td>\n",
              "      <td>1.1</td>\n",
              "      <td>inadequacy</td>\n",
              "      <td></td>\n",
              "      <td></td>\n",
              "    </tr>\n",
              "    <tr>\n",
              "      <th>621</th>\n",
              "      <td>38</td>\n",
              "      <td>43</td>\n",
              "      <td>621</td>\n",
              "      <td>True</td>\n",
              "      <td>The power plant received a new upgrade.</td>\n",
              "      <td>With my phone company, I get a free upgrade every twelve months if I keep topping up 10 pounds a month.</td>\n",
              "      <td>31</td>\n",
              "      <td>36</td>\n",
              "      <td>1.1</td>\n",
              "      <td>upgrade</td>\n",
              "      <td></td>\n",
              "      <td></td>\n",
              "    </tr>\n",
              "    <tr>\n",
              "      <th>622</th>\n",
              "      <td>37</td>\n",
              "      <td>49</td>\n",
              "      <td>622</td>\n",
              "      <td>False</td>\n",
              "      <td>The senator received severe criticism from his opponent.</td>\n",
              "      <td>The politician received a lot of public criticism for his controversial stance on the issue.</td>\n",
              "      <td>28</td>\n",
              "      <td>40</td>\n",
              "      <td>1.1</td>\n",
              "      <td>criticism</td>\n",
              "      <td></td>\n",
              "      <td></td>\n",
              "    </tr>\n",
              "    <tr>\n",
              "      <th>623</th>\n",
              "      <td>16</td>\n",
              "      <td>9</td>\n",
              "      <td>623</td>\n",
              "      <td>True</td>\n",
              "      <td>The last bastion of communism.</td>\n",
              "      <td>A bastion against corruption.</td>\n",
              "      <td>9</td>\n",
              "      <td>2</td>\n",
              "      <td>1.1</td>\n",
              "      <td>bastion</td>\n",
              "      <td></td>\n",
              "      <td></td>\n",
              "    </tr>\n",
              "    <tr>\n",
              "      <th>624</th>\n",
              "      <td>11</td>\n",
              "      <td>39</td>\n",
              "      <td>624</td>\n",
              "      <td>False</td>\n",
              "      <td>It's a pity he couldn't do it.</td>\n",
              "      <td>The blind are too often objects of pity.</td>\n",
              "      <td>7</td>\n",
              "      <td>35</td>\n",
              "      <td>1.1</td>\n",
              "      <td>pity</td>\n",
              "      <td></td>\n",
              "      <td></td>\n",
              "    </tr>\n",
              "    <tr>\n",
              "      <th>625</th>\n",
              "      <td>12</td>\n",
              "      <td>34</td>\n",
              "      <td>625</td>\n",
              "      <td>True</td>\n",
              "      <td>To embellish a story, the truth.</td>\n",
              "      <td>The old book cover was embellished with golden letters.</td>\n",
              "      <td>3</td>\n",
              "      <td>23</td>\n",
              "      <td>1.1</td>\n",
              "      <td>embellish</td>\n",
              "      <td></td>\n",
              "      <td></td>\n",
              "    </tr>\n",
              "    <tr>\n",
              "      <th>626</th>\n",
              "      <td>16</td>\n",
              "      <td>31</td>\n",
              "      <td>626</td>\n",
              "      <td>False</td>\n",
              "      <td>The court's tilt toward conservative rulings.</td>\n",
              "      <td>The tower had a pronounced tilt.</td>\n",
              "      <td>12</td>\n",
              "      <td>27</td>\n",
              "      <td>1.1</td>\n",
              "      <td>tilt</td>\n",
              "      <td></td>\n",
              "      <td></td>\n",
              "    </tr>\n",
              "    <tr>\n",
              "      <th>627</th>\n",
              "      <td>42</td>\n",
              "      <td>22</td>\n",
              "      <td>627</td>\n",
              "      <td>False</td>\n",
              "      <td>The assembly plant is an enormous facility.</td>\n",
              "      <td>Educational facilities.</td>\n",
              "      <td>34</td>\n",
              "      <td>12</td>\n",
              "      <td>1.1</td>\n",
              "      <td>facility</td>\n",
              "      <td></td>\n",
              "      <td></td>\n",
              "    </tr>\n",
              "    <tr>\n",
              "      <th>628</th>\n",
              "      <td>15</td>\n",
              "      <td>24</td>\n",
              "      <td>628</td>\n",
              "      <td>False</td>\n",
              "      <td>We live an hour from the airport.</td>\n",
              "      <td>It was their finest hour.</td>\n",
              "      <td>11</td>\n",
              "      <td>20</td>\n",
              "      <td>1.1</td>\n",
              "      <td>hour</td>\n",
              "      <td></td>\n",
              "      <td></td>\n",
              "    </tr>\n",
              "    <tr>\n",
              "      <th>629</th>\n",
              "      <td>16</td>\n",
              "      <td>17</td>\n",
              "      <td>629</td>\n",
              "      <td>True</td>\n",
              "      <td>The drug capital of Columbia.</td>\n",
              "      <td>The crime capital of Italy.</td>\n",
              "      <td>9</td>\n",
              "      <td>10</td>\n",
              "      <td>1.1</td>\n",
              "      <td>capital</td>\n",
              "      <td></td>\n",
              "      <td></td>\n",
              "    </tr>\n",
              "    <tr>\n",
              "      <th>630</th>\n",
              "      <td>25</td>\n",
              "      <td>16</td>\n",
              "      <td>630</td>\n",
              "      <td>False</td>\n",
              "      <td>Clinton directed his fire at the Republican Party.</td>\n",
              "      <td>There was a fire at the school last night and the whole place burned down.</td>\n",
              "      <td>21</td>\n",
              "      <td>12</td>\n",
              "      <td>1.1</td>\n",
              "      <td>fire</td>\n",
              "      <td></td>\n",
              "      <td></td>\n",
              "    </tr>\n",
              "    <tr>\n",
              "      <th>631</th>\n",
              "      <td>38</td>\n",
              "      <td>74</td>\n",
              "      <td>631</td>\n",
              "      <td>True</td>\n",
              "      <td>In every war there are acts of torture that cause the world to shudder.</td>\n",
              "      <td>Using large dogs to attack bound, hand-cuffed prisoners is clearly torture.</td>\n",
              "      <td>31</td>\n",
              "      <td>67</td>\n",
              "      <td>1.1</td>\n",
              "      <td>torture</td>\n",
              "      <td></td>\n",
              "      <td></td>\n",
              "    </tr>\n",
              "    <tr>\n",
              "      <th>632</th>\n",
              "      <td>19</td>\n",
              "      <td>44</td>\n",
              "      <td>632</td>\n",
              "      <td>False</td>\n",
              "      <td>The outward passage took 10 days.</td>\n",
              "      <td>She struggled to play the difficult passages.</td>\n",
              "      <td>12</td>\n",
              "      <td>36</td>\n",
              "      <td>1.1</td>\n",
              "      <td>passage</td>\n",
              "      <td></td>\n",
              "      <td></td>\n",
              "    </tr>\n",
              "    <tr>\n",
              "      <th>633</th>\n",
              "      <td>4</td>\n",
              "      <td>16</td>\n",
              "      <td>633</td>\n",
              "      <td>False</td>\n",
              "      <td>Rise to the occasion.</td>\n",
              "      <td>Her spirits rose when she heard the good news.</td>\n",
              "      <td>0</td>\n",
              "      <td>12</td>\n",
              "      <td>1.1</td>\n",
              "      <td>rise</td>\n",
              "      <td></td>\n",
              "      <td></td>\n",
              "    </tr>\n",
              "    <tr>\n",
              "      <th>634</th>\n",
              "      <td>6</td>\n",
              "      <td>15</td>\n",
              "      <td>634</td>\n",
              "      <td>False</td>\n",
              "      <td>Chisel the marble.</td>\n",
              "      <td>Who's chiseling on the side?</td>\n",
              "      <td>0</td>\n",
              "      <td>6</td>\n",
              "      <td>1.1</td>\n",
              "      <td>chisel</td>\n",
              "      <td></td>\n",
              "      <td></td>\n",
              "    </tr>\n",
              "    <tr>\n",
              "      <th>635</th>\n",
              "      <td>8</td>\n",
              "      <td>8</td>\n",
              "      <td>635</td>\n",
              "      <td>True</td>\n",
              "      <td>The bane of my existence.</td>\n",
              "      <td>The bane of my life.</td>\n",
              "      <td>4</td>\n",
              "      <td>4</td>\n",
              "      <td>1.1</td>\n",
              "      <td>bane</td>\n",
              "      <td></td>\n",
              "      <td></td>\n",
              "    </tr>\n",
              "    <tr>\n",
              "      <th>636</th>\n",
              "      <td>10</td>\n",
              "      <td>4</td>\n",
              "      <td>636</td>\n",
              "      <td>True</td>\n",
              "      <td>Let's hang this cute animal in the nursery.</td>\n",
              "      <td>Hang wallpaper.</td>\n",
              "      <td>6</td>\n",
              "      <td>0</td>\n",
              "      <td>1.1</td>\n",
              "      <td>hang</td>\n",
              "      <td></td>\n",
              "      <td></td>\n",
              "    </tr>\n",
              "    <tr>\n",
              "      <th>637</th>\n",
              "      <td>37</td>\n",
              "      <td>7</td>\n",
              "      <td>637</td>\n",
              "      <td>True</td>\n",
              "      <td>He experimented on a particular breed of white rats.</td>\n",
              "      <td>A breed of animal.</td>\n",
              "      <td>32</td>\n",
              "      <td>2</td>\n",
              "      <td>1.1</td>\n",
              "      <td>breed</td>\n",
              "      <td></td>\n",
              "      <td></td>\n",
              "    </tr>\n",
              "  </tbody>\n",
              "</table>\n",
              "<p>638 rows × 12 columns</p>\n",
              "</div>"
            ],
            "text/plain": [
              "     end1  end2  idx  ...               word sentence1_idx sentence2_idx\n",
              "0    30    90    0    ...  class                                        \n",
              "1    27    25    1    ...  stripe                                       \n",
              "2    36    7     2    ...  check                                        \n",
              "3    31    35    3    ...  brush                                        \n",
              "4    23    52    4    ...  acquisition                                  \n",
              "5    7     6     5    ...  thing                                        \n",
              "6    12    38    6    ...  minister                                     \n",
              "7    17    21    7    ...  easiness                                     \n",
              "8    30    48    8    ...  contradistinction                            \n",
              "9    79    8     9    ...  home                                         \n",
              "10   24    14    10   ...  inclination                                  \n",
              "11   12    13    11   ...  assurance                                    \n",
              "12   40    32    12   ...  save                                         \n",
              "13   13    21    13   ...  bang                                         \n",
              "14   17    23    14   ...  tremor                                       \n",
              "15   36    13    15   ...  response                                     \n",
              "16   18    48    16   ...  touch                                        \n",
              "17   4     13    17   ...  hail                                         \n",
              "18   26    19    18   ...  rail                                         \n",
              "19   34    40    19   ...  obstacle                                     \n",
              "20   19    32    20   ...  socialization                                \n",
              "21   42    22    21   ...  rank                                         \n",
              "22   23    4     22   ...  bend                                         \n",
              "23   18    14    23   ...  buy                                          \n",
              "24   5     9     24   ...  youth                                        \n",
              "25   6     3     25   ...  lay                                          \n",
              "26   5     11    26   ...  leave                                        \n",
              "27   22    30    27   ...  aliyah                                       \n",
              "28   7     22    28   ...  violate                                      \n",
              "29   17    39    29   ...  pencil                                       \n",
              "..   ..    ..    ..   ...     ...            ..            ..           \n",
              "608  15    5     608  ...  pound                                        \n",
              "609  6     9     609  ...  donate                                       \n",
              "610  3     59    610  ...  hew                                          \n",
              "611  29    7     611  ...  breed                                        \n",
              "612  14    8     612  ...  risk                                         \n",
              "613  30    41    613  ...  sit                                          \n",
              "614  12    60    614  ...  review                                       \n",
              "615  19    13    615  ...  jockey                                       \n",
              "616  14    16    616  ...  body                                         \n",
              "617  26    22    617  ...  stabilize                                    \n",
              "618  11    64    618  ...  lead                                         \n",
              "619  48    5     619  ...  base                                         \n",
              "620  45    14    620  ...  inadequacy                                   \n",
              "621  38    43    621  ...  upgrade                                      \n",
              "622  37    49    622  ...  criticism                                    \n",
              "623  16    9     623  ...  bastion                                      \n",
              "624  11    39    624  ...  pity                                         \n",
              "625  12    34    625  ...  embellish                                    \n",
              "626  16    31    626  ...  tilt                                         \n",
              "627  42    22    627  ...  facility                                     \n",
              "628  15    24    628  ...  hour                                         \n",
              "629  16    17    629  ...  capital                                      \n",
              "630  25    16    630  ...  fire                                         \n",
              "631  38    74    631  ...  torture                                      \n",
              "632  19    44    632  ...  passage                                      \n",
              "633  4     16    633  ...  rise                                         \n",
              "634  6     15    634  ...  chisel                                       \n",
              "635  8     8     635  ...  bane                                         \n",
              "636  10    4     636  ...  hang                                         \n",
              "637  37    7     637  ...  breed                                        \n",
              "\n",
              "[638 rows x 12 columns]"
            ]
          },
          "metadata": {
            "tags": []
          },
          "execution_count": 229
        }
      ]
    },
    {
      "cell_type": "code",
      "metadata": {
        "id": "DeJ89lzewqVo",
        "colab_type": "code",
        "outputId": "92c4c175-a47a-4b57-c657-8f1bbd1d9e74",
        "colab": {
          "base_uri": "https://localhost:8080/",
          "height": 232
        }
      },
      "source": [
        "task_name = \"WiC\"\n",
        "data_dir = os.environ.get(\"SUPERGLUEDATA\", os.path.join(str(cwd.parents[0]), \"./snorkel-superglue-master/Data\"))\n",
        "split = \"valid\"\n",
        "max_data_samples = None # max examples to include in dataset\n",
        "\n",
        "jsonl_path = get_jsonl_path(data_dir, task_name, split)\n",
        "# print(jsonl_path)\n",
        "# data_df = pd.read_json(jsonl_path, lines=True)\n",
        "\n",
        "wic_df = pd.DataFrame.from_records(get_rowss(jsonl_path, max_data_samples))\n",
        "\n",
        "wic_df[[\"sentence1_idx\"]].head()\n",
        "\n"
      ],
      "execution_count": 0,
      "outputs": [
        {
          "output_type": "error",
          "ename": "NameError",
          "evalue": "ignored",
          "traceback": [
            "\u001b[0;31m---------------------------------------------------------------------------\u001b[0m",
            "\u001b[0;31mNameError\u001b[0m                                 Traceback (most recent call last)",
            "\u001b[0;32m<ipython-input-16-9e850ef5a8e8>\u001b[0m in \u001b[0;36m<module>\u001b[0;34m()\u001b[0m\n\u001b[1;32m      4\u001b[0m \u001b[0mmax_data_samples\u001b[0m \u001b[0;34m=\u001b[0m \u001b[0;32mNone\u001b[0m \u001b[0;31m# max examples to include in dataset\u001b[0m\u001b[0;34m\u001b[0m\u001b[0;34m\u001b[0m\u001b[0m\n\u001b[1;32m      5\u001b[0m \u001b[0;34m\u001b[0m\u001b[0m\n\u001b[0;32m----> 6\u001b[0;31m \u001b[0mjsonl_path\u001b[0m \u001b[0;34m=\u001b[0m \u001b[0mget_jsonl_path\u001b[0m\u001b[0;34m(\u001b[0m\u001b[0mdata_dir\u001b[0m\u001b[0;34m,\u001b[0m \u001b[0mtask_name\u001b[0m\u001b[0;34m,\u001b[0m \u001b[0msplit\u001b[0m\u001b[0;34m)\u001b[0m\u001b[0;34m\u001b[0m\u001b[0;34m\u001b[0m\u001b[0m\n\u001b[0m\u001b[1;32m      7\u001b[0m \u001b[0;31m# print(jsonl_path)\u001b[0m\u001b[0;34m\u001b[0m\u001b[0;34m\u001b[0m\u001b[0;34m\u001b[0m\u001b[0m\n\u001b[1;32m      8\u001b[0m \u001b[0;31m# data_df = pd.read_json(jsonl_path, lines=True)\u001b[0m\u001b[0;34m\u001b[0m\u001b[0;34m\u001b[0m\u001b[0;34m\u001b[0m\u001b[0m\n",
            "\u001b[0;31mNameError\u001b[0m: name 'get_jsonl_path' is not defined"
          ]
        }
      ]
    },
    {
      "cell_type": "code",
      "metadata": {
        "id": "pL6bUlFMm1tt",
        "colab_type": "code",
        "colab": {}
      },
      "source": [
        "import json\n",
        "\n",
        "\n",
        "from pytorch_pretrained_bert import BertTokenizer\n",
        "\n",
        "\n",
        "import superglue_parsers"
      ],
      "execution_count": 0,
      "outputs": []
    },
    {
      "cell_type": "code",
      "metadata": {
        "id": "0rIy2OybmFLS",
        "colab_type": "code",
        "colab": {}
      },
      "source": [
        "def get_rowss(jsonl_path, max_data_samples):\n",
        "  \n",
        "  logger.info(f\"Loading data from {jsonl_path}.\")\n",
        "  \n",
        "  rows = [json.loads(row) for row in open(jsonl_path, encoding=\"utf-8\")]\n",
        "  \n",
        "      \n",
        "  print(rows)    \n",
        "      \n",
        "  for i in range(2):\n",
        "    logger.info(f\"Sample {i}: {rows[i]}\")\n",
        "#     print(open(jsonl_path, encoding=\"utf-8\"))\n",
        "    # Truncate to max_data_samples\n",
        "  \n",
        "  \n",
        "  if max_data_samples:\n",
        "    rows = rows[:max_data_samples]\n",
        "    logger.info(f\"Truncating to {max_data_samples} samples.\")\n",
        "\n",
        "  for row in rows:\n",
        "    row[\"sentence1_idx\"] = int(row[\"idx\"])\n",
        "    row[\"sentence2_idx\"] = int(row[\"idx\"])\n",
        "    row[\"label\"] = row[\"label\"] if \"label\" in row else True\n",
        "    \n",
        "  return rows\n",
        "import logging  \n",
        "logger = logging.getLogger(__name__)\n",
        "\n",
        "def get_ro(jsonl_path, max_data_samples):\n",
        "    logger.info(f\"Loading data from {jsonl_path}.\")\n",
        "    rows = [json.loads(row) for row in open(jsonl_path, encoding=\"utf-8\")]\n",
        "    for i in range(2):\n",
        "        logger.info(f\"Sample {i}: {rows[i]}\")\n",
        "    print(rows)\n",
        "    # Truncate to max_data_samples\n",
        "    if max_data_samples:\n",
        "        rows = rows[:max_data_samples]\n",
        "        logger.info(f\"Truncating to {max_data_samples} samples.\")\n",
        "\n",
        "    for row in rows:\n",
        "        row[\"sentence1_idx\"] = int(row[\"idx\"])\n",
        "        row[\"sentence2_idx\"] = int(row[\"idx\"])\n",
        "        row[\"label\"] = row[\"label\"] if \"label\" in row else True\n",
        "\n",
        "    return rows\n"
      ],
      "execution_count": 0,
      "outputs": []
    },
    {
      "cell_type": "code",
      "metadata": {
        "id": "yK2q9igXlydt",
        "colab_type": "code",
        "colab": {}
      },
      "source": [
        "bert_model = \"bert-large-cased\"\n",
        "tokenizer_name = \"bert-large-cased\"\n",
        "batch_size = 4\n",
        "max_sequence_length = 256"
      ],
      "execution_count": 0,
      "outputs": []
    },
    {
      "cell_type": "code",
      "metadata": {
        "id": "rP53zQvsl_nU",
        "colab_type": "code",
        "outputId": "3ca3329b-e140-428f-c078-b3cdb0d7b1cc",
        "colab": {
          "base_uri": "https://localhost:8080/",
          "height": 34
        }
      },
      "source": [
        "tokenizer = get_tokenizer(tokenizer_name)\n",
        "print(max_data_samples)"
      ],
      "execution_count": 0,
      "outputs": [
        {
          "output_type": "stream",
          "text": [
            "None\n"
          ],
          "name": "stdout"
        }
      ]
    },
    {
      "cell_type": "code",
      "metadata": {
        "id": "au0Tt2UZmBri",
        "colab_type": "code",
        "colab": {}
      },
      "source": [
        "\n",
        "from dataloaders import get_dataloaders\n",
        "\n",
        "dataloaders = get_dataloaders(\n",
        "    task_name=TASK_NAME,\n",
        "    tokenizer_name=BERT_MODEL,\n",
        "    **dataloader_config\n",
        ")"
      ],
      "execution_count": 0,
      "outputs": []
    },
    {
      "cell_type": "code",
      "metadata": {
        "id": "KtXhsSkEte49",
        "colab_type": "code",
        "colab": {}
      },
      "source": [
        "def get_dataseet(\n",
        "    data_dir: str,\n",
        "    task_name: str,\n",
        "    split: str,\n",
        "    tokenizer: BertTokenizer,\n",
        "    max_data_samples: int,\n",
        "    max_sequence_length: int,\n",
        "):\n",
        "    jsonl_path = get_jsonl_path(data_dir, task_name, split)\n",
        "    return superglue_parsers.parser[task_name](\n",
        "        jsonl_path, tokenizer, max_data_samples, max_sequence_length\n",
        "    )\n"
      ],
      "execution_count": 0,
      "outputs": []
    },
    {
      "cell_type": "code",
      "metadata": {
        "id": "K3JEhLp3vYLs",
        "colab_type": "code",
        "colab": {}
      },
      "source": [
        "base_task = superglue_tasks.task_funcs[task_name](bert_model)\n",
        "tasks = [base_task]\n",
        "tasks"
      ],
      "execution_count": 0,
      "outputs": []
    },
    {
      "cell_type": "code",
      "metadata": {
        "id": "gPYiJOKn1D4m",
        "colab_type": "code",
        "colab": {}
      },
      "source": [
        "!rm wic.py"
      ],
      "execution_count": 0,
      "outputs": []
    },
    {
      "cell_type": "code",
      "metadata": {
        "id": "ItWWU9zJ1LDt",
        "colab_type": "code",
        "outputId": "ca91c0ae-7925-48ca-84dd-b265482a80e9",
        "colab": {
          "base_uri": "https://localhost:8080/",
          "height": 187
        }
      },
      "source": [
        "!unzip RTE.zip"
      ],
      "execution_count": 0,
      "outputs": [
        {
          "output_type": "stream",
          "text": [
            "Archive:  RTE.zip\n",
            "   creating: RTE/\n",
            "  inflating: RTE/train.jsonl         \n",
            "   creating: __MACOSX/RTE/\n",
            "  inflating: __MACOSX/RTE/._train.jsonl  \n",
            "  inflating: RTE/test.jsonl          \n",
            "  inflating: __MACOSX/RTE/._test.jsonl  \n",
            "  inflating: RTE/val.jsonl           \n",
            "  inflating: __MACOSX/RTE/._val.jsonl  \n",
            "  inflating: __MACOSX/._RTE          \n"
          ],
          "name": "stdout"
        }
      ]
    },
    {
      "cell_type": "code",
      "metadata": {
        "id": "AilrDzp91MAm",
        "colab_type": "code",
        "outputId": "d3442e9e-d01a-4d70-8a92-c9de27e4f7e6",
        "colab": {
          "resources": {
            "http://localhost:8080/nbextensions/google.colab/files.js": {
              "data": "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",
              "ok": true,
              "headers": [
                [
                  "content-type",
                  "application/javascript"
                ]
              ],
              "status": 200,
              "status_text": ""
            }
          },
          "base_uri": "https://localhost:8080/",
          "height": 71
        }
      },
      "source": [
        "from google.colab import files\n",
        "uploaded = files.upload()"
      ],
      "execution_count": 0,
      "outputs": [
        {
          "output_type": "display_data",
          "data": {
            "text/html": [
              "\n",
              "     <input type=\"file\" id=\"files-3627e63e-a9d2-44e8-b70d-db151c8744d5\" name=\"files[]\" multiple disabled />\n",
              "     <output id=\"result-3627e63e-a9d2-44e8-b70d-db151c8744d5\">\n",
              "      Upload widget is only available when the cell has been executed in the\n",
              "      current browser session. Please rerun this cell to enable.\n",
              "      </output>\n",
              "      <script src=\"/nbextensions/google.colab/files.js\"></script> "
            ],
            "text/plain": [
              "<IPython.core.display.HTML object>"
            ]
          },
          "metadata": {
            "tags": []
          }
        },
        {
          "output_type": "stream",
          "text": [
            "Saving RTE.zip to RTE.zip\n"
          ],
          "name": "stdout"
        }
      ]
    },
    {
      "cell_type": "markdown",
      "metadata": {
        "id": "gbs4ZLjfkAsb",
        "colab_type": "text"
      },
      "source": [
        "When you execute your script, CWD is set to the directory where your script is."
      ]
    },
    {
      "cell_type": "code",
      "metadata": {
        "id": "5Ra7Xq4hE8L1",
        "colab_type": "code",
        "colab": {}
      },
      "source": [
        "import os, sys\n",
        "from pathlib import Path\n",
        "\n",
        "if not \"cwd\" in globals():\n",
        "    cwd = Path(os.getcwd())\n"
      ],
      "execution_count": 0,
      "outputs": []
    },
    {
      "cell_type": "markdown",
      "metadata": {
        "id": "bmKqlv9xkToO",
        "colab_type": "text"
      },
      "source": [
        "Usine Bert pre trained model.\n",
        "Out of four model using bert_large-cases\n",
        "\n",
        "\n",
        "Use ADAM optimer defined by bert"
      ]
    },
    {
      "cell_type": "code",
      "metadata": {
        "id": "no4S1EedE9vt",
        "colab_type": "code",
        "colab": {}
      },
      "source": [
        "\n",
        "TASK_NAME = \"RTE\"\n",
        "BERT_MODEL = \"bert-large-cased\"\n",
        "\n",
        "dataloader_config = {\n",
        "    \"batch_size\": 8,\n",
        "    \"data_dir\": os.environ.get(\"SUPERGLUEDATA\", os.path.join(str(cwd.parents[0]), \"./snorkel-superglue-master/Data\")),\n",
        "    \"splits\": [\"train\", \"valid\"],\n",
        "}\n",
        "\n",
        "trainer_config = {\n",
        "    \"lr\": 2e-5,\n",
        "    \"optimizer\": \"adamax\",\n",
        "    \"n_epochs\": 15,\n",
        "    \"conter_unit\": \"epochs\",\n",
        "    \"evaluation_freq\": 0.25,\n",
        "}"
      ],
      "execution_count": 0,
      "outputs": []
    },
    {
      "cell_type": "markdown",
      "metadata": {
        "id": "GO87TkJikkRp",
        "colab_type": "text"
      },
      "source": [
        "load data and return dataloaders"
      ]
    },
    {
      "cell_type": "code",
      "metadata": {
        "id": "mDZ0pPBCFEzv",
        "colab_type": "code",
        "outputId": "66886d24-cbb0-449d-faaf-a8df50739695",
        "colab": {
          "base_uri": "https://localhost:8080/",
          "height": 51
        }
      },
      "source": [
        "\n",
        "from dataloaders import get_dataloaders\n",
        "\n",
        "dataloaders = get_dataloaders(\n",
        "    task_name=TASK_NAME,\n",
        "    tokenizer_name=BERT_MODEL,\n",
        "    **dataloader_config\n",
        ")\n",
        "\n",
        "dataloaders"
      ],
      "execution_count": 0,
      "outputs": [
        {
          "output_type": "execute_result",
          "data": {
            "text/plain": [
              "[<snorkel.mtl.data.MultitaskDataLoader at 0x7f6f68c8f048>,\n",
              " <snorkel.mtl.data.MultitaskDataLoader at 0x7f6f68c8f438>]"
            ]
          },
          "metadata": {
            "tags": []
          },
          "execution_count": 296
        }
      ]
    },
    {
      "cell_type": "code",
      "metadata": {
        "id": "KWZokZ_XFIlR",
        "colab_type": "code",
        "outputId": "f29d0f8f-40c2-44d9-d1c0-dc3e5bbfdb30",
        "colab": {
          "base_uri": "https://localhost:8080/",
          "height": 34
        }
      },
      "source": [
        "from superglue_tasks import task_funcs\n",
        "\n",
        "task = task_funcs[TASK_NAME](BERT_MODEL)"
      ],
      "execution_count": 0,
      "outputs": [
        {
          "output_type": "stream",
          "text": [
            "100%|██████████| 1242874899/1242874899 [00:32<00:00, 38291927.81B/s]\n"
          ],
          "name": "stderr"
        }
      ]
    },
    {
      "cell_type": "code",
      "metadata": {
        "id": "t1l52If1GA06",
        "colab_type": "code",
        "colab": {}
      },
      "source": [
        "from snorkel.mtl.model import MultitaskModel\n",
        "from snorkel.mtl.trainer import Trainer\n",
        "\n",
        "model = MultitaskModel(tasks=[task], device=-1, dataparallel=False)"
      ],
      "execution_count": 0,
      "outputs": []
    },
    {
      "cell_type": "markdown",
      "metadata": {
        "id": "5PQL6OAjns2o",
        "colab_type": "text"
      },
      "source": [
        "get the pre trained bert  model which will save our time and memory\n",
        "  if you want to train the bert model:\n",
        "  use following code\n",
        "  trainer = Trainer(**trainer_config) \n",
        "\n",
        "  trainer.train_model(model, dataloaders)"
      ]
    },
    {
      "cell_type": "code",
      "metadata": {
        "id": "UR9sb3zBGDgj",
        "colab_type": "code",
        "outputId": "2f2a5083-19aa-47e9-dfba-4cdb53f2219f",
        "colab": {
          "base_uri": "https://localhost:8080/",
          "height": 609
        }
      },
      "source": [
        "! wget -nc https://www.dropbox.com/s/t2ri9o0iz765hsn/RTE_bert.pth?dl=0 && mv RTE_bert.pth?dl=0 RTE_bert.pth\n",
        "model.load(\"RTE_bert.pth\")"
      ],
      "execution_count": 0,
      "outputs": [
        {
          "output_type": "stream",
          "text": [
            "--2019-08-09 09:10:16--  https://www.dropbox.com/s/t2ri9o0iz765hsn/RTE_bert.pth?dl=0\n",
            "Resolving www.dropbox.com (www.dropbox.com)... 162.125.1.1, 2620:100:601b:1::a27d:801\n",
            "Connecting to www.dropbox.com (www.dropbox.com)|162.125.1.1|:443... connected.\n",
            "HTTP request sent, awaiting response... 301 Moved Permanently\n",
            "Location: /s/raw/t2ri9o0iz765hsn/RTE_bert.pth [following]\n",
            "--2019-08-09 09:10:16--  https://www.dropbox.com/s/raw/t2ri9o0iz765hsn/RTE_bert.pth\n",
            "Reusing existing connection to www.dropbox.com:443.\n",
            "HTTP request sent, awaiting response... 302 Found\n",
            "Location: https://uc339f237333998a5c22478adb5c.dl.dropboxusercontent.com/cd/0/inline/AmR5qHOaSgSa1Tt8FAks6hS51jk4ikNyAkPztXiGzIQdOUSxGFy4hdQONfKuHlHmzqSgkm8E5FsxUKV1Gup6KzY-HR5BfyzNdCCVie2Zqzh5zw/file# [following]\n",
            "--2019-08-09 09:10:16--  https://uc339f237333998a5c22478adb5c.dl.dropboxusercontent.com/cd/0/inline/AmR5qHOaSgSa1Tt8FAks6hS51jk4ikNyAkPztXiGzIQdOUSxGFy4hdQONfKuHlHmzqSgkm8E5FsxUKV1Gup6KzY-HR5BfyzNdCCVie2Zqzh5zw/file\n",
            "Resolving uc339f237333998a5c22478adb5c.dl.dropboxusercontent.com (uc339f237333998a5c22478adb5c.dl.dropboxusercontent.com)... 162.125.1.6, 2620:100:6016:6::a27d:106\n",
            "Connecting to uc339f237333998a5c22478adb5c.dl.dropboxusercontent.com (uc339f237333998a5c22478adb5c.dl.dropboxusercontent.com)|162.125.1.6|:443... connected.\n",
            "HTTP request sent, awaiting response... 302 FOUND\n",
            "Location: /cd/0/inline2/AmScc50Yj3X52Wjoooud7Kf_rfjnkOQemCn6IcLKgFIkq8la8ydDRBkzwj2GLMOOHUSVk6bVCz3zQ-TS2nrxHBJ6zjYfdT1VB1AINlfxaZrHl89vizH9aCZVPocUMapCjYV2Ge1i9lSx4rMpsjI03Zx8_8AAlB-x6T0gvIBfKT2UufiC5eS40ey5C8heuY3bEX9MOPag9mRnxX52VqjllSnBJ8OsUMXpSY_gQfS9xmLWlWOtq9BvFBBGzmOMRoKibAwSIahjyc24H8u9kQO8MGdRDv1KgWjnJ2NP9HDMYmTrUhsmB3jZGj6MmmeWqlyHiAd8kA_CPeZp8vjXYxVfRlyU/file [following]\n",
            "--2019-08-09 09:10:17--  https://uc339f237333998a5c22478adb5c.dl.dropboxusercontent.com/cd/0/inline2/AmScc50Yj3X52Wjoooud7Kf_rfjnkOQemCn6IcLKgFIkq8la8ydDRBkzwj2GLMOOHUSVk6bVCz3zQ-TS2nrxHBJ6zjYfdT1VB1AINlfxaZrHl89vizH9aCZVPocUMapCjYV2Ge1i9lSx4rMpsjI03Zx8_8AAlB-x6T0gvIBfKT2UufiC5eS40ey5C8heuY3bEX9MOPag9mRnxX52VqjllSnBJ8OsUMXpSY_gQfS9xmLWlWOtq9BvFBBGzmOMRoKibAwSIahjyc24H8u9kQO8MGdRDv1KgWjnJ2NP9HDMYmTrUhsmB3jZGj6MmmeWqlyHiAd8kA_CPeZp8vjXYxVfRlyU/file\n",
            "Reusing existing connection to uc339f237333998a5c22478adb5c.dl.dropboxusercontent.com:443.\n",
            "HTTP request sent, awaiting response... 200 OK\n",
            "Length: 1334429106 (1.2G) [application/octet-stream]\n",
            "Saving to: ‘RTE_bert.pth?dl=0’\n",
            "\n",
            "RTE_bert.pth?dl=0   100%[===================>]   1.24G  39.3MB/s    in 35s     \n",
            "\n",
            "2019-08-09 09:10:53 (35.9 MB/s) - ‘RTE_bert.pth?dl=0’ saved [1334429106/1334429106]\n",
            "\n"
          ],
          "name": "stdout"
        },
        {
          "output_type": "error",
          "ename": "NameError",
          "evalue": "ignored",
          "traceback": [
            "\u001b[0;31m---------------------------------------------------------------------------\u001b[0m",
            "\u001b[0;31mNameError\u001b[0m                                 Traceback (most recent call last)",
            "\u001b[0;32m<ipython-input-297-ecc283b139d8>\u001b[0m in \u001b[0;36m<module>\u001b[0;34m()\u001b[0m\n\u001b[1;32m      1\u001b[0m \u001b[0mget_ipython\u001b[0m\u001b[0;34m(\u001b[0m\u001b[0;34m)\u001b[0m\u001b[0;34m.\u001b[0m\u001b[0msystem\u001b[0m\u001b[0;34m(\u001b[0m\u001b[0;34m' wget -nc https://www.dropbox.com/s/t2ri9o0iz765hsn/RTE_bert.pth?dl=0 && mv RTE_bert.pth?dl=0 RTE_bert.pth'\u001b[0m\u001b[0;34m)\u001b[0m\u001b[0;34m\u001b[0m\u001b[0;34m\u001b[0m\u001b[0m\n\u001b[0;32m----> 2\u001b[0;31m \u001b[0mmodel\u001b[0m\u001b[0;34m.\u001b[0m\u001b[0mload\u001b[0m\u001b[0;34m(\u001b[0m\u001b[0;34m\"RTE_bert.pth\"\u001b[0m\u001b[0;34m)\u001b[0m\u001b[0;34m\u001b[0m\u001b[0;34m\u001b[0m\u001b[0m\n\u001b[0m",
            "\u001b[0;31mNameError\u001b[0m: name 'model' is not defined"
          ]
        }
      ]
    },
    {
      "cell_type": "code",
      "metadata": {
        "id": "cJ62H9HAonbT",
        "colab_type": "code",
        "outputId": "69cd2503-e330-473b-a170-6fb2965430c1",
        "colab": {
          "base_uri": "https://localhost:8080/",
          "height": 34
        }
      },
      "source": [
        "dataloaders[1]"
      ],
      "execution_count": 0,
      "outputs": [
        {
          "output_type": "execute_result",
          "data": {
            "text/plain": [
              "<snorkel.mtl.data.MultitaskDataLoader at 0x7f6f67fefac8>"
            ]
          },
          "metadata": {
            "tags": []
          },
          "execution_count": 295
        }
      ]
    },
    {
      "cell_type": "markdown",
      "metadata": {
        "id": "n-ZYHPtlngc0",
        "colab_type": "text"
      },
      "source": [
        ""
      ]
    },
    {
      "cell_type": "code",
      "metadata": {
        "id": "AMiARXx1Goxu",
        "colab_type": "code",
        "outputId": "770ebbd7-ba0c-4571-97b4-7b59511e585f",
        "colab": {
          "base_uri": "https://localhost:8080/",
          "height": 68
        }
      },
      "source": [
        "%%time\n",
        "model.score(dataloaders[1])"
      ],
      "execution_count": 0,
      "outputs": [
        {
          "output_type": "stream",
          "text": [
            "CPU times: user 7min 38s, sys: 7.87 s, total: 7min 46s\n",
            "Wall time: 7min 47s\n"
          ],
          "name": "stdout"
        },
        {
          "output_type": "execute_result",
          "data": {
            "text/plain": [
              "{'RTE/SuperGLUE/valid/accuracy': 0.7364620938628159}"
            ]
          },
          "metadata": {
            "tags": []
          },
          "execution_count": 291
        }
      ]
    },
    {
      "cell_type": "markdown",
      "metadata": {
        "id": "Sg_yMkappbV8",
        "colab_type": "text"
      },
      "source": [
        "Here we have found the accuracy of bert model. which is 0.736.\n",
        "\n",
        "Now lets use some slicing functions"
      ]
    },
    {
      "cell_type": "code",
      "metadata": {
        "id": "THcGb69iG6jz",
        "colab_type": "code",
        "colab": {}
      },
      "source": [
        "from snorkel.slicing.sf import slicing_function"
      ],
      "execution_count": 0,
      "outputs": []
    },
    {
      "cell_type": "code",
      "metadata": {
        "id": "DhcMbumtKrja",
        "colab_type": "code",
        "colab": {}
      },
      "source": [
        "@slicing_function()\n",
        "def slice_temporal_preposition(example):\n",
        "    temporal_prepositions = [\"after\", \"before\", \"past\"]\n",
        "    both_sentences = example.sentence1 + example.sentence2\n",
        "    return any([p in both_sentences for p in temporal_prepositions])\n",
        "\n",
        "@slicing_function()\n",
        "def slice_possessive_preposition(example):\n",
        "    possessive_prepositions = [\"inside of\", \"with\", \"within\"]\n",
        "    both_sentences = example.sentence1 + example.sentence2\n",
        "    return any([p in both_sentences for p in possessive_prepositions])\n"
      ],
      "execution_count": 0,
      "outputs": []
    },
    {
      "cell_type": "code",
      "metadata": {
        "id": "OrSfg_J2Ku0L",
        "colab_type": "code",
        "colab": {
          "base_uri": "https://localhost:8080/",
          "height": 1000
        },
        "outputId": "8240dca2-22fa-4066-bc94-7abf8c767ca5"
      },
      "source": [
        "!pip install allennlp"
      ],
      "execution_count": 1,
      "outputs": [
        {
          "output_type": "stream",
          "text": [
            "Collecting allennlp\n",
            "\u001b[?25l  Downloading https://files.pythonhosted.org/packages/30/8c/72b14d20c9cbb0306939ea41109fc599302634fd5c59ccba1a659b7d0360/allennlp-0.8.4-py3-none-any.whl (5.7MB)\n",
            "\u001b[K     |████████████████████████████████| 5.7MB 4.3MB/s \n",
            "\u001b[?25hRequirement already satisfied: flask>=1.0.2 in /usr/local/lib/python3.6/dist-packages (from allennlp) (1.1.1)\n",
            "Requirement already satisfied: tqdm>=4.19 in /usr/local/lib/python3.6/dist-packages (from allennlp) (4.28.1)\n",
            "Requirement already satisfied: sqlparse>=0.2.4 in /usr/local/lib/python3.6/dist-packages (from allennlp) (0.3.0)\n",
            "Collecting jsonnet>=0.10.0; sys_platform != \"win32\" (from allennlp)\n",
            "\u001b[?25l  Downloading https://files.pythonhosted.org/packages/a9/a8/adba6cd0f84ee6ab064e7f70cd03a2836cefd2e063fd565180ec13beae93/jsonnet-0.13.0.tar.gz (255kB)\n",
            "\u001b[K     |████████████████████████████████| 256kB 48.7MB/s \n",
            "\u001b[?25hCollecting unidecode (from allennlp)\n",
            "\u001b[?25l  Downloading https://files.pythonhosted.org/packages/d0/42/d9edfed04228bacea2d824904cae367ee9efd05e6cce7ceaaedd0b0ad964/Unidecode-1.1.1-py2.py3-none-any.whl (238kB)\n",
            "\u001b[K     |████████████████████████████████| 245kB 46.4MB/s \n",
            "\u001b[?25hCollecting word2number>=1.1 (from allennlp)\n",
            "  Downloading https://files.pythonhosted.org/packages/4a/29/a31940c848521f0725f0df6b25dca8917f13a2025b0e8fcbe5d0457e45e6/word2number-1.1.zip\n",
            "Collecting numpydoc>=0.8.0 (from allennlp)\n",
            "  Downloading https://files.pythonhosted.org/packages/6a/f3/7cfe4c616e4b9fe05540256cc9c6661c052c8a4cec2915732793b36e1843/numpydoc-0.9.1.tar.gz\n",
            "Collecting pytorch-pretrained-bert>=0.6.0 (from allennlp)\n",
            "\u001b[?25l  Downloading https://files.pythonhosted.org/packages/d7/e0/c08d5553b89973d9a240605b9c12404bcf8227590de62bae27acbcfe076b/pytorch_pretrained_bert-0.6.2-py3-none-any.whl (123kB)\n",
            "\u001b[K     |████████████████████████████████| 133kB 44.8MB/s \n",
            "\u001b[?25hRequirement already satisfied: gevent>=1.3.6 in /usr/local/lib/python3.6/dist-packages (from allennlp) (1.4.0)\n",
            "Requirement already satisfied: editdistance in /usr/local/lib/python3.6/dist-packages (from allennlp) (0.5.3)\n",
            "Requirement already satisfied: scipy in /usr/local/lib/python3.6/dist-packages (from allennlp) (1.3.0)\n",
            "Collecting flaky (from allennlp)\n",
            "  Downloading https://files.pythonhosted.org/packages/fe/12/0f169abf1aa07c7edef4855cca53703d2e6b7ecbded7829588ac7e7e3424/flaky-3.6.1-py2.py3-none-any.whl\n",
            "Collecting ftfy (from allennlp)\n",
            "\u001b[?25l  Downloading https://files.pythonhosted.org/packages/75/ca/2d9a5030eaf1bcd925dab392762b9709a7ad4bd486a90599d93cd79cb188/ftfy-5.6.tar.gz (58kB)\n",
            "\u001b[K     |████████████████████████████████| 61kB 25.9MB/s \n",
            "\u001b[?25hRequirement already satisfied: pytest in /usr/local/lib/python3.6/dist-packages (from allennlp) (3.6.4)\n",
            "Requirement already satisfied: nltk in /usr/local/lib/python3.6/dist-packages (from allennlp) (3.2.5)\n",
            "Collecting overrides (from allennlp)\n",
            "  Downloading https://files.pythonhosted.org/packages/de/55/3100c6d14c1ed177492fcf8f07c4a7d2d6c996c0a7fc6a9a0a41308e7eec/overrides-1.9.tar.gz\n",
            "Requirement already satisfied: numpy in /usr/local/lib/python3.6/dist-packages (from allennlp) (1.16.4)\n",
            "Requirement already satisfied: torch>=0.4.1 in /usr/local/lib/python3.6/dist-packages (from allennlp) (1.1.0)\n",
            "Requirement already satisfied: scikit-learn in /usr/local/lib/python3.6/dist-packages (from allennlp) (0.21.3)\n",
            "Requirement already satisfied: boto3 in /usr/local/lib/python3.6/dist-packages (from allennlp) (1.9.202)\n",
            "Requirement already satisfied: spacy<2.2,>=2.0.18 in /usr/local/lib/python3.6/dist-packages (from allennlp) (2.1.7)\n",
            "Requirement already satisfied: h5py in /usr/local/lib/python3.6/dist-packages (from allennlp) (2.8.0)\n",
            "Requirement already satisfied: pytz>=2017.3 in /usr/local/lib/python3.6/dist-packages (from allennlp) (2018.9)\n",
            "Collecting parsimonious>=0.8.0 (from allennlp)\n",
            "\u001b[?25l  Downloading https://files.pythonhosted.org/packages/02/fc/067a3f89869a41009e1a7cdfb14725f8ddd246f30f63c645e8ef8a1c56f4/parsimonious-0.8.1.tar.gz (45kB)\n",
            "\u001b[K     |████████████████████████████████| 51kB 22.5MB/s \n",
            "\u001b[?25hCollecting awscli>=1.11.91 (from allennlp)\n",
            "\u001b[?25l  Downloading https://files.pythonhosted.org/packages/8e/75/d09f1d58254cb1dfb3675f08f00333d97df182b7f681dbb6b2b6c7cc9340/awscli-1.16.215-py2.py3-none-any.whl (1.9MB)\n",
            "\u001b[K     |████████████████████████████████| 1.9MB 34.5MB/s \n",
            "\u001b[?25hCollecting responses>=0.7 (from allennlp)\n",
            "  Downloading https://files.pythonhosted.org/packages/d1/5a/b887e89925f1de7890ef298a74438371ed4ed29b33def9e6d02dc6036fd8/responses-0.10.6-py2.py3-none-any.whl\n",
            "Collecting tensorboardX>=1.2 (from allennlp)\n",
            "\u001b[?25l  Downloading https://files.pythonhosted.org/packages/c3/12/dcaf67e1312475b26db9e45e7bb6f32b540671a9ee120b3a72d9e09bc517/tensorboardX-1.8-py2.py3-none-any.whl (216kB)\n",
            "\u001b[K     |████████████████████████████████| 225kB 37.6MB/s \n",
            "\u001b[?25hCollecting conllu==0.11 (from allennlp)\n",
            "  Downloading https://files.pythonhosted.org/packages/d4/2c/856344d9b69baf5b374c395b4286626181a80f0c2b2f704914d18a1cea47/conllu-0.11-py2.py3-none-any.whl\n",
            "Requirement already satisfied: matplotlib>=2.2.3 in /usr/local/lib/python3.6/dist-packages (from allennlp) (3.0.3)\n",
            "Requirement already satisfied: requests>=2.18 in /usr/local/lib/python3.6/dist-packages (from allennlp) (2.21.0)\n",
            "Collecting jsonpickle (from allennlp)\n",
            "  Downloading https://files.pythonhosted.org/packages/07/07/c157520a3ebd166c8c24c6ae0ecae7c3968eb4653ff0e5af369bb82f004d/jsonpickle-1.2-py2.py3-none-any.whl\n",
            "Collecting flask-cors>=3.0.7 (from allennlp)\n",
            "  Downloading https://files.pythonhosted.org/packages/78/38/e68b11daa5d613e3a91e4bf3da76c94ac9ee0d9cd515af9c1ab80d36f709/Flask_Cors-3.0.8-py2.py3-none-any.whl\n",
            "Requirement already satisfied: itsdangerous>=0.24 in /usr/local/lib/python3.6/dist-packages (from flask>=1.0.2->allennlp) (1.1.0)\n",
            "Requirement already satisfied: Jinja2>=2.10.1 in /usr/local/lib/python3.6/dist-packages (from flask>=1.0.2->allennlp) (2.10.1)\n",
            "Requirement already satisfied: click>=5.1 in /usr/local/lib/python3.6/dist-packages (from flask>=1.0.2->allennlp) (7.0)\n",
            "Requirement already satisfied: Werkzeug>=0.15 in /usr/local/lib/python3.6/dist-packages (from flask>=1.0.2->allennlp) (0.15.5)\n",
            "Requirement already satisfied: sphinx>=1.6.5 in /usr/local/lib/python3.6/dist-packages (from numpydoc>=0.8.0->allennlp) (1.8.5)\n",
            "Collecting regex (from pytorch-pretrained-bert>=0.6.0->allennlp)\n",
            "\u001b[?25l  Downloading https://files.pythonhosted.org/packages/6f/4e/1b178c38c9a1a184288f72065a65ca01f3154df43c6ad898624149b8b4e0/regex-2019.06.08.tar.gz (651kB)\n",
            "\u001b[K     |████████████████████████████████| 655kB 35.8MB/s \n",
            "\u001b[?25hRequirement already satisfied: greenlet>=0.4.14; platform_python_implementation == \"CPython\" in /usr/local/lib/python3.6/dist-packages (from gevent>=1.3.6->allennlp) (0.4.15)\n",
            "Requirement already satisfied: wcwidth in /usr/local/lib/python3.6/dist-packages (from ftfy->allennlp) (0.1.7)\n",
            "Requirement already satisfied: py>=1.5.0 in /usr/local/lib/python3.6/dist-packages (from pytest->allennlp) (1.8.0)\n",
            "Requirement already satisfied: pluggy<0.8,>=0.5 in /usr/local/lib/python3.6/dist-packages (from pytest->allennlp) (0.7.1)\n",
            "Requirement already satisfied: attrs>=17.4.0 in /usr/local/lib/python3.6/dist-packages (from pytest->allennlp) (19.1.0)\n",
            "Requirement already satisfied: more-itertools>=4.0.0 in /usr/local/lib/python3.6/dist-packages (from pytest->allennlp) (7.2.0)\n",
            "Requirement already satisfied: setuptools in /usr/local/lib/python3.6/dist-packages (from pytest->allennlp) (41.0.1)\n",
            "Requirement already satisfied: atomicwrites>=1.0 in /usr/local/lib/python3.6/dist-packages (from pytest->allennlp) (1.3.0)\n",
            "Requirement already satisfied: six>=1.10.0 in /usr/local/lib/python3.6/dist-packages (from pytest->allennlp) (1.12.0)\n",
            "Requirement already satisfied: joblib>=0.11 in /usr/local/lib/python3.6/dist-packages (from scikit-learn->allennlp) (0.13.2)\n",
            "Requirement already satisfied: jmespath<1.0.0,>=0.7.1 in /usr/local/lib/python3.6/dist-packages (from boto3->allennlp) (0.9.4)\n",
            "Requirement already satisfied: botocore<1.13.0,>=1.12.202 in /usr/local/lib/python3.6/dist-packages (from boto3->allennlp) (1.12.202)\n",
            "Requirement already satisfied: s3transfer<0.3.0,>=0.2.0 in /usr/local/lib/python3.6/dist-packages (from boto3->allennlp) (0.2.1)\n",
            "Requirement already satisfied: preshed<2.1.0,>=2.0.1 in /usr/local/lib/python3.6/dist-packages (from spacy<2.2,>=2.0.18->allennlp) (2.0.1)\n",
            "Requirement already satisfied: srsly<1.1.0,>=0.0.6 in /usr/local/lib/python3.6/dist-packages (from spacy<2.2,>=2.0.18->allennlp) (0.0.7)\n",
            "Requirement already satisfied: plac<1.0.0,>=0.9.6 in /usr/local/lib/python3.6/dist-packages (from spacy<2.2,>=2.0.18->allennlp) (0.9.6)\n",
            "Requirement already satisfied: blis<0.3.0,>=0.2.2 in /usr/local/lib/python3.6/dist-packages (from spacy<2.2,>=2.0.18->allennlp) (0.2.4)\n",
            "Requirement already satisfied: wasabi<1.1.0,>=0.2.0 in /usr/local/lib/python3.6/dist-packages (from spacy<2.2,>=2.0.18->allennlp) (0.2.2)\n",
            "Requirement already satisfied: cymem<2.1.0,>=2.0.2 in /usr/local/lib/python3.6/dist-packages (from spacy<2.2,>=2.0.18->allennlp) (2.0.2)\n",
            "Requirement already satisfied: murmurhash<1.1.0,>=0.28.0 in /usr/local/lib/python3.6/dist-packages (from spacy<2.2,>=2.0.18->allennlp) (1.0.2)\n",
            "Requirement already satisfied: thinc<7.1.0,>=7.0.8 in /usr/local/lib/python3.6/dist-packages (from spacy<2.2,>=2.0.18->allennlp) (7.0.8)\n",
            "Collecting colorama<=0.3.9,>=0.2.5 (from awscli>=1.11.91->allennlp)\n",
            "  Downloading https://files.pythonhosted.org/packages/db/c8/7dcf9dbcb22429512708fe3a547f8b6101c0d02137acbd892505aee57adf/colorama-0.3.9-py2.py3-none-any.whl\n",
            "Collecting rsa<=3.5.0,>=3.1.2 (from awscli>=1.11.91->allennlp)\n",
            "\u001b[?25l  Downloading https://files.pythonhosted.org/packages/e1/ae/baedc9cb175552e95f3395c43055a6a5e125ae4d48a1d7a924baca83e92e/rsa-3.4.2-py2.py3-none-any.whl (46kB)\n",
            "\u001b[K     |████████████████████████████████| 51kB 23.3MB/s \n",
            "\u001b[?25hRequirement already satisfied: docutils<0.15,>=0.10 in /usr/local/lib/python3.6/dist-packages (from awscli>=1.11.91->allennlp) (0.14)\n",
            "Requirement already satisfied: PyYAML<=5.1,>=3.10; python_version != \"2.6\" in /usr/local/lib/python3.6/dist-packages (from awscli>=1.11.91->allennlp) (3.13)\n",
            "Requirement already satisfied: protobuf>=3.2.0 in /usr/local/lib/python3.6/dist-packages (from tensorboardX>=1.2->allennlp) (3.7.1)\n",
            "Requirement already satisfied: cycler>=0.10 in /usr/local/lib/python3.6/dist-packages (from matplotlib>=2.2.3->allennlp) (0.10.0)\n",
            "Requirement already satisfied: python-dateutil>=2.1 in /usr/local/lib/python3.6/dist-packages (from matplotlib>=2.2.3->allennlp) (2.5.3)\n",
            "Requirement already satisfied: kiwisolver>=1.0.1 in /usr/local/lib/python3.6/dist-packages (from matplotlib>=2.2.3->allennlp) (1.1.0)\n",
            "Requirement already satisfied: pyparsing!=2.0.4,!=2.1.2,!=2.1.6,>=2.0.1 in /usr/local/lib/python3.6/dist-packages (from matplotlib>=2.2.3->allennlp) (2.4.2)\n",
            "Requirement already satisfied: idna<2.9,>=2.5 in /usr/local/lib/python3.6/dist-packages (from requests>=2.18->allennlp) (2.8)\n",
            "Requirement already satisfied: chardet<3.1.0,>=3.0.2 in /usr/local/lib/python3.6/dist-packages (from requests>=2.18->allennlp) (3.0.4)\n",
            "Requirement already satisfied: certifi>=2017.4.17 in /usr/local/lib/python3.6/dist-packages (from requests>=2.18->allennlp) (2019.6.16)\n",
            "Requirement already satisfied: urllib3<1.25,>=1.21.1 in /usr/local/lib/python3.6/dist-packages (from requests>=2.18->allennlp) (1.24.3)\n",
            "Requirement already satisfied: MarkupSafe>=0.23 in /usr/local/lib/python3.6/dist-packages (from Jinja2>=2.10.1->flask>=1.0.2->allennlp) (1.1.1)\n",
            "Requirement already satisfied: Pygments>=2.0 in /usr/local/lib/python3.6/dist-packages (from sphinx>=1.6.5->numpydoc>=0.8.0->allennlp) (2.1.3)\n",
            "Requirement already satisfied: alabaster<0.8,>=0.7 in /usr/local/lib/python3.6/dist-packages (from sphinx>=1.6.5->numpydoc>=0.8.0->allennlp) (0.7.12)\n",
            "Requirement already satisfied: imagesize in /usr/local/lib/python3.6/dist-packages (from sphinx>=1.6.5->numpydoc>=0.8.0->allennlp) (1.1.0)\n",
            "Requirement already satisfied: packaging in /usr/local/lib/python3.6/dist-packages (from sphinx>=1.6.5->numpydoc>=0.8.0->allennlp) (19.1)\n",
            "Requirement already satisfied: sphinxcontrib-websupport in /usr/local/lib/python3.6/dist-packages (from sphinx>=1.6.5->numpydoc>=0.8.0->allennlp) (1.1.2)\n",
            "Requirement already satisfied: babel!=2.0,>=1.3 in /usr/local/lib/python3.6/dist-packages (from sphinx>=1.6.5->numpydoc>=0.8.0->allennlp) (2.7.0)\n",
            "Requirement already satisfied: snowballstemmer>=1.1 in /usr/local/lib/python3.6/dist-packages (from sphinx>=1.6.5->numpydoc>=0.8.0->allennlp) (1.9.0)\n",
            "Requirement already satisfied: pyasn1>=0.1.3 in /usr/local/lib/python3.6/dist-packages (from rsa<=3.5.0,>=3.1.2->awscli>=1.11.91->allennlp) (0.4.6)\n",
            "Building wheels for collected packages: jsonnet, word2number, numpydoc, ftfy, overrides, parsimonious, regex\n",
            "  Building wheel for jsonnet (setup.py) ... \u001b[?25l\u001b[?25hdone\n",
            "  Created wheel for jsonnet: filename=jsonnet-0.13.0-cp36-cp36m-linux_x86_64.whl size=3320367 sha256=764660902d648b9ecd8dfa474fa20da530e7b601c3c1c829116b3bdcd555a899\n",
            "  Stored in directory: /root/.cache/pip/wheels/1a/30/ab/ae4a57b1df44fa20a531edb9601b27603da8f5336225691f3f\n",
            "  Building wheel for word2number (setup.py) ... \u001b[?25l\u001b[?25hdone\n",
            "  Created wheel for word2number: filename=word2number-1.1-cp36-none-any.whl size=5587 sha256=f6132362b37520b1e342d0f9c0570ea1e323c752a3c5153be9613e5c8b529c5b\n",
            "  Stored in directory: /root/.cache/pip/wheels/46/2f/53/5f5c1d275492f2fce1cdab9a9bb12d49286dead829a4078e0e\n",
            "  Building wheel for numpydoc (setup.py) ... \u001b[?25l\u001b[?25hdone\n",
            "  Created wheel for numpydoc: filename=numpydoc-0.9.1-cp36-none-any.whl size=31873 sha256=68310e465767f76f1abcbd9788257f5bd104e40121527d5d2ff9a534b09b7c44\n",
            "  Stored in directory: /root/.cache/pip/wheels/51/30/d1/92a39ba40f21cb70e53f8af96eb98f002a781843c065406500\n",
            "  Building wheel for ftfy (setup.py) ... \u001b[?25l\u001b[?25hdone\n",
            "  Created wheel for ftfy: filename=ftfy-5.6-cp36-none-any.whl size=44554 sha256=4ede0a96ede84df7e69f9c23e2f1e0c142aa0daa96cbf77fda69f750df0fc065\n",
            "  Stored in directory: /root/.cache/pip/wheels/43/34/ce/cbb38d71543c408de56f3c5e26ce8ba495a0fa5a28eaaf1046\n",
            "  Building wheel for overrides (setup.py) ... \u001b[?25l\u001b[?25hdone\n",
            "  Created wheel for overrides: filename=overrides-1.9-cp36-none-any.whl size=4213 sha256=d4951379bc78e975c67fe2d304cdc248b691613001424b63f3755f4d58819344\n",
            "  Stored in directory: /root/.cache/pip/wheels/8d/52/86/e5a83b1797e7d263b458d2334edd2704c78508b3eea9323718\n",
            "  Building wheel for parsimonious (setup.py) ... \u001b[?25l\u001b[?25hdone\n",
            "  Created wheel for parsimonious: filename=parsimonious-0.8.1-cp36-none-any.whl size=42710 sha256=79fba24a9ded3da462cc5c5b91e79ed3495a1967bce5ccc421b91439adee00e2\n",
            "  Stored in directory: /root/.cache/pip/wheels/b7/8d/e7/a0e74217da5caeb3c1c7689639b6d28ddbf9985b840bc96a9a\n",
            "  Building wheel for regex (setup.py) ... \u001b[?25l\u001b[?25hdone\n",
            "  Created wheel for regex: filename=regex-2019.6.8-cp36-cp36m-linux_x86_64.whl size=604154 sha256=3adba6d76112436d6747d537562a041af9999ef1f688509d044d0f166319fe39\n",
            "  Stored in directory: /root/.cache/pip/wheels/35/e4/80/abf3b33ba89cf65cd262af8a22a5a999cc28fbfabea6b38473\n",
            "Successfully built jsonnet word2number numpydoc ftfy overrides parsimonious regex\n",
            "\u001b[31mERROR: awscli 1.16.215 has requirement botocore==1.12.205, but you'll have botocore 1.12.202 which is incompatible.\u001b[0m\n",
            "Installing collected packages: jsonnet, unidecode, word2number, numpydoc, regex, pytorch-pretrained-bert, flaky, ftfy, overrides, parsimonious, colorama, rsa, awscli, responses, tensorboardX, conllu, jsonpickle, flask-cors, allennlp\n",
            "  Found existing installation: rsa 4.0\n",
            "    Uninstalling rsa-4.0:\n",
            "      Successfully uninstalled rsa-4.0\n",
            "Successfully installed allennlp-0.8.4 awscli-1.16.215 colorama-0.3.9 conllu-0.11 flaky-3.6.1 flask-cors-3.0.8 ftfy-5.6 jsonnet-0.13.0 jsonpickle-1.2 numpydoc-0.9.1 overrides-1.9 parsimonious-0.8.1 pytorch-pretrained-bert-0.6.2 regex-2019.6.8 responses-0.10.6 rsa-3.4.2 tensorboardX-1.8 unidecode-1.1.1 word2number-1.1\n"
          ],
          "name": "stdout"
        },
        {
          "output_type": "display_data",
          "data": {
            "application/vnd.colab-display-data+json": {
              "pip_warning": {
                "packages": [
                  "rsa"
                ]
              }
            }
          },
          "metadata": {
            "tags": []
          }
        }
      ]
    },
    {
      "cell_type": "code",
      "metadata": {
        "id": "khCUgkHI0MUB",
        "colab_type": "code",
        "colab": {
          "base_uri": "https://localhost:8080/",
          "height": 34
        },
        "outputId": "c6491a68-d397-4270-94d3-41a9d78edec8"
      },
      "source": [
        "print(\"hello\")"
      ],
      "execution_count": 2,
      "outputs": [
        {
          "output_type": "stream",
          "text": [
            "hello\n"
          ],
          "name": "stdout"
        }
      ]
    },
    {
      "cell_type": "code",
      "metadata": {
        "id": "TCAgm8EW00NK",
        "colab_type": "code",
        "colab": {}
      },
      "source": [
        ""
      ],
      "execution_count": 0,
      "outputs": []
    }
  ]
}