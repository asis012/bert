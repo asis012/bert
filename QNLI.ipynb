{
  "nbformat": 4,
  "nbformat_minor": 0,
  "metadata": {
    "colab": {
      "name": "Untitled13.ipynb",
      "version": "0.3.2",
      "provenance": [],
      "collapsed_sections": [],
      "include_colab_link": true
    },
    "kernelspec": {
      "name": "python3",
      "display_name": "Python 3"
    }
  },
  "cells": [
    {
      "cell_type": "markdown",
      "metadata": {
        "id": "view-in-github",
        "colab_type": "text"
      },
      "source": [
        "<a href=\"https://colab.research.google.com/github/asis012/bert/blob/master/QNLI.ipynb\" target=\"_parent\"><img src=\"https://colab.research.google.com/assets/colab-badge.svg\" alt=\"Open In Colab\"/></a>"
      ]
    },
    {
      "cell_type": "code",
      "metadata": {
        "id": "FCN5y_2gVvin",
        "colab_type": "code",
        "outputId": "7177c7fe-c92f-44d3-c4e1-a0ff64d0ce83",
        "colab": {
          "base_uri": "https://localhost:8080/",
          "height": 34
        }
      },
      "source": [
        "import sys, os\n",
        "from pathlib import Path\n",
        "if not \"cwd\" in globals():\n",
        "    cwd = Path(os.getcwd())\n",
        "cwd\n",
        "\n"
      ],
      "execution_count": 0,
      "outputs": [
        {
          "output_type": "execute_result",
          "data": {
            "text/plain": [
              "PosixPath('/root')"
            ]
          },
          "metadata": {
            "tags": []
          },
          "execution_count": 6
        }
      ]
    },
    {
      "cell_type": "markdown",
      "metadata": {
        "id": "TgNwp-QH7H31",
        "colab_type": "text"
      },
      "source": [
        ""
      ]
    },
    {
      "cell_type": "code",
      "metadata": {
        "id": "_x2FQ7hH7Ie8",
        "colab_type": "code",
        "outputId": "f51a3a28-a64c-4a93-cc70-0a9c7bfa5d92",
        "colab": {
          "base_uri": "https://localhost:8080/",
          "height": 1000
        }
      },
      "source": [
        "!pip install git+git://github.com/HazyResearch/snorkel.git@snorkel-superglue"
      ],
      "execution_count": 0,
      "outputs": [
        {
          "output_type": "stream",
          "text": [
            "Collecting git+git://github.com/HazyResearch/snorkel.git@snorkel-superglue\n",
            "  Cloning git://github.com/HazyResearch/snorkel.git (to revision snorkel-superglue) to /tmp/pip-req-build-h47je2te\n",
            "  Running command git clone -q git://github.com/HazyResearch/snorkel.git /tmp/pip-req-build-h47je2te\n",
            "  Running command git checkout -q eb9ba3476eeb932f31ed92e5cc7dfa475611216e\n",
            "  Installing build dependencies ... \u001b[?25l\u001b[?25hdone\n",
            "  Getting requirements to build wheel ... \u001b[?25l\u001b[?25hdone\n",
            "    Preparing wheel metadata ... \u001b[?25l\u001b[?25hdone\n",
            "Collecting pandas==0.24.0 (from snorkel==0.9.0)\n",
            "\u001b[?25l  Downloading https://files.pythonhosted.org/packages/f9/e1/4a63ed31e1b1362d40ce845a5735c717a959bda992669468dae3420af2cd/pandas-0.24.0-cp36-cp36m-manylinux1_x86_64.whl (10.1MB)\n",
            "\u001b[K     |████████████████████████████████| 10.1MB 2.7MB/s \n",
            "\u001b[?25hCollecting numpy==1.16.0 (from snorkel==0.9.0)\n",
            "\u001b[?25l  Downloading https://files.pythonhosted.org/packages/7b/74/54c5f9bb9bd4dae27a61ec1b39076a39d359b3fb7ba15da79ef23858a9d8/numpy-1.16.0-cp36-cp36m-manylinux1_x86_64.whl (17.3MB)\n",
            "\u001b[K     |████████████████████████████████| 17.3MB 12.7MB/s \n",
            "\u001b[?25hCollecting dill==0.2.9 (from snorkel==0.9.0)\n",
            "\u001b[?25l  Downloading https://files.pythonhosted.org/packages/fe/42/bfe2e0857bc284cbe6a011d93f2a9ad58a22cb894461b199ae72cfef0f29/dill-0.2.9.tar.gz (150kB)\n",
            "\u001b[K     |████████████████████████████████| 153kB 41.2MB/s \n",
            "\u001b[?25hCollecting networkx==2.2 (from snorkel==0.9.0)\n",
            "\u001b[?25l  Downloading https://files.pythonhosted.org/packages/f3/f4/7e20ef40b118478191cec0b58c3192f822cace858c19505c7670961b76b2/networkx-2.2.zip (1.7MB)\n",
            "\u001b[K     |████████████████████████████████| 1.7MB 28.7MB/s \n",
            "\u001b[?25hCollecting matplotlib==3.0.1 (from snorkel==0.9.0)\n",
            "\u001b[?25l  Downloading https://files.pythonhosted.org/packages/1e/f8/4aba1144dad8c67db060049d1a8bc740ad9fa35288d21b82bb85de69ff15/matplotlib-3.0.1-cp36-cp36m-manylinux1_x86_64.whl (12.9MB)\n",
            "\u001b[K     |████████████████████████████████| 12.9MB 28.5MB/s \n",
            "\u001b[?25hCollecting dask[complete]==1.2.1 (from snorkel==0.9.0)\n",
            "\u001b[?25l  Downloading https://files.pythonhosted.org/packages/b1/91/1014cdf012dd706ffecbca2de1e3b28517305ba7f49cfdd4fb6b6de5df07/dask-1.2.1-py2.py3-none-any.whl (714kB)\n",
            "\u001b[K     |████████████████████████████████| 716kB 39.8MB/s \n",
            "\u001b[?25hCollecting pyarrow==0.12.0 (from snorkel==0.9.0)\n",
            "\u001b[?25l  Downloading https://files.pythonhosted.org/packages/42/be/8682e7f6c12dd42f31f32b18d5d61b4f578f12aaa9058081aef954a481d3/pyarrow-0.12.0-cp36-cp36m-manylinux1_x86_64.whl (12.5MB)\n",
            "\u001b[K     |████████████████████████████████| 12.5MB 32.7MB/s \n",
            "\u001b[?25hRequirement already satisfied: torchtext==0.3.1 in /usr/local/lib/python3.6/dist-packages (from snorkel==0.9.0) (0.3.1)\n",
            "Collecting scipy==1.2.0 (from snorkel==0.9.0)\n",
            "\u001b[?25l  Downloading https://files.pythonhosted.org/packages/67/e6/6d4edaceee6a110ecf6f318482f5229792f143e468b34a631f5a0899f56d/scipy-1.2.0-cp36-cp36m-manylinux1_x86_64.whl (26.6MB)\n",
            "\u001b[K     |████████████████████████████████| 26.6MB 1.5MB/s \n",
            "\u001b[?25hCollecting jupyterlab==0.33.12 (from snorkel==0.9.0)\n",
            "\u001b[?25l  Downloading https://files.pythonhosted.org/packages/1b/1b/ce43d66010878f86e574ae94d4aa6f78028ba5dba7287e11ebbaea2b3c17/jupyterlab-0.33.12-py2.py3-none-any.whl (14.3MB)\n",
            "\u001b[K     |████████████████████████████████| 14.3MB 31.8MB/s \n",
            "\u001b[?25hCollecting tensorboardX==1.6 (from snorkel==0.9.0)\n",
            "\u001b[?25l  Downloading https://files.pythonhosted.org/packages/5c/76/89dd44458eb976347e5a6e75eb79fecf8facd46c1ce259bad54e0044ea35/tensorboardX-1.6-py2.py3-none-any.whl (129kB)\n",
            "\u001b[K     |████████████████████████████████| 133kB 40.6MB/s \n",
            "\u001b[?25hRequirement already satisfied: jupyter==1.0.0 in /usr/local/lib/python3.6/dist-packages (from snorkel==0.9.0) (1.0.0)\n",
            "Collecting scikit-learn==0.20.2 (from snorkel==0.9.0)\n",
            "\u001b[?25l  Downloading https://files.pythonhosted.org/packages/0d/3a/b92670f5c368c20329ecc4c255993fae7934564d485c3ed7ea7b8da7f741/scikit_learn-0.20.2-cp36-cp36m-manylinux1_x86_64.whl (5.4MB)\n",
            "\u001b[K     |████████████████████████████████| 5.4MB 30.9MB/s \n",
            "\u001b[?25hCollecting spacy==2.1.3 (from snorkel==0.9.0)\n",
            "\u001b[?25l  Downloading https://files.pythonhosted.org/packages/52/da/3a1c54694c2d2f40df82f38a19ae14c6eb24a5a1a0dae87205ebea7a84d8/spacy-2.1.3-cp36-cp36m-manylinux1_x86_64.whl (27.7MB)\n",
            "\u001b[K     |████████████████████████████████| 27.7MB 1.6MB/s \n",
            "\u001b[?25hRequirement already satisfied: torch==1.1.0 in /usr/local/lib/python3.6/dist-packages (from snorkel==0.9.0) (1.1.0)\n",
            "Collecting tqdm==4.29.1 (from snorkel==0.9.0)\n",
            "\u001b[?25l  Downloading https://files.pythonhosted.org/packages/ed/d6/3458d39cf4978f4ece846295e83daf5ece710ab0a4106774f7f7b3a68697/tqdm-4.29.1-py2.py3-none-any.whl (46kB)\n",
            "\u001b[K     |████████████████████████████████| 51kB 13.9MB/s \n",
            "\u001b[?25hRequirement already satisfied: pytz>=2011k in /usr/local/lib/python3.6/dist-packages (from pandas==0.24.0->snorkel==0.9.0) (2018.9)\n",
            "Requirement already satisfied: python-dateutil>=2.5.0 in /usr/local/lib/python3.6/dist-packages (from pandas==0.24.0->snorkel==0.9.0) (2.5.3)\n",
            "Requirement already satisfied: decorator>=4.3.0 in /usr/local/lib/python3.6/dist-packages (from networkx==2.2->snorkel==0.9.0) (4.4.0)\n",
            "Requirement already satisfied: cycler>=0.10 in /usr/local/lib/python3.6/dist-packages (from matplotlib==3.0.1->snorkel==0.9.0) (0.10.0)\n",
            "Requirement already satisfied: pyparsing!=2.0.4,!=2.1.2,!=2.1.6,>=2.0.1 in /usr/local/lib/python3.6/dist-packages (from matplotlib==3.0.1->snorkel==0.9.0) (2.4.2)\n",
            "Requirement already satisfied: kiwisolver>=1.0.1 in /usr/local/lib/python3.6/dist-packages (from matplotlib==3.0.1->snorkel==0.9.0) (1.1.0)\n",
            "Requirement already satisfied: toolz>=0.7.3; extra == \"complete\" in /usr/local/lib/python3.6/dist-packages (from dask[complete]==1.2.1->snorkel==0.9.0) (0.10.0)\n",
            "Collecting partd>=0.3.8; extra == \"complete\" (from dask[complete]==1.2.1->snorkel==0.9.0)\n",
            "  Downloading https://files.pythonhosted.org/packages/8b/17/09c352519da1db31634979c3aa9126078e9ece0f561c5f641e0649b78905/partd-1.0.0-py2.py3-none-any.whl\n",
            "Requirement already satisfied: distributed>=1.22; extra == \"complete\" in /usr/local/lib/python3.6/dist-packages (from dask[complete]==1.2.1->snorkel==0.9.0) (1.25.3)\n",
            "Requirement already satisfied: cloudpickle>=0.2.1; extra == \"complete\" in /usr/local/lib/python3.6/dist-packages (from dask[complete]==1.2.1->snorkel==0.9.0) (0.6.1)\n",
            "Requirement already satisfied: six>=1.0.0 in /usr/local/lib/python3.6/dist-packages (from pyarrow==0.12.0->snorkel==0.9.0) (1.12.0)\n",
            "Requirement already satisfied: requests in /usr/local/lib/python3.6/dist-packages (from torchtext==0.3.1->snorkel==0.9.0) (2.21.0)\n",
            "Requirement already satisfied: notebook>=4.3.1 in /usr/local/lib/python3.6/dist-packages (from jupyterlab==0.33.12->snorkel==0.9.0) (5.2.2)\n",
            "Collecting jupyterlab-launcher<0.12.0,>=0.11.2 (from jupyterlab==0.33.12->snorkel==0.9.0)\n",
            "  Downloading https://files.pythonhosted.org/packages/ec/5a/9393a4ae8da664f27635b969b9b1375d873f2751fb6e6c13a1ac2bac7bb0/jupyterlab_launcher-0.11.2-py2.py3-none-any.whl\n",
            "Requirement already satisfied: ipython-genutils in /usr/local/lib/python3.6/dist-packages (from jupyterlab==0.33.12->snorkel==0.9.0) (0.2.0)\n",
            "Requirement already satisfied: protobuf>=3.2.0 in /usr/local/lib/python3.6/dist-packages (from tensorboardX==1.6->snorkel==0.9.0) (3.7.1)\n",
            "Requirement already satisfied: ipykernel in /usr/local/lib/python3.6/dist-packages (from jupyter==1.0.0->snorkel==0.9.0) (4.6.1)\n",
            "Requirement already satisfied: qtconsole in /usr/local/lib/python3.6/dist-packages (from jupyter==1.0.0->snorkel==0.9.0) (4.5.2)\n",
            "Requirement already satisfied: jupyter-console in /usr/local/lib/python3.6/dist-packages (from jupyter==1.0.0->snorkel==0.9.0) (5.2.0)\n",
            "Requirement already satisfied: ipywidgets in /usr/local/lib/python3.6/dist-packages (from jupyter==1.0.0->snorkel==0.9.0) (7.5.1)\n",
            "Requirement already satisfied: nbconvert in /usr/local/lib/python3.6/dist-packages (from jupyter==1.0.0->snorkel==0.9.0) (5.6.0)\n",
            "Requirement already satisfied: wasabi<1.1.0,>=0.2.0 in /usr/local/lib/python3.6/dist-packages (from spacy==2.1.3->snorkel==0.9.0) (0.2.2)\n",
            "Requirement already satisfied: murmurhash<1.1.0,>=0.28.0 in /usr/local/lib/python3.6/dist-packages (from spacy==2.1.3->snorkel==0.9.0) (1.0.2)\n",
            "Requirement already satisfied: plac<1.0.0,>=0.9.6 in /usr/local/lib/python3.6/dist-packages (from spacy==2.1.3->snorkel==0.9.0) (0.9.6)\n",
            "Requirement already satisfied: cymem<2.1.0,>=2.0.2 in /usr/local/lib/python3.6/dist-packages (from spacy==2.1.3->snorkel==0.9.0) (2.0.2)\n",
            "Requirement already satisfied: thinc<7.1.0,>=7.0.2 in /usr/local/lib/python3.6/dist-packages (from spacy==2.1.3->snorkel==0.9.0) (7.0.8)\n",
            "Requirement already satisfied: blis<0.3.0,>=0.2.2 in /usr/local/lib/python3.6/dist-packages (from spacy==2.1.3->snorkel==0.9.0) (0.2.4)\n",
            "Requirement already satisfied: preshed<2.1.0,>=2.0.1 in /usr/local/lib/python3.6/dist-packages (from spacy==2.1.3->snorkel==0.9.0) (2.0.1)\n",
            "Requirement already satisfied: jsonschema<3.0.0,>=2.6.0 in /usr/local/lib/python3.6/dist-packages (from spacy==2.1.3->snorkel==0.9.0) (2.6.0)\n",
            "Requirement already satisfied: srsly<1.1.0,>=0.0.5 in /usr/local/lib/python3.6/dist-packages (from spacy==2.1.3->snorkel==0.9.0) (0.0.7)\n",
            "Requirement already satisfied: setuptools in /usr/local/lib/python3.6/dist-packages (from kiwisolver>=1.0.1->matplotlib==3.0.1->snorkel==0.9.0) (41.0.1)\n",
            "Collecting locket (from partd>=0.3.8; extra == \"complete\"->dask[complete]==1.2.1->snorkel==0.9.0)\n",
            "  Downloading https://files.pythonhosted.org/packages/d0/22/3c0f97614e0be8386542facb3a7dcfc2584f7b83608c02333bced641281c/locket-0.2.0.tar.gz\n",
            "Requirement already satisfied: psutil>=5.0 in /usr/local/lib/python3.6/dist-packages (from distributed>=1.22; extra == \"complete\"->dask[complete]==1.2.1->snorkel==0.9.0) (5.4.8)\n",
            "Requirement already satisfied: msgpack in /usr/local/lib/python3.6/dist-packages (from distributed>=1.22; extra == \"complete\"->dask[complete]==1.2.1->snorkel==0.9.0) (0.5.6)\n",
            "Requirement already satisfied: pyyaml in /usr/local/lib/python3.6/dist-packages (from distributed>=1.22; extra == \"complete\"->dask[complete]==1.2.1->snorkel==0.9.0) (3.13)\n",
            "Requirement already satisfied: sortedcontainers!=2.0.0,!=2.0.1 in /usr/local/lib/python3.6/dist-packages (from distributed>=1.22; extra == \"complete\"->dask[complete]==1.2.1->snorkel==0.9.0) (2.1.0)\n",
            "Requirement already satisfied: tblib in /usr/local/lib/python3.6/dist-packages (from distributed>=1.22; extra == \"complete\"->dask[complete]==1.2.1->snorkel==0.9.0) (1.4.0)\n",
            "Requirement already satisfied: tornado>=4.5.1 in /usr/local/lib/python3.6/dist-packages (from distributed>=1.22; extra == \"complete\"->dask[complete]==1.2.1->snorkel==0.9.0) (4.5.3)\n",
            "Requirement already satisfied: zict>=0.1.3 in /usr/local/lib/python3.6/dist-packages (from distributed>=1.22; extra == \"complete\"->dask[complete]==1.2.1->snorkel==0.9.0) (1.0.0)\n",
            "Requirement already satisfied: click>=6.6 in /usr/local/lib/python3.6/dist-packages (from distributed>=1.22; extra == \"complete\"->dask[complete]==1.2.1->snorkel==0.9.0) (7.0)\n",
            "Requirement already satisfied: urllib3<1.25,>=1.21.1 in /usr/local/lib/python3.6/dist-packages (from requests->torchtext==0.3.1->snorkel==0.9.0) (1.24.3)\n",
            "Requirement already satisfied: idna<2.9,>=2.5 in /usr/local/lib/python3.6/dist-packages (from requests->torchtext==0.3.1->snorkel==0.9.0) (2.8)\n",
            "Requirement already satisfied: certifi>=2017.4.17 in /usr/local/lib/python3.6/dist-packages (from requests->torchtext==0.3.1->snorkel==0.9.0) (2019.6.16)\n",
            "Requirement already satisfied: chardet<3.1.0,>=3.0.2 in /usr/local/lib/python3.6/dist-packages (from requests->torchtext==0.3.1->snorkel==0.9.0) (3.0.4)\n",
            "Requirement already satisfied: jupyter-core in /usr/local/lib/python3.6/dist-packages (from notebook>=4.3.1->jupyterlab==0.33.12->snorkel==0.9.0) (4.5.0)\n",
            "Requirement already satisfied: nbformat in /usr/local/lib/python3.6/dist-packages (from notebook>=4.3.1->jupyterlab==0.33.12->snorkel==0.9.0) (4.4.0)\n",
            "Requirement already satisfied: terminado>=0.3.3; sys_platform != \"win32\" in /usr/local/lib/python3.6/dist-packages (from notebook>=4.3.1->jupyterlab==0.33.12->snorkel==0.9.0) (0.8.2)\n",
            "Requirement already satisfied: traitlets>=4.2.1 in /usr/local/lib/python3.6/dist-packages (from notebook>=4.3.1->jupyterlab==0.33.12->snorkel==0.9.0) (4.3.2)\n",
            "Requirement already satisfied: jupyter-client in /usr/local/lib/python3.6/dist-packages (from notebook>=4.3.1->jupyterlab==0.33.12->snorkel==0.9.0) (5.3.1)\n",
            "Requirement already satisfied: jinja2 in /usr/local/lib/python3.6/dist-packages (from notebook>=4.3.1->jupyterlab==0.33.12->snorkel==0.9.0) (2.10.1)\n",
            "Requirement already satisfied: ipython>=4.0.0 in /usr/local/lib/python3.6/dist-packages (from ipykernel->jupyter==1.0.0->snorkel==0.9.0) (5.5.0)\n",
            "Requirement already satisfied: pygments in /usr/local/lib/python3.6/dist-packages (from qtconsole->jupyter==1.0.0->snorkel==0.9.0) (2.1.3)\n",
            "Requirement already satisfied: prompt-toolkit<2.0.0,>=1.0.0 in /usr/local/lib/python3.6/dist-packages (from jupyter-console->jupyter==1.0.0->snorkel==0.9.0) (1.0.16)\n",
            "Requirement already satisfied: widgetsnbextension~=3.5.0 in /usr/local/lib/python3.6/dist-packages (from ipywidgets->jupyter==1.0.0->snorkel==0.9.0) (3.5.1)\n",
            "Requirement already satisfied: pandocfilters>=1.4.1 in /usr/local/lib/python3.6/dist-packages (from nbconvert->jupyter==1.0.0->snorkel==0.9.0) (1.4.2)\n",
            "Requirement already satisfied: entrypoints>=0.2.2 in /usr/local/lib/python3.6/dist-packages (from nbconvert->jupyter==1.0.0->snorkel==0.9.0) (0.3)\n",
            "Requirement already satisfied: mistune<2,>=0.8.1 in /usr/local/lib/python3.6/dist-packages (from nbconvert->jupyter==1.0.0->snorkel==0.9.0) (0.8.4)\n",
            "Requirement already satisfied: bleach in /usr/local/lib/python3.6/dist-packages (from nbconvert->jupyter==1.0.0->snorkel==0.9.0) (3.1.0)\n",
            "Requirement already satisfied: defusedxml in /usr/local/lib/python3.6/dist-packages (from nbconvert->jupyter==1.0.0->snorkel==0.9.0) (0.6.0)\n",
            "Requirement already satisfied: testpath in /usr/local/lib/python3.6/dist-packages (from nbconvert->jupyter==1.0.0->snorkel==0.9.0) (0.4.2)\n",
            "Requirement already satisfied: heapdict in /usr/local/lib/python3.6/dist-packages (from zict>=0.1.3->distributed>=1.22; extra == \"complete\"->dask[complete]==1.2.1->snorkel==0.9.0) (1.0.0)\n",
            "Requirement already satisfied: ptyprocess; os_name != \"nt\" in /usr/local/lib/python3.6/dist-packages (from terminado>=0.3.3; sys_platform != \"win32\"->notebook>=4.3.1->jupyterlab==0.33.12->snorkel==0.9.0) (0.6.0)\n",
            "Requirement already satisfied: pyzmq>=13 in /usr/local/lib/python3.6/dist-packages (from jupyter-client->notebook>=4.3.1->jupyterlab==0.33.12->snorkel==0.9.0) (17.0.0)\n",
            "Requirement already satisfied: MarkupSafe>=0.23 in /usr/local/lib/python3.6/dist-packages (from jinja2->notebook>=4.3.1->jupyterlab==0.33.12->snorkel==0.9.0) (1.1.1)\n",
            "Requirement already satisfied: pickleshare in /usr/local/lib/python3.6/dist-packages (from ipython>=4.0.0->ipykernel->jupyter==1.0.0->snorkel==0.9.0) (0.7.5)\n",
            "Requirement already satisfied: pexpect; sys_platform != \"win32\" in /usr/local/lib/python3.6/dist-packages (from ipython>=4.0.0->ipykernel->jupyter==1.0.0->snorkel==0.9.0) (4.7.0)\n",
            "Requirement already satisfied: simplegeneric>0.8 in /usr/local/lib/python3.6/dist-packages (from ipython>=4.0.0->ipykernel->jupyter==1.0.0->snorkel==0.9.0) (0.8.1)\n",
            "Requirement already satisfied: wcwidth in /usr/local/lib/python3.6/dist-packages (from prompt-toolkit<2.0.0,>=1.0.0->jupyter-console->jupyter==1.0.0->snorkel==0.9.0) (0.1.7)\n",
            "Requirement already satisfied: webencodings in /usr/local/lib/python3.6/dist-packages (from bleach->nbconvert->jupyter==1.0.0->snorkel==0.9.0) (0.5.1)\n",
            "Building wheels for collected packages: snorkel\n",
            "  Building wheel for snorkel (PEP 517) ... \u001b[?25l\u001b[?25hdone\n",
            "  Created wheel for snorkel: filename=snorkel-0.9.0-cp36-none-any.whl size=109793 sha256=5a45cbca33acbce506bf6b61573afc86329ce481536d0d4787158e210db2e8d3\n",
            "  Stored in directory: /tmp/pip-ephem-wheel-cache-ez79h_ln/wheels/1d/74/e9/0c64265729943b0dab0a757f726491151c4ca9ccea68db8e1a\n",
            "Successfully built snorkel\n",
            "Building wheels for collected packages: dill, networkx, locket\n",
            "  Building wheel for dill (setup.py) ... \u001b[?25l\u001b[?25hdone\n",
            "  Created wheel for dill: filename=dill-0.2.9-cp36-none-any.whl size=77405 sha256=a49426a3440182ed8a0f28cdbf5b5d1d22afe0b70698616701c30b221d8f3a5a\n",
            "  Stored in directory: /root/.cache/pip/wheels/5b/d7/0f/e58eae695403de585269f4e4a94e0cd6ca60ec0c202936fa4a\n",
            "  Building wheel for networkx (setup.py) ... \u001b[?25l\u001b[?25hdone\n",
            "  Created wheel for networkx: filename=networkx-2.2-py2.py3-none-any.whl size=1527322 sha256=056521e01ec39c02dba0182669c6700ef8686b1c5b0106eda17db4cc1eaba01f\n",
            "  Stored in directory: /root/.cache/pip/wheels/68/f8/29/b53346a112a07d30a5a84d53f19aeadaa1a474897c0423af91\n",
            "  Building wheel for locket (setup.py) ... \u001b[?25l\u001b[?25hdone\n",
            "  Created wheel for locket: filename=locket-0.2.0-cp36-none-any.whl size=4040 sha256=d58a95c573fbf274c7a46a4346c5d123fa5c43952a312fd578071e27b333f3a1\n",
            "  Stored in directory: /root/.cache/pip/wheels/26/1e/e8/4fa236ec931b1a0cdd61578e20d4934d7bf188858723b84698\n",
            "Successfully built dill networkx locket\n",
            "\u001b[31mERROR: multiprocess 0.70.8 has requirement dill>=0.3.0, but you'll have dill 0.2.9 which is incompatible.\u001b[0m\n",
            "\u001b[31mERROR: datascience 0.10.6 has requirement folium==0.2.1, but you'll have folium 0.8.3 which is incompatible.\u001b[0m\n",
            "\u001b[31mERROR: albumentations 0.1.12 has requirement imgaug<0.2.7,>=0.2.5, but you'll have imgaug 0.2.9 which is incompatible.\u001b[0m\n",
            "Installing collected packages: numpy, pandas, dill, networkx, matplotlib, locket, partd, dask, pyarrow, scipy, jupyterlab-launcher, jupyterlab, tensorboardX, scikit-learn, spacy, tqdm, snorkel\n",
            "  Found existing installation: numpy 1.16.4\n",
            "    Uninstalling numpy-1.16.4:\n",
            "      Successfully uninstalled numpy-1.16.4\n",
            "  Found existing installation: pandas 0.24.2\n",
            "    Uninstalling pandas-0.24.2:\n",
            "      Successfully uninstalled pandas-0.24.2\n",
            "  Found existing installation: dill 0.3.0\n",
            "    Uninstalling dill-0.3.0:\n",
            "      Successfully uninstalled dill-0.3.0\n",
            "  Found existing installation: networkx 2.3\n",
            "    Uninstalling networkx-2.3:\n",
            "      Successfully uninstalled networkx-2.3\n",
            "  Found existing installation: matplotlib 3.0.3\n",
            "    Uninstalling matplotlib-3.0.3:\n",
            "      Successfully uninstalled matplotlib-3.0.3\n",
            "  Found existing installation: dask 1.1.5\n",
            "    Uninstalling dask-1.1.5:\n",
            "      Successfully uninstalled dask-1.1.5\n",
            "  Found existing installation: pyarrow 0.14.1\n",
            "    Uninstalling pyarrow-0.14.1:\n",
            "      Successfully uninstalled pyarrow-0.14.1\n",
            "  Found existing installation: scipy 1.3.1\n",
            "    Uninstalling scipy-1.3.1:\n",
            "      Successfully uninstalled scipy-1.3.1\n",
            "  Found existing installation: scikit-learn 0.21.3\n",
            "    Uninstalling scikit-learn-0.21.3:\n",
            "      Successfully uninstalled scikit-learn-0.21.3\n",
            "  Found existing installation: spacy 2.1.8\n",
            "    Uninstalling spacy-2.1.8:\n",
            "      Successfully uninstalled spacy-2.1.8\n",
            "  Found existing installation: tqdm 4.28.1\n",
            "    Uninstalling tqdm-4.28.1:\n",
            "      Successfully uninstalled tqdm-4.28.1\n",
            "Successfully installed dask-1.2.1 dill-0.2.9 jupyterlab-0.33.12 jupyterlab-launcher-0.11.2 locket-0.2.0 matplotlib-3.0.1 networkx-2.2 numpy-1.16.0 pandas-0.24.0 partd-1.0.0 pyarrow-0.12.0 scikit-learn-0.20.2 scipy-1.2.0 snorkel-0.9.0 spacy-2.1.3 tensorboardX-1.6 tqdm-4.29.1\n"
          ],
          "name": "stdout"
        },
        {
          "output_type": "display_data",
          "data": {
            "application/vnd.colab-display-data+json": {
              "pip_warning": {
                "packages": [
                  "matplotlib",
                  "mpl_toolkits",
                  "numpy",
                  "pandas",
                  "pyarrow",
                  "tqdm"
                ]
              }
            }
          },
          "metadata": {
            "tags": []
          }
        }
      ]
    },
    {
      "cell_type": "markdown",
      "metadata": {
        "id": "UvboBkLdKtN3",
        "colab_type": "text"
      },
      "source": [
        ""
      ]
    },
    {
      "cell_type": "code",
      "metadata": {
        "id": "3ucce81_WPeu",
        "colab_type": "code",
        "outputId": "7a354bf0-7410-4b3b-cd54-4ca0e7c38d5b",
        "colab": {
          "base_uri": "https://localhost:8080/",
          "height": 34
        }
      },
      "source": [
        "cd tmp"
      ],
      "execution_count": 0,
      "outputs": [
        {
          "output_type": "stream",
          "text": [
            "/tmp\n"
          ],
          "name": "stdout"
        }
      ]
    },
    {
      "cell_type": "code",
      "metadata": {
        "id": "pIfMsAlULe9m",
        "colab_type": "code",
        "colab": {}
      },
      "source": [
        "ls"
      ],
      "execution_count": 0,
      "outputs": []
    },
    {
      "cell_type": "code",
      "metadata": {
        "id": "WSgB9Z-sLlo-",
        "colab_type": "code",
        "outputId": "1026df61-563f-4242-e2b2-f61db798071c",
        "colab": {
          "base_uri": "https://localhost:8080/",
          "height": 34
        }
      },
      "source": [
        "pwd"
      ],
      "execution_count": 0,
      "outputs": [
        {
          "output_type": "execute_result",
          "data": {
            "text/plain": [
              "'/tmp'"
            ]
          },
          "metadata": {
            "tags": []
          },
          "execution_count": 18
        }
      ]
    },
    {
      "cell_type": "code",
      "metadata": {
        "id": "W_gUGWzZLmt5",
        "colab_type": "code",
        "outputId": "e7808d90-b26c-40a8-cdcf-d9d5c361db1d",
        "colab": {
          "base_uri": "https://localhost:8080/",
          "height": 34
        }
      },
      "source": [
        "cd .."
      ],
      "execution_count": 0,
      "outputs": [
        {
          "output_type": "stream",
          "text": [
            "/\n"
          ],
          "name": "stdout"
        }
      ]
    },
    {
      "cell_type": "code",
      "metadata": {
        "id": "6zvoMqwdLo4G",
        "colab_type": "code",
        "outputId": "467a2fa8-e40a-4d1b-d58d-5a019fcd7c5d",
        "colab": {
          "base_uri": "https://localhost:8080/",
          "height": 34
        }
      },
      "source": [
        "ls"
      ],
      "execution_count": 0,
      "outputs": [
        {
          "output_type": "stream",
          "text": [
            "\u001b[0m\u001b[01;34msample_data\u001b[0m/\n"
          ],
          "name": "stdout"
        }
      ]
    },
    {
      "cell_type": "code",
      "metadata": {
        "id": "1E0xz13mLp63",
        "colab_type": "code",
        "outputId": "6120a30f-33de-4713-d0cb-abf551e99e88",
        "colab": {
          "base_uri": "https://localhost:8080/",
          "height": 34
        }
      },
      "source": [
        "cd .."
      ],
      "execution_count": 0,
      "outputs": [
        {
          "output_type": "stream",
          "text": [
            "/\n"
          ],
          "name": "stdout"
        }
      ]
    },
    {
      "cell_type": "code",
      "metadata": {
        "id": "Jm5QiLeHL81Y",
        "colab_type": "code",
        "outputId": "b6dcf791-4a44-4b39-9080-43acea052b93",
        "colab": {
          "base_uri": "https://localhost:8080/",
          "height": 85
        }
      },
      "source": [
        "ls"
      ],
      "execution_count": 0,
      "outputs": [
        {
          "output_type": "stream",
          "text": [
            "\u001b[0m\u001b[01;34mbin\u001b[0m/      \u001b[01;34mdev\u001b[0m/   \u001b[01;34mlib32\u001b[0m/  \u001b[01;34mopt\u001b[0m/   \u001b[01;34msbin\u001b[0m/   \u001b[01;34mtensorflow-2.0.0b1\u001b[0m/  \u001b[01;34mvar\u001b[0m/\n",
            "\u001b[01;34mboot\u001b[0m/     \u001b[01;34metc\u001b[0m/   \u001b[01;34mlib64\u001b[0m/  \u001b[01;34mproc\u001b[0m/  \u001b[01;34msrv\u001b[0m/    \u001b[30;42mtmp\u001b[0m/\n",
            "\u001b[01;34mcontent\u001b[0m/  \u001b[01;34mhome\u001b[0m/  \u001b[01;34mmedia\u001b[0m/  \u001b[01;34mroot\u001b[0m/  \u001b[01;34mswift\u001b[0m/  \u001b[01;34mtools\u001b[0m/\n",
            "\u001b[01;34mdatalab\u001b[0m/  \u001b[01;34mlib\u001b[0m/   \u001b[01;34mmnt\u001b[0m/    \u001b[01;34mrun\u001b[0m/   \u001b[01;34msys\u001b[0m/    \u001b[01;34musr\u001b[0m/\n"
          ],
          "name": "stdout"
        }
      ]
    },
    {
      "cell_type": "code",
      "metadata": {
        "id": "Gooc9zIVL91Z",
        "colab_type": "code",
        "outputId": "f0a0a275-6b1f-459b-aa82-ade56398f4d9",
        "colab": {
          "base_uri": "https://localhost:8080/",
          "height": 34
        }
      },
      "source": [
        "cd root"
      ],
      "execution_count": 0,
      "outputs": [
        {
          "output_type": "stream",
          "text": [
            "/root\n"
          ],
          "name": "stdout"
        }
      ]
    },
    {
      "cell_type": "code",
      "metadata": {
        "id": "528ZVXrhMBNq",
        "colab_type": "code",
        "outputId": "c29f1b6a-edf5-4675-fc16-10a005d46ddf",
        "colab": {
          "base_uri": "https://localhost:8080/",
          "height": 34
        }
      },
      "source": [
        "cd .."
      ],
      "execution_count": 0,
      "outputs": [
        {
          "output_type": "stream",
          "text": [
            "/\n"
          ],
          "name": "stdout"
        }
      ]
    },
    {
      "cell_type": "code",
      "metadata": {
        "id": "eMfWVsNHMF6c",
        "colab_type": "code",
        "outputId": "f13ae018-d061-4cf2-c050-4f0354a8dad1",
        "colab": {
          "base_uri": "https://localhost:8080/",
          "height": 34
        }
      },
      "source": [
        "cd usr"
      ],
      "execution_count": 0,
      "outputs": [
        {
          "output_type": "stream",
          "text": [
            "/usr\n"
          ],
          "name": "stdout"
        }
      ]
    },
    {
      "cell_type": "code",
      "metadata": {
        "id": "jb7GUR0OMG5i",
        "colab_type": "code",
        "outputId": "589bd87a-b89f-441b-ee96-08e426c49678",
        "colab": {
          "base_uri": "https://localhost:8080/",
          "height": 34
        }
      },
      "source": [
        "cd .."
      ],
      "execution_count": 0,
      "outputs": [
        {
          "output_type": "stream",
          "text": [
            "/\n"
          ],
          "name": "stdout"
        }
      ]
    },
    {
      "cell_type": "code",
      "metadata": {
        "id": "0jIwL146MOrv",
        "colab_type": "code",
        "colab": {}
      },
      "source": [
        ""
      ],
      "execution_count": 0,
      "outputs": []
    },
    {
      "cell_type": "code",
      "metadata": {
        "id": "jWQwVPA4LrMy",
        "colab_type": "code",
        "outputId": "1e3a13b6-0f89-4ba2-a2f7-6df4d4137c55",
        "colab": {
          "base_uri": "https://localhost:8080/",
          "height": 34
        }
      },
      "source": [
        "ls"
      ],
      "execution_count": 0,
      "outputs": [
        {
          "output_type": "stream",
          "text": [
            "\u001b[0m\u001b[01;34mbin\u001b[0m/  \u001b[01;34mgames\u001b[0m/  \u001b[01;34mgrte\u001b[0m/  \u001b[01;34minclude\u001b[0m/  \u001b[01;34mlib\u001b[0m/  \u001b[01;34mlib32\u001b[0m/  \u001b[01;34mlocal\u001b[0m/  \u001b[01;34msbin\u001b[0m/  \u001b[01;34mshare\u001b[0m/  \u001b[01;34msrc\u001b[0m/\n"
          ],
          "name": "stdout"
        }
      ]
    },
    {
      "cell_type": "code",
      "metadata": {
        "id": "O6JmCStYMMtL",
        "colab_type": "code",
        "colab": {}
      },
      "source": [
        ""
      ],
      "execution_count": 0,
      "outputs": []
    },
    {
      "cell_type": "code",
      "metadata": {
        "id": "pFVHCt_6LsPG",
        "colab_type": "code",
        "outputId": "3c3e3076-2fa2-47de-facc-9315cab3c2d4",
        "colab": {
          "base_uri": "https://localhost:8080/",
          "height": 34
        }
      },
      "source": [
        "pwd"
      ],
      "execution_count": 0,
      "outputs": [
        {
          "output_type": "execute_result",
          "data": {
            "text/plain": [
              "'/root'"
            ]
          },
          "metadata": {
            "tags": []
          },
          "execution_count": 23
        }
      ]
    },
    {
      "cell_type": "code",
      "metadata": {
        "id": "kF-cWbVeLtz5",
        "colab_type": "code",
        "colab": {}
      },
      "source": [
        ""
      ],
      "execution_count": 0,
      "outputs": []
    },
    {
      "cell_type": "markdown",
      "metadata": {
        "id": "e2_fQQ_wKrRf",
        "colab_type": "text"
      },
      "source": [
        ""
      ]
    },
    {
      "cell_type": "code",
      "metadata": {
        "id": "ce7zp4EPWcG9",
        "colab_type": "code",
        "outputId": "b01fd336-ca9d-445d-88cc-7b4e537747c8",
        "colab": {
          "base_uri": "https://localhost:8080/",
          "height": 351
        }
      },
      "source": [
        "from snorkel.mtl.data import MultitaskDataLoader\n",
        "from snorkel.mtl.model import MultitaskModel\n",
        "from snorkel.mtl.snorkel_config import default_config as config\n",
        "from snorkel.mtl.trainer import Trainer"
      ],
      "execution_count": 0,
      "outputs": [
        {
          "output_type": "error",
          "ename": "ModuleNotFoundError",
          "evalue": "ignored",
          "traceback": [
            "\u001b[0;31m---------------------------------------------------------------------------\u001b[0m",
            "\u001b[0;31mModuleNotFoundError\u001b[0m                       Traceback (most recent call last)",
            "\u001b[0;32m<ipython-input-15-4e1365039f42>\u001b[0m in \u001b[0;36m<module>\u001b[0;34m()\u001b[0m\n\u001b[0;32m----> 1\u001b[0;31m \u001b[0;32mfrom\u001b[0m \u001b[0msnorkel\u001b[0m\u001b[0;34m.\u001b[0m\u001b[0mmtl\u001b[0m\u001b[0;34m.\u001b[0m\u001b[0mdata\u001b[0m \u001b[0;32mimport\u001b[0m \u001b[0mMultitaskDataLoader\u001b[0m\u001b[0;34m\u001b[0m\u001b[0;34m\u001b[0m\u001b[0m\n\u001b[0m\u001b[1;32m      2\u001b[0m \u001b[0;32mfrom\u001b[0m \u001b[0msnorkel\u001b[0m\u001b[0;34m.\u001b[0m\u001b[0mmtl\u001b[0m\u001b[0;34m.\u001b[0m\u001b[0mmodel\u001b[0m \u001b[0;32mimport\u001b[0m \u001b[0mMultitaskModel\u001b[0m\u001b[0;34m\u001b[0m\u001b[0;34m\u001b[0m\u001b[0m\n\u001b[1;32m      3\u001b[0m \u001b[0;32mfrom\u001b[0m \u001b[0msnorkel\u001b[0m\u001b[0;34m.\u001b[0m\u001b[0mmtl\u001b[0m\u001b[0;34m.\u001b[0m\u001b[0msnorkel_config\u001b[0m \u001b[0;32mimport\u001b[0m \u001b[0mdefault_config\u001b[0m \u001b[0;32mas\u001b[0m \u001b[0mconfig\u001b[0m\u001b[0;34m\u001b[0m\u001b[0;34m\u001b[0m\u001b[0m\n\u001b[1;32m      4\u001b[0m \u001b[0;32mfrom\u001b[0m \u001b[0msnorkel\u001b[0m\u001b[0;34m.\u001b[0m\u001b[0mmtl\u001b[0m\u001b[0;34m.\u001b[0m\u001b[0mtrainer\u001b[0m \u001b[0;32mimport\u001b[0m \u001b[0mTrainer\u001b[0m\u001b[0;34m\u001b[0m\u001b[0;34m\u001b[0m\u001b[0m\n",
            "\u001b[0;31mModuleNotFoundError\u001b[0m: No module named 'snorkel.mtl'",
            "",
            "\u001b[0;31m---------------------------------------------------------------------------\u001b[0;32m\nNOTE: If your import is failing due to a missing package, you can\nmanually install dependencies using either !pip or !apt.\n\nTo view examples of installing some common dependencies, click the\n\"Open Examples\" button below.\n\u001b[0;31m---------------------------------------------------------------------------\u001b[0m\n"
          ]
        }
      ]
    },
    {
      "cell_type": "code",
      "metadata": {
        "id": "QLs7XbR5Yvqj",
        "colab_type": "code",
        "colab": {}
      },
      "source": [
        "import superglue_tasks\n",
        "from tokenizer import get_tokenizer\n",
        "from utils import task_dataset_to_dataframe\n"
      ],
      "execution_count": 0,
      "outputs": []
    },
    {
      "cell_type": "code",
      "metadata": {
        "id": "bL25Yitra-07",
        "colab_type": "code",
        "colab": {}
      },
      "source": [
        "from dataloaders import get_jsonl_path\n",
        "from superglue_parsers.wic import get_rows"
      ],
      "execution_count": 0,
      "outputs": []
    },
    {
      "cell_type": "code",
      "metadata": {
        "id": "n0rdCxore92w",
        "colab_type": "code",
        "outputId": "5bfdc18d-b8b1-44af-d618-bbf1b8a466ee",
        "colab": {
          "base_uri": "https://localhost:8080/",
          "height": 34
        }
      },
      "source": [
        "!unzip WiC.zip"
      ],
      "execution_count": 0,
      "outputs": [
        {
          "output_type": "stream",
          "text": [
            "unzip:  cannot find or open WiC.zip, WiC.zip.zip or WiC.zip.ZIP.\n"
          ],
          "name": "stdout"
        }
      ]
    },
    {
      "cell_type": "code",
      "metadata": {
        "id": "oXG8grU-s5GA",
        "colab_type": "code",
        "outputId": "586e2bfd-1a85-4bad-c660-9ab538804f3e",
        "colab": {
          "base_uri": "https://localhost:8080/",
          "height": 51
        }
      },
      "source": [
        "ls"
      ],
      "execution_count": 0,
      "outputs": [
        {
          "output_type": "stream",
          "text": [
            "cb.py    __init__.py  \u001b[0m\u001b[01;34m__pycache__\u001b[0m/  swag.py  wsc.py\n",
            "copa.py  multirc.py   rte.py        wic.py\n"
          ],
          "name": "stdout"
        }
      ]
    },
    {
      "cell_type": "code",
      "metadata": {
        "id": "WnkOocwWf4f6",
        "colab_type": "code",
        "colab": {}
      },
      "source": [
        "task_name= \"WiC\"\n",
        "data_dir = os.environ.get(\"SUPERGLUEDATA\", os.path.join(str(cwd.parents[0]), \"data\"))\n",
        "split = \"valid\"\n",
        "\n"
      ],
      "execution_count": 0,
      "outputs": []
    },
    {
      "cell_type": "code",
      "metadata": {
        "id": "D98AiF7A8ZTc",
        "colab_type": "code",
        "colab": {}
      },
      "source": [
        "data_df['sentence1_idx'] = \"\"\n",
        "  \n",
        "# Observe the result \n"
      ],
      "execution_count": 0,
      "outputs": []
    },
    {
      "cell_type": "code",
      "metadata": {
        "id": "q7p6BwYe8w74",
        "colab_type": "code",
        "colab": {}
      },
      "source": [
        "data_df['sentence2_idx'] = \"\"\n"
      ],
      "execution_count": 0,
      "outputs": []
    },
    {
      "cell_type": "code",
      "metadata": {
        "id": "aZYhSmU09UiF",
        "colab_type": "code",
        "outputId": "989b9987-9a79-4f85-d0bc-3d1fe2714588",
        "colab": {
          "base_uri": "https://localhost:8080/",
          "height": 1000
        }
      },
      "source": [
        "data_df"
      ],
      "execution_count": 0,
      "outputs": [
        {
          "output_type": "execute_result",
          "data": {
            "text/html": [
              "<div>\n",
              "<style scoped>\n",
              "    .dataframe tbody tr th:only-of-type {\n",
              "        vertical-align: middle;\n",
              "    }\n",
              "\n",
              "    .dataframe tbody tr th {\n",
              "        vertical-align: top;\n",
              "    }\n",
              "\n",
              "    .dataframe thead th {\n",
              "        text-align: right;\n",
              "    }\n",
              "</style>\n",
              "<table border=\"1\" class=\"dataframe\">\n",
              "  <thead>\n",
              "    <tr style=\"text-align: right;\">\n",
              "      <th></th>\n",
              "      <th>end1</th>\n",
              "      <th>end2</th>\n",
              "      <th>idx</th>\n",
              "      <th>label</th>\n",
              "      <th>sentence1</th>\n",
              "      <th>sentence2</th>\n",
              "      <th>start1</th>\n",
              "      <th>start2</th>\n",
              "      <th>version</th>\n",
              "      <th>word</th>\n",
              "      <th>sentence1_idx</th>\n",
              "      <th>sentence2_idx</th>\n",
              "    </tr>\n",
              "  </thead>\n",
              "  <tbody>\n",
              "    <tr>\n",
              "      <th>0</th>\n",
              "      <td>30</td>\n",
              "      <td>90</td>\n",
              "      <td>0</td>\n",
              "      <td>False</td>\n",
              "      <td>An emerging professional class.</td>\n",
              "      <td>Apologizing for losing your temper, even though you were badly provoked, showed real class.</td>\n",
              "      <td>25</td>\n",
              "      <td>85</td>\n",
              "      <td>1.1</td>\n",
              "      <td>class</td>\n",
              "      <td></td>\n",
              "      <td></td>\n",
              "    </tr>\n",
              "    <tr>\n",
              "      <th>1</th>\n",
              "      <td>27</td>\n",
              "      <td>25</td>\n",
              "      <td>1</td>\n",
              "      <td>False</td>\n",
              "      <td>Businessmen of every stripe joined in opposition to the proposal.</td>\n",
              "      <td>They earned their stripes in Kuwait.</td>\n",
              "      <td>21</td>\n",
              "      <td>18</td>\n",
              "      <td>1.1</td>\n",
              "      <td>stripe</td>\n",
              "      <td></td>\n",
              "      <td></td>\n",
              "    </tr>\n",
              "    <tr>\n",
              "      <th>2</th>\n",
              "      <td>36</td>\n",
              "      <td>7</td>\n",
              "      <td>2</td>\n",
              "      <td>False</td>\n",
              "      <td>As he called the role he put a check mark by each student's name.</td>\n",
              "      <td>A check on its dependability under stress.</td>\n",
              "      <td>31</td>\n",
              "      <td>2</td>\n",
              "      <td>1.1</td>\n",
              "      <td>check</td>\n",
              "      <td></td>\n",
              "      <td></td>\n",
              "    </tr>\n",
              "    <tr>\n",
              "      <th>3</th>\n",
              "      <td>31</td>\n",
              "      <td>35</td>\n",
              "      <td>3</td>\n",
              "      <td>True</td>\n",
              "      <td>She gave her hair a quick brush.</td>\n",
              "      <td>The dentist recommended two brushes a day.</td>\n",
              "      <td>26</td>\n",
              "      <td>28</td>\n",
              "      <td>1.1</td>\n",
              "      <td>brush</td>\n",
              "      <td></td>\n",
              "      <td></td>\n",
              "    </tr>\n",
              "    <tr>\n",
              "      <th>4</th>\n",
              "      <td>23</td>\n",
              "      <td>52</td>\n",
              "      <td>4</td>\n",
              "      <td>False</td>\n",
              "      <td>The child's acquisition of language.</td>\n",
              "      <td>That graphite tennis racquet is quite an acquisition.</td>\n",
              "      <td>12</td>\n",
              "      <td>41</td>\n",
              "      <td>1.1</td>\n",
              "      <td>acquisition</td>\n",
              "      <td></td>\n",
              "      <td></td>\n",
              "    </tr>\n",
              "    <tr>\n",
              "      <th>5</th>\n",
              "      <td>7</td>\n",
              "      <td>6</td>\n",
              "      <td>5</td>\n",
              "      <td>True</td>\n",
              "      <td>A thing of the spirit.</td>\n",
              "      <td>Things of the heart.</td>\n",
              "      <td>2</td>\n",
              "      <td>0</td>\n",
              "      <td>1.1</td>\n",
              "      <td>thing</td>\n",
              "      <td></td>\n",
              "      <td></td>\n",
              "    </tr>\n",
              "    <tr>\n",
              "      <th>6</th>\n",
              "      <td>12</td>\n",
              "      <td>38</td>\n",
              "      <td>6</td>\n",
              "      <td>True</td>\n",
              "      <td>The minister said a prayer on behalf of the entire congregation.</td>\n",
              "      <td>Clergymen are usually called ministers in Protestant churches.</td>\n",
              "      <td>4</td>\n",
              "      <td>29</td>\n",
              "      <td>1.1</td>\n",
              "      <td>minister</td>\n",
              "      <td></td>\n",
              "      <td></td>\n",
              "    </tr>\n",
              "    <tr>\n",
              "      <th>7</th>\n",
              "      <td>17</td>\n",
              "      <td>21</td>\n",
              "      <td>7</td>\n",
              "      <td>False</td>\n",
              "      <td>The very easiness of the deed held her back.</td>\n",
              "      <td>There was an easiness between them.</td>\n",
              "      <td>9</td>\n",
              "      <td>13</td>\n",
              "      <td>1.1</td>\n",
              "      <td>easiness</td>\n",
              "      <td></td>\n",
              "      <td></td>\n",
              "    </tr>\n",
              "    <tr>\n",
              "      <th>8</th>\n",
              "      <td>30</td>\n",
              "      <td>48</td>\n",
              "      <td>8</td>\n",
              "      <td>True</td>\n",
              "      <td>Sculpture in contradistinction to painting.</td>\n",
              "      <td>We used hamburgers and soda in contradistinction to healthy food.</td>\n",
              "      <td>13</td>\n",
              "      <td>31</td>\n",
              "      <td>1.1</td>\n",
              "      <td>contradistinction</td>\n",
              "      <td></td>\n",
              "      <td></td>\n",
              "    </tr>\n",
              "    <tr>\n",
              "      <th>9</th>\n",
              "      <td>79</td>\n",
              "      <td>8</td>\n",
              "      <td>9</td>\n",
              "      <td>True</td>\n",
              "      <td>Canadian tariffs enabled United States lumber companies to raise prices at home.</td>\n",
              "      <td>His home is New Jersey.</td>\n",
              "      <td>75</td>\n",
              "      <td>4</td>\n",
              "      <td>1.1</td>\n",
              "      <td>home</td>\n",
              "      <td></td>\n",
              "      <td></td>\n",
              "    </tr>\n",
              "    <tr>\n",
              "      <th>10</th>\n",
              "      <td>24</td>\n",
              "      <td>14</td>\n",
              "      <td>10</td>\n",
              "      <td>False</td>\n",
              "      <td>The alkaline inclination of the local waters.</td>\n",
              "      <td>An inclination of his head indicated his agreement.</td>\n",
              "      <td>13</td>\n",
              "      <td>3</td>\n",
              "      <td>1.1</td>\n",
              "      <td>inclination</td>\n",
              "      <td></td>\n",
              "      <td></td>\n",
              "    </tr>\n",
              "    <tr>\n",
              "      <th>11</th>\n",
              "      <td>12</td>\n",
              "      <td>13</td>\n",
              "      <td>11</td>\n",
              "      <td>False</td>\n",
              "      <td>An assurance of help when needed.</td>\n",
              "      <td>His assurance in his superiority did not make him popular.</td>\n",
              "      <td>3</td>\n",
              "      <td>4</td>\n",
              "      <td>1.1</td>\n",
              "      <td>assurance</td>\n",
              "      <td></td>\n",
              "      <td></td>\n",
              "    </tr>\n",
              "    <tr>\n",
              "      <th>12</th>\n",
              "      <td>40</td>\n",
              "      <td>32</td>\n",
              "      <td>12</td>\n",
              "      <td>True</td>\n",
              "      <td>The relief pitcher got credit for a save.</td>\n",
              "      <td>The goalie made a brilliant save.</td>\n",
              "      <td>36</td>\n",
              "      <td>28</td>\n",
              "      <td>1.1</td>\n",
              "      <td>save</td>\n",
              "      <td></td>\n",
              "      <td></td>\n",
              "    </tr>\n",
              "    <tr>\n",
              "      <th>13</th>\n",
              "      <td>13</td>\n",
              "      <td>21</td>\n",
              "      <td>13</td>\n",
              "      <td>False</td>\n",
              "      <td>He got a bang on the head.</td>\n",
              "      <td>They got a great bang out of it.</td>\n",
              "      <td>9</td>\n",
              "      <td>17</td>\n",
              "      <td>1.1</td>\n",
              "      <td>bang</td>\n",
              "      <td></td>\n",
              "      <td></td>\n",
              "    </tr>\n",
              "    <tr>\n",
              "      <th>14</th>\n",
              "      <td>17</td>\n",
              "      <td>23</td>\n",
              "      <td>14</td>\n",
              "      <td>False</td>\n",
              "      <td>She felt a tremor in her stomach before going on stage.</td>\n",
              "      <td>Did you feel the tremor this morning?</td>\n",
              "      <td>11</td>\n",
              "      <td>17</td>\n",
              "      <td>1.1</td>\n",
              "      <td>tremor</td>\n",
              "      <td></td>\n",
              "      <td></td>\n",
              "    </tr>\n",
              "    <tr>\n",
              "      <th>15</th>\n",
              "      <td>36</td>\n",
              "      <td>13</td>\n",
              "      <td>15</td>\n",
              "      <td>False</td>\n",
              "      <td>This situation developed in response to events in Africa.</td>\n",
              "      <td>His responses have slowed with age.</td>\n",
              "      <td>28</td>\n",
              "      <td>4</td>\n",
              "      <td>1.1</td>\n",
              "      <td>response</td>\n",
              "      <td></td>\n",
              "      <td></td>\n",
              "    </tr>\n",
              "    <tr>\n",
              "      <th>16</th>\n",
              "      <td>18</td>\n",
              "      <td>48</td>\n",
              "      <td>16</td>\n",
              "      <td>False</td>\n",
              "      <td>He could not touch the meaning of the poem.</td>\n",
              "      <td>Helen Keller felt the physical world by touching people and objects around her.</td>\n",
              "      <td>13</td>\n",
              "      <td>40</td>\n",
              "      <td>1.1</td>\n",
              "      <td>touch</td>\n",
              "      <td></td>\n",
              "      <td></td>\n",
              "    </tr>\n",
              "    <tr>\n",
              "      <th>17</th>\n",
              "      <td>4</td>\n",
              "      <td>13</td>\n",
              "      <td>17</td>\n",
              "      <td>True</td>\n",
              "      <td>Hail a cab.</td>\n",
              "      <td>He was hailed as a hero.</td>\n",
              "      <td>0</td>\n",
              "      <td>7</td>\n",
              "      <td>1.1</td>\n",
              "      <td>hail</td>\n",
              "      <td></td>\n",
              "      <td></td>\n",
              "    </tr>\n",
              "    <tr>\n",
              "      <th>18</th>\n",
              "      <td>26</td>\n",
              "      <td>19</td>\n",
              "      <td>18</td>\n",
              "      <td>True</td>\n",
              "      <td>He was concerned with rail safety.</td>\n",
              "      <td>He traveled by rail.</td>\n",
              "      <td>22</td>\n",
              "      <td>15</td>\n",
              "      <td>1.1</td>\n",
              "      <td>rail</td>\n",
              "      <td></td>\n",
              "      <td></td>\n",
              "    </tr>\n",
              "    <tr>\n",
              "      <th>19</th>\n",
              "      <td>34</td>\n",
              "      <td>40</td>\n",
              "      <td>19</td>\n",
              "      <td>True</td>\n",
              "      <td>Lack of imagination is an obstacle to one's advancement.</td>\n",
              "      <td>The poverty of a district is an obstacle to good education.</td>\n",
              "      <td>26</td>\n",
              "      <td>32</td>\n",
              "      <td>1.1</td>\n",
              "      <td>obstacle</td>\n",
              "      <td></td>\n",
              "      <td></td>\n",
              "    </tr>\n",
              "    <tr>\n",
              "      <th>20</th>\n",
              "      <td>19</td>\n",
              "      <td>32</td>\n",
              "      <td>20</td>\n",
              "      <td>True</td>\n",
              "      <td>Force socialization rarely creates strong friendships, but there are exceptions.</td>\n",
              "      <td>There was too much socialization with the enlisted men.</td>\n",
              "      <td>6</td>\n",
              "      <td>19</td>\n",
              "      <td>1.1</td>\n",
              "      <td>socialization</td>\n",
              "      <td></td>\n",
              "      <td></td>\n",
              "    </tr>\n",
              "    <tr>\n",
              "      <th>21</th>\n",
              "      <td>42</td>\n",
              "      <td>22</td>\n",
              "      <td>21</td>\n",
              "      <td>True</td>\n",
              "      <td>The strike was supported by the union rank and file.</td>\n",
              "      <td>He rose from the ranks to become a colonel.</td>\n",
              "      <td>38</td>\n",
              "      <td>17</td>\n",
              "      <td>1.1</td>\n",
              "      <td>rank</td>\n",
              "      <td></td>\n",
              "      <td></td>\n",
              "    </tr>\n",
              "    <tr>\n",
              "      <th>22</th>\n",
              "      <td>23</td>\n",
              "      <td>4</td>\n",
              "      <td>22</td>\n",
              "      <td>False</td>\n",
              "      <td>The stick does not bend.</td>\n",
              "      <td>Bend your knees.</td>\n",
              "      <td>19</td>\n",
              "      <td>0</td>\n",
              "      <td>1.1</td>\n",
              "      <td>bend</td>\n",
              "      <td></td>\n",
              "      <td></td>\n",
              "    </tr>\n",
              "    <tr>\n",
              "      <th>23</th>\n",
              "      <td>18</td>\n",
              "      <td>14</td>\n",
              "      <td>23</td>\n",
              "      <td>True</td>\n",
              "      <td>$50 won't even buy a dress.</td>\n",
              "      <td>FMC has bought 565.</td>\n",
              "      <td>15</td>\n",
              "      <td>8</td>\n",
              "      <td>1.1</td>\n",
              "      <td>buy</td>\n",
              "      <td></td>\n",
              "      <td></td>\n",
              "    </tr>\n",
              "    <tr>\n",
              "      <th>24</th>\n",
              "      <td>5</td>\n",
              "      <td>9</td>\n",
              "      <td>24</td>\n",
              "      <td>False</td>\n",
              "      <td>Youth everywhere rises in revolt.</td>\n",
              "      <td>Her youth and beauty is what attracted him to her.</td>\n",
              "      <td>0</td>\n",
              "      <td>4</td>\n",
              "      <td>1.1</td>\n",
              "      <td>youth</td>\n",
              "      <td></td>\n",
              "      <td></td>\n",
              "    </tr>\n",
              "    <tr>\n",
              "      <th>25</th>\n",
              "      <td>6</td>\n",
              "      <td>3</td>\n",
              "      <td>25</td>\n",
              "      <td>True</td>\n",
              "      <td>To lay a tax on land.</td>\n",
              "      <td>Lay a responsibility on someone.</td>\n",
              "      <td>3</td>\n",
              "      <td>0</td>\n",
              "      <td>1.1</td>\n",
              "      <td>lay</td>\n",
              "      <td></td>\n",
              "      <td></td>\n",
              "    </tr>\n",
              "    <tr>\n",
              "      <th>26</th>\n",
              "      <td>5</td>\n",
              "      <td>11</td>\n",
              "      <td>26</td>\n",
              "      <td>True</td>\n",
              "      <td>Leave lots of time for the trip.</td>\n",
              "      <td>This leaves no room for improvement.</td>\n",
              "      <td>0</td>\n",
              "      <td>5</td>\n",
              "      <td>1.1</td>\n",
              "      <td>leave</td>\n",
              "      <td></td>\n",
              "      <td></td>\n",
              "    </tr>\n",
              "    <tr>\n",
              "      <th>27</th>\n",
              "      <td>22</td>\n",
              "      <td>30</td>\n",
              "      <td>27</td>\n",
              "      <td>False</td>\n",
              "      <td>Students making aliyah.</td>\n",
              "      <td>He was called on for an aliyah.</td>\n",
              "      <td>16</td>\n",
              "      <td>24</td>\n",
              "      <td>1.1</td>\n",
              "      <td>aliyah</td>\n",
              "      <td></td>\n",
              "      <td></td>\n",
              "    </tr>\n",
              "    <tr>\n",
              "      <th>28</th>\n",
              "      <td>7</td>\n",
              "      <td>22</td>\n",
              "      <td>28</td>\n",
              "      <td>False</td>\n",
              "      <td>Violate the sanctity of the church.</td>\n",
              "      <td>This sentence violates the rules of syntax.</td>\n",
              "      <td>0</td>\n",
              "      <td>14</td>\n",
              "      <td>1.1</td>\n",
              "      <td>violate</td>\n",
              "      <td></td>\n",
              "      <td></td>\n",
              "    </tr>\n",
              "    <tr>\n",
              "      <th>29</th>\n",
              "      <td>17</td>\n",
              "      <td>39</td>\n",
              "      <td>29</td>\n",
              "      <td>False</td>\n",
              "      <td>An eyebrow pencil.</td>\n",
              "      <td>This artist's favorite medium is pencil.</td>\n",
              "      <td>11</td>\n",
              "      <td>33</td>\n",
              "      <td>1.1</td>\n",
              "      <td>pencil</td>\n",
              "      <td></td>\n",
              "      <td></td>\n",
              "    </tr>\n",
              "    <tr>\n",
              "      <th>...</th>\n",
              "      <td>...</td>\n",
              "      <td>...</td>\n",
              "      <td>...</td>\n",
              "      <td>...</td>\n",
              "      <td>...</td>\n",
              "      <td>...</td>\n",
              "      <td>...</td>\n",
              "      <td>...</td>\n",
              "      <td>...</td>\n",
              "      <td>...</td>\n",
              "      <td>...</td>\n",
              "      <td>...</td>\n",
              "    </tr>\n",
              "    <tr>\n",
              "      <th>608</th>\n",
              "      <td>15</td>\n",
              "      <td>5</td>\n",
              "      <td>608</td>\n",
              "      <td>False</td>\n",
              "      <td>The locks pound the water of the canal.</td>\n",
              "      <td>Pound the roots with a heavy flat stone.</td>\n",
              "      <td>10</td>\n",
              "      <td>0</td>\n",
              "      <td>1.1</td>\n",
              "      <td>pound</td>\n",
              "      <td></td>\n",
              "      <td></td>\n",
              "    </tr>\n",
              "    <tr>\n",
              "      <th>609</th>\n",
              "      <td>6</td>\n",
              "      <td>9</td>\n",
              "      <td>609</td>\n",
              "      <td>True</td>\n",
              "      <td>Donate money to the orphanage.</td>\n",
              "      <td>I donated blood to the Red Cross for the victims of the earthquake.</td>\n",
              "      <td>0</td>\n",
              "      <td>2</td>\n",
              "      <td>1.1</td>\n",
              "      <td>donate</td>\n",
              "      <td></td>\n",
              "      <td></td>\n",
              "    </tr>\n",
              "    <tr>\n",
              "      <th>610</th>\n",
              "      <td>3</td>\n",
              "      <td>59</td>\n",
              "      <td>610</td>\n",
              "      <td>True</td>\n",
              "      <td>Hew out a path in the rock.</td>\n",
              "      <td>One of the most widely used typefaces in the world was hewn by the English printer and typographer John Baskerville.</td>\n",
              "      <td>0</td>\n",
              "      <td>55</td>\n",
              "      <td>1.1</td>\n",
              "      <td>hew</td>\n",
              "      <td></td>\n",
              "      <td></td>\n",
              "    </tr>\n",
              "    <tr>\n",
              "      <th>611</th>\n",
              "      <td>29</td>\n",
              "      <td>7</td>\n",
              "      <td>611</td>\n",
              "      <td>False</td>\n",
              "      <td>Google represents a new breed of entrepreneurs.</td>\n",
              "      <td>A breed of tulip.</td>\n",
              "      <td>24</td>\n",
              "      <td>2</td>\n",
              "      <td>1.1</td>\n",
              "      <td>breed</td>\n",
              "      <td></td>\n",
              "      <td></td>\n",
              "    </tr>\n",
              "    <tr>\n",
              "      <th>612</th>\n",
              "      <td>14</td>\n",
              "      <td>8</td>\n",
              "      <td>612</td>\n",
              "      <td>True</td>\n",
              "      <td>I can not risk smoking.</td>\n",
              "      <td>Why risk your life?</td>\n",
              "      <td>10</td>\n",
              "      <td>4</td>\n",
              "      <td>1.1</td>\n",
              "      <td>risk</td>\n",
              "      <td></td>\n",
              "      <td></td>\n",
              "    </tr>\n",
              "    <tr>\n",
              "      <th>613</th>\n",
              "      <td>30</td>\n",
              "      <td>41</td>\n",
              "      <td>613</td>\n",
              "      <td>True</td>\n",
              "      <td>When does the court of law sit?</td>\n",
              "      <td>In what city is the circuit court sitting for this session.</td>\n",
              "      <td>27</td>\n",
              "      <td>34</td>\n",
              "      <td>1.1</td>\n",
              "      <td>sit</td>\n",
              "      <td></td>\n",
              "      <td></td>\n",
              "    </tr>\n",
              "    <tr>\n",
              "      <th>614</th>\n",
              "      <td>12</td>\n",
              "      <td>60</td>\n",
              "      <td>614</td>\n",
              "      <td>True</td>\n",
              "      <td>Let's review your situation.</td>\n",
              "      <td>Before I tackle the question directly, I must briefly review historical approaches to the problem.</td>\n",
              "      <td>6</td>\n",
              "      <td>54</td>\n",
              "      <td>1.1</td>\n",
              "      <td>review</td>\n",
              "      <td></td>\n",
              "      <td></td>\n",
              "    </tr>\n",
              "    <tr>\n",
              "      <th>615</th>\n",
              "      <td>19</td>\n",
              "      <td>13</td>\n",
              "      <td>615</td>\n",
              "      <td>True</td>\n",
              "      <td>He's a truck jockey.</td>\n",
              "      <td>A disc jockey.</td>\n",
              "      <td>13</td>\n",
              "      <td>7</td>\n",
              "      <td>1.1</td>\n",
              "      <td>jockey</td>\n",
              "      <td></td>\n",
              "      <td></td>\n",
              "    </tr>\n",
              "    <tr>\n",
              "      <th>616</th>\n",
              "      <td>14</td>\n",
              "      <td>16</td>\n",
              "      <td>616</td>\n",
              "      <td>True</td>\n",
              "      <td>The whole body filed out of the auditorium.</td>\n",
              "      <td>The student body.</td>\n",
              "      <td>10</td>\n",
              "      <td>12</td>\n",
              "      <td>1.1</td>\n",
              "      <td>body</td>\n",
              "      <td></td>\n",
              "      <td></td>\n",
              "    </tr>\n",
              "    <tr>\n",
              "      <th>617</th>\n",
              "      <td>26</td>\n",
              "      <td>22</td>\n",
              "      <td>617</td>\n",
              "      <td>True</td>\n",
              "      <td>The country will stabilize after the next election ends.</td>\n",
              "      <td>The economy stabilized.</td>\n",
              "      <td>17</td>\n",
              "      <td>12</td>\n",
              "      <td>1.1</td>\n",
              "      <td>stabilize</td>\n",
              "      <td></td>\n",
              "      <td></td>\n",
              "    </tr>\n",
              "    <tr>\n",
              "      <th>618</th>\n",
              "      <td>11</td>\n",
              "      <td>64</td>\n",
              "      <td>618</td>\n",
              "      <td>True</td>\n",
              "      <td>A good lead for a job.</td>\n",
              "      <td>Joe is a great addition to our sales team, he has numerous leads in the paper industry.</td>\n",
              "      <td>7</td>\n",
              "      <td>59</td>\n",
              "      <td>1.1</td>\n",
              "      <td>lead</td>\n",
              "      <td></td>\n",
              "      <td></td>\n",
              "    </tr>\n",
              "    <tr>\n",
              "      <th>619</th>\n",
              "      <td>48</td>\n",
              "      <td>5</td>\n",
              "      <td>619</td>\n",
              "      <td>False</td>\n",
              "      <td>He told the painter that he wanted a yellow base with just a hint of green.</td>\n",
              "      <td>Bases include oxides and hydroxides of metals and ammonia.</td>\n",
              "      <td>44</td>\n",
              "      <td>0</td>\n",
              "      <td>1.1</td>\n",
              "      <td>base</td>\n",
              "      <td></td>\n",
              "      <td></td>\n",
              "    </tr>\n",
              "    <tr>\n",
              "      <th>620</th>\n",
              "      <td>45</td>\n",
              "      <td>14</td>\n",
              "      <td>620</td>\n",
              "      <td>False</td>\n",
              "      <td>Juvenile offenses often reflect an inadequacy in the parents.</td>\n",
              "      <td>The inadequacy of unemployment benefits.</td>\n",
              "      <td>35</td>\n",
              "      <td>4</td>\n",
              "      <td>1.1</td>\n",
              "      <td>inadequacy</td>\n",
              "      <td></td>\n",
              "      <td></td>\n",
              "    </tr>\n",
              "    <tr>\n",
              "      <th>621</th>\n",
              "      <td>38</td>\n",
              "      <td>43</td>\n",
              "      <td>621</td>\n",
              "      <td>True</td>\n",
              "      <td>The power plant received a new upgrade.</td>\n",
              "      <td>With my phone company, I get a free upgrade every twelve months if I keep topping up 10 pounds a month.</td>\n",
              "      <td>31</td>\n",
              "      <td>36</td>\n",
              "      <td>1.1</td>\n",
              "      <td>upgrade</td>\n",
              "      <td></td>\n",
              "      <td></td>\n",
              "    </tr>\n",
              "    <tr>\n",
              "      <th>622</th>\n",
              "      <td>37</td>\n",
              "      <td>49</td>\n",
              "      <td>622</td>\n",
              "      <td>False</td>\n",
              "      <td>The senator received severe criticism from his opponent.</td>\n",
              "      <td>The politician received a lot of public criticism for his controversial stance on the issue.</td>\n",
              "      <td>28</td>\n",
              "      <td>40</td>\n",
              "      <td>1.1</td>\n",
              "      <td>criticism</td>\n",
              "      <td></td>\n",
              "      <td></td>\n",
              "    </tr>\n",
              "    <tr>\n",
              "      <th>623</th>\n",
              "      <td>16</td>\n",
              "      <td>9</td>\n",
              "      <td>623</td>\n",
              "      <td>True</td>\n",
              "      <td>The last bastion of communism.</td>\n",
              "      <td>A bastion against corruption.</td>\n",
              "      <td>9</td>\n",
              "      <td>2</td>\n",
              "      <td>1.1</td>\n",
              "      <td>bastion</td>\n",
              "      <td></td>\n",
              "      <td></td>\n",
              "    </tr>\n",
              "    <tr>\n",
              "      <th>624</th>\n",
              "      <td>11</td>\n",
              "      <td>39</td>\n",
              "      <td>624</td>\n",
              "      <td>False</td>\n",
              "      <td>It's a pity he couldn't do it.</td>\n",
              "      <td>The blind are too often objects of pity.</td>\n",
              "      <td>7</td>\n",
              "      <td>35</td>\n",
              "      <td>1.1</td>\n",
              "      <td>pity</td>\n",
              "      <td></td>\n",
              "      <td></td>\n",
              "    </tr>\n",
              "    <tr>\n",
              "      <th>625</th>\n",
              "      <td>12</td>\n",
              "      <td>34</td>\n",
              "      <td>625</td>\n",
              "      <td>True</td>\n",
              "      <td>To embellish a story, the truth.</td>\n",
              "      <td>The old book cover was embellished with golden letters.</td>\n",
              "      <td>3</td>\n",
              "      <td>23</td>\n",
              "      <td>1.1</td>\n",
              "      <td>embellish</td>\n",
              "      <td></td>\n",
              "      <td></td>\n",
              "    </tr>\n",
              "    <tr>\n",
              "      <th>626</th>\n",
              "      <td>16</td>\n",
              "      <td>31</td>\n",
              "      <td>626</td>\n",
              "      <td>False</td>\n",
              "      <td>The court's tilt toward conservative rulings.</td>\n",
              "      <td>The tower had a pronounced tilt.</td>\n",
              "      <td>12</td>\n",
              "      <td>27</td>\n",
              "      <td>1.1</td>\n",
              "      <td>tilt</td>\n",
              "      <td></td>\n",
              "      <td></td>\n",
              "    </tr>\n",
              "    <tr>\n",
              "      <th>627</th>\n",
              "      <td>42</td>\n",
              "      <td>22</td>\n",
              "      <td>627</td>\n",
              "      <td>False</td>\n",
              "      <td>The assembly plant is an enormous facility.</td>\n",
              "      <td>Educational facilities.</td>\n",
              "      <td>34</td>\n",
              "      <td>12</td>\n",
              "      <td>1.1</td>\n",
              "      <td>facility</td>\n",
              "      <td></td>\n",
              "      <td></td>\n",
              "    </tr>\n",
              "    <tr>\n",
              "      <th>628</th>\n",
              "      <td>15</td>\n",
              "      <td>24</td>\n",
              "      <td>628</td>\n",
              "      <td>False</td>\n",
              "      <td>We live an hour from the airport.</td>\n",
              "      <td>It was their finest hour.</td>\n",
              "      <td>11</td>\n",
              "      <td>20</td>\n",
              "      <td>1.1</td>\n",
              "      <td>hour</td>\n",
              "      <td></td>\n",
              "      <td></td>\n",
              "    </tr>\n",
              "    <tr>\n",
              "      <th>629</th>\n",
              "      <td>16</td>\n",
              "      <td>17</td>\n",
              "      <td>629</td>\n",
              "      <td>True</td>\n",
              "      <td>The drug capital of Columbia.</td>\n",
              "      <td>The crime capital of Italy.</td>\n",
              "      <td>9</td>\n",
              "      <td>10</td>\n",
              "      <td>1.1</td>\n",
              "      <td>capital</td>\n",
              "      <td></td>\n",
              "      <td></td>\n",
              "    </tr>\n",
              "    <tr>\n",
              "      <th>630</th>\n",
              "      <td>25</td>\n",
              "      <td>16</td>\n",
              "      <td>630</td>\n",
              "      <td>False</td>\n",
              "      <td>Clinton directed his fire at the Republican Party.</td>\n",
              "      <td>There was a fire at the school last night and the whole place burned down.</td>\n",
              "      <td>21</td>\n",
              "      <td>12</td>\n",
              "      <td>1.1</td>\n",
              "      <td>fire</td>\n",
              "      <td></td>\n",
              "      <td></td>\n",
              "    </tr>\n",
              "    <tr>\n",
              "      <th>631</th>\n",
              "      <td>38</td>\n",
              "      <td>74</td>\n",
              "      <td>631</td>\n",
              "      <td>True</td>\n",
              "      <td>In every war there are acts of torture that cause the world to shudder.</td>\n",
              "      <td>Using large dogs to attack bound, hand-cuffed prisoners is clearly torture.</td>\n",
              "      <td>31</td>\n",
              "      <td>67</td>\n",
              "      <td>1.1</td>\n",
              "      <td>torture</td>\n",
              "      <td></td>\n",
              "      <td></td>\n",
              "    </tr>\n",
              "    <tr>\n",
              "      <th>632</th>\n",
              "      <td>19</td>\n",
              "      <td>44</td>\n",
              "      <td>632</td>\n",
              "      <td>False</td>\n",
              "      <td>The outward passage took 10 days.</td>\n",
              "      <td>She struggled to play the difficult passages.</td>\n",
              "      <td>12</td>\n",
              "      <td>36</td>\n",
              "      <td>1.1</td>\n",
              "      <td>passage</td>\n",
              "      <td></td>\n",
              "      <td></td>\n",
              "    </tr>\n",
              "    <tr>\n",
              "      <th>633</th>\n",
              "      <td>4</td>\n",
              "      <td>16</td>\n",
              "      <td>633</td>\n",
              "      <td>False</td>\n",
              "      <td>Rise to the occasion.</td>\n",
              "      <td>Her spirits rose when she heard the good news.</td>\n",
              "      <td>0</td>\n",
              "      <td>12</td>\n",
              "      <td>1.1</td>\n",
              "      <td>rise</td>\n",
              "      <td></td>\n",
              "      <td></td>\n",
              "    </tr>\n",
              "    <tr>\n",
              "      <th>634</th>\n",
              "      <td>6</td>\n",
              "      <td>15</td>\n",
              "      <td>634</td>\n",
              "      <td>False</td>\n",
              "      <td>Chisel the marble.</td>\n",
              "      <td>Who's chiseling on the side?</td>\n",
              "      <td>0</td>\n",
              "      <td>6</td>\n",
              "      <td>1.1</td>\n",
              "      <td>chisel</td>\n",
              "      <td></td>\n",
              "      <td></td>\n",
              "    </tr>\n",
              "    <tr>\n",
              "      <th>635</th>\n",
              "      <td>8</td>\n",
              "      <td>8</td>\n",
              "      <td>635</td>\n",
              "      <td>True</td>\n",
              "      <td>The bane of my existence.</td>\n",
              "      <td>The bane of my life.</td>\n",
              "      <td>4</td>\n",
              "      <td>4</td>\n",
              "      <td>1.1</td>\n",
              "      <td>bane</td>\n",
              "      <td></td>\n",
              "      <td></td>\n",
              "    </tr>\n",
              "    <tr>\n",
              "      <th>636</th>\n",
              "      <td>10</td>\n",
              "      <td>4</td>\n",
              "      <td>636</td>\n",
              "      <td>True</td>\n",
              "      <td>Let's hang this cute animal in the nursery.</td>\n",
              "      <td>Hang wallpaper.</td>\n",
              "      <td>6</td>\n",
              "      <td>0</td>\n",
              "      <td>1.1</td>\n",
              "      <td>hang</td>\n",
              "      <td></td>\n",
              "      <td></td>\n",
              "    </tr>\n",
              "    <tr>\n",
              "      <th>637</th>\n",
              "      <td>37</td>\n",
              "      <td>7</td>\n",
              "      <td>637</td>\n",
              "      <td>True</td>\n",
              "      <td>He experimented on a particular breed of white rats.</td>\n",
              "      <td>A breed of animal.</td>\n",
              "      <td>32</td>\n",
              "      <td>2</td>\n",
              "      <td>1.1</td>\n",
              "      <td>breed</td>\n",
              "      <td></td>\n",
              "      <td></td>\n",
              "    </tr>\n",
              "  </tbody>\n",
              "</table>\n",
              "<p>638 rows × 12 columns</p>\n",
              "</div>"
            ],
            "text/plain": [
              "     end1  end2  idx  ...               word sentence1_idx sentence2_idx\n",
              "0    30    90    0    ...  class                                        \n",
              "1    27    25    1    ...  stripe                                       \n",
              "2    36    7     2    ...  check                                        \n",
              "3    31    35    3    ...  brush                                        \n",
              "4    23    52    4    ...  acquisition                                  \n",
              "5    7     6     5    ...  thing                                        \n",
              "6    12    38    6    ...  minister                                     \n",
              "7    17    21    7    ...  easiness                                     \n",
              "8    30    48    8    ...  contradistinction                            \n",
              "9    79    8     9    ...  home                                         \n",
              "10   24    14    10   ...  inclination                                  \n",
              "11   12    13    11   ...  assurance                                    \n",
              "12   40    32    12   ...  save                                         \n",
              "13   13    21    13   ...  bang                                         \n",
              "14   17    23    14   ...  tremor                                       \n",
              "15   36    13    15   ...  response                                     \n",
              "16   18    48    16   ...  touch                                        \n",
              "17   4     13    17   ...  hail                                         \n",
              "18   26    19    18   ...  rail                                         \n",
              "19   34    40    19   ...  obstacle                                     \n",
              "20   19    32    20   ...  socialization                                \n",
              "21   42    22    21   ...  rank                                         \n",
              "22   23    4     22   ...  bend                                         \n",
              "23   18    14    23   ...  buy                                          \n",
              "24   5     9     24   ...  youth                                        \n",
              "25   6     3     25   ...  lay                                          \n",
              "26   5     11    26   ...  leave                                        \n",
              "27   22    30    27   ...  aliyah                                       \n",
              "28   7     22    28   ...  violate                                      \n",
              "29   17    39    29   ...  pencil                                       \n",
              "..   ..    ..    ..   ...     ...            ..            ..           \n",
              "608  15    5     608  ...  pound                                        \n",
              "609  6     9     609  ...  donate                                       \n",
              "610  3     59    610  ...  hew                                          \n",
              "611  29    7     611  ...  breed                                        \n",
              "612  14    8     612  ...  risk                                         \n",
              "613  30    41    613  ...  sit                                          \n",
              "614  12    60    614  ...  review                                       \n",
              "615  19    13    615  ...  jockey                                       \n",
              "616  14    16    616  ...  body                                         \n",
              "617  26    22    617  ...  stabilize                                    \n",
              "618  11    64    618  ...  lead                                         \n",
              "619  48    5     619  ...  base                                         \n",
              "620  45    14    620  ...  inadequacy                                   \n",
              "621  38    43    621  ...  upgrade                                      \n",
              "622  37    49    622  ...  criticism                                    \n",
              "623  16    9     623  ...  bastion                                      \n",
              "624  11    39    624  ...  pity                                         \n",
              "625  12    34    625  ...  embellish                                    \n",
              "626  16    31    626  ...  tilt                                         \n",
              "627  42    22    627  ...  facility                                     \n",
              "628  15    24    628  ...  hour                                         \n",
              "629  16    17    629  ...  capital                                      \n",
              "630  25    16    630  ...  fire                                         \n",
              "631  38    74    631  ...  torture                                      \n",
              "632  19    44    632  ...  passage                                      \n",
              "633  4     16    633  ...  rise                                         \n",
              "634  6     15    634  ...  chisel                                       \n",
              "635  8     8     635  ...  bane                                         \n",
              "636  10    4     636  ...  hang                                         \n",
              "637  37    7     637  ...  breed                                        \n",
              "\n",
              "[638 rows x 12 columns]"
            ]
          },
          "metadata": {
            "tags": []
          },
          "execution_count": 229
        }
      ]
    },
    {
      "cell_type": "code",
      "metadata": {
        "id": "DeJ89lzewqVo",
        "colab_type": "code",
        "outputId": "92c4c175-a47a-4b57-c657-8f1bbd1d9e74",
        "colab": {
          "base_uri": "https://localhost:8080/",
          "height": 232
        }
      },
      "source": [
        "task_name = \"WiC\"\n",
        "data_dir = os.environ.get(\"SUPERGLUEDATA\", os.path.join(str(cwd.parents[0]), \"./snorkel-superglue-master/Data\"))\n",
        "split = \"valid\"\n",
        "max_data_samples = None # max examples to include in dataset\n",
        "\n",
        "jsonl_path = get_jsonl_path(data_dir, task_name, split)\n",
        "# print(jsonl_path)\n",
        "# data_df = pd.read_json(jsonl_path, lines=True)\n",
        "\n",
        "wic_df = pd.DataFrame.from_records(get_rowss(jsonl_path, max_data_samples))\n",
        "\n",
        "wic_df[[\"sentence1_idx\"]].head()\n",
        "\n"
      ],
      "execution_count": 0,
      "outputs": [
        {
          "output_type": "error",
          "ename": "NameError",
          "evalue": "ignored",
          "traceback": [
            "\u001b[0;31m---------------------------------------------------------------------------\u001b[0m",
            "\u001b[0;31mNameError\u001b[0m                                 Traceback (most recent call last)",
            "\u001b[0;32m<ipython-input-16-9e850ef5a8e8>\u001b[0m in \u001b[0;36m<module>\u001b[0;34m()\u001b[0m\n\u001b[1;32m      4\u001b[0m \u001b[0mmax_data_samples\u001b[0m \u001b[0;34m=\u001b[0m \u001b[0;32mNone\u001b[0m \u001b[0;31m# max examples to include in dataset\u001b[0m\u001b[0;34m\u001b[0m\u001b[0;34m\u001b[0m\u001b[0m\n\u001b[1;32m      5\u001b[0m \u001b[0;34m\u001b[0m\u001b[0m\n\u001b[0;32m----> 6\u001b[0;31m \u001b[0mjsonl_path\u001b[0m \u001b[0;34m=\u001b[0m \u001b[0mget_jsonl_path\u001b[0m\u001b[0;34m(\u001b[0m\u001b[0mdata_dir\u001b[0m\u001b[0;34m,\u001b[0m \u001b[0mtask_name\u001b[0m\u001b[0;34m,\u001b[0m \u001b[0msplit\u001b[0m\u001b[0;34m)\u001b[0m\u001b[0;34m\u001b[0m\u001b[0;34m\u001b[0m\u001b[0m\n\u001b[0m\u001b[1;32m      7\u001b[0m \u001b[0;31m# print(jsonl_path)\u001b[0m\u001b[0;34m\u001b[0m\u001b[0;34m\u001b[0m\u001b[0;34m\u001b[0m\u001b[0m\n\u001b[1;32m      8\u001b[0m \u001b[0;31m# data_df = pd.read_json(jsonl_path, lines=True)\u001b[0m\u001b[0;34m\u001b[0m\u001b[0;34m\u001b[0m\u001b[0;34m\u001b[0m\u001b[0m\n",
            "\u001b[0;31mNameError\u001b[0m: name 'get_jsonl_path' is not defined"
          ]
        }
      ]
    },
    {
      "cell_type": "code",
      "metadata": {
        "id": "pL6bUlFMm1tt",
        "colab_type": "code",
        "colab": {}
      },
      "source": [
        "import json\n",
        "\n",
        "\n",
        "from pytorch_pretrained_bert import BertTokenizer\n",
        "\n",
        "\n",
        "import superglue_parsers"
      ],
      "execution_count": 0,
      "outputs": []
    },
    {
      "cell_type": "code",
      "metadata": {
        "id": "0rIy2OybmFLS",
        "colab_type": "code",
        "colab": {}
      },
      "source": [
        "def get_rowss(jsonl_path, max_data_samples):\n",
        "  \n",
        "  logger.info(f\"Loading data from {jsonl_path}.\")\n",
        "  \n",
        "  rows = [json.loads(row) for row in open(jsonl_path, encoding=\"utf-8\")]\n",
        "  \n",
        "      \n",
        "  print(rows)    \n",
        "      \n",
        "  for i in range(2):\n",
        "    logger.info(f\"Sample {i}: {rows[i]}\")\n",
        "#     print(open(jsonl_path, encoding=\"utf-8\"))\n",
        "    # Truncate to max_data_samples\n",
        "  \n",
        "  \n",
        "  if max_data_samples:\n",
        "    rows = rows[:max_data_samples]\n",
        "    logger.info(f\"Truncating to {max_data_samples} samples.\")\n",
        "\n",
        "  for row in rows:\n",
        "    row[\"sentence1_idx\"] = int(row[\"idx\"])\n",
        "    row[\"sentence2_idx\"] = int(row[\"idx\"])\n",
        "    row[\"label\"] = row[\"label\"] if \"label\" in row else True\n",
        "    \n",
        "  return rows\n",
        "import logging  \n",
        "logger = logging.getLogger(__name__)\n",
        "\n",
        "def get_ro(jsonl_path, max_data_samples):\n",
        "    logger.info(f\"Loading data from {jsonl_path}.\")\n",
        "    rows = [json.loads(row) for row in open(jsonl_path, encoding=\"utf-8\")]\n",
        "    for i in range(2):\n",
        "        logger.info(f\"Sample {i}: {rows[i]}\")\n",
        "    print(rows)\n",
        "    # Truncate to max_data_samples\n",
        "    if max_data_samples:\n",
        "        rows = rows[:max_data_samples]\n",
        "        logger.info(f\"Truncating to {max_data_samples} samples.\")\n",
        "\n",
        "    for row in rows:\n",
        "        row[\"sentence1_idx\"] = int(row[\"idx\"])\n",
        "        row[\"sentence2_idx\"] = int(row[\"idx\"])\n",
        "        row[\"label\"] = row[\"label\"] if \"label\" in row else True\n",
        "\n",
        "    return rows\n"
      ],
      "execution_count": 0,
      "outputs": []
    },
    {
      "cell_type": "code",
      "metadata": {
        "id": "yK2q9igXlydt",
        "colab_type": "code",
        "colab": {}
      },
      "source": [
        "bert_model = \"bert-large-cased\"\n",
        "tokenizer_name = \"bert-large-cased\"\n",
        "batch_size = 4\n",
        "max_sequence_length = 256"
      ],
      "execution_count": 0,
      "outputs": []
    },
    {
      "cell_type": "code",
      "metadata": {
        "id": "rP53zQvsl_nU",
        "colab_type": "code",
        "outputId": "3ca3329b-e140-428f-c078-b3cdb0d7b1cc",
        "colab": {
          "base_uri": "https://localhost:8080/",
          "height": 34
        }
      },
      "source": [
        "tokenizer = get_tokenizer(tokenizer_name)\n",
        "print(max_data_samples)"
      ],
      "execution_count": 0,
      "outputs": [
        {
          "output_type": "stream",
          "text": [
            "None\n"
          ],
          "name": "stdout"
        }
      ]
    },
    {
      "cell_type": "code",
      "metadata": {
        "id": "au0Tt2UZmBri",
        "colab_type": "code",
        "colab": {}
      },
      "source": [
        "\n",
        "from dataloaders import get_dataloaders\n",
        "\n",
        "dataloaders = get_dataloaders(\n",
        "    task_name=TASK_NAME,\n",
        "    tokenizer_name=BERT_MODEL,\n",
        "    **dataloader_config\n",
        ")"
      ],
      "execution_count": 0,
      "outputs": []
    },
    {
      "cell_type": "code",
      "metadata": {
        "id": "KtXhsSkEte49",
        "colab_type": "code",
        "colab": {}
      },
      "source": [
        "def get_dataseet(\n",
        "    data_dir: str,\n",
        "    task_name: str,\n",
        "    split: str,\n",
        "    tokenizer: BertTokenizer,\n",
        "    max_data_samples: int,\n",
        "    max_sequence_length: int,\n",
        "):\n",
        "    jsonl_path = get_jsonl_path(data_dir, task_name, split)\n",
        "    return superglue_parsers.parser[task_name](\n",
        "        jsonl_path, tokenizer, max_data_samples, max_sequence_length\n",
        "    )\n"
      ],
      "execution_count": 0,
      "outputs": []
    },
    {
      "cell_type": "code",
      "metadata": {
        "id": "K3JEhLp3vYLs",
        "colab_type": "code",
        "colab": {}
      },
      "source": [
        "base_task = superglue_tasks.task_funcs[task_name](bert_model)\n",
        "tasks = [base_task]\n",
        "tasks"
      ],
      "execution_count": 0,
      "outputs": []
    },
    {
      "cell_type": "code",
      "metadata": {
        "id": "gPYiJOKn1D4m",
        "colab_type": "code",
        "colab": {}
      },
      "source": [
        "!rm wic.py"
      ],
      "execution_count": 0,
      "outputs": []
    },
    {
      "cell_type": "code",
      "metadata": {
        "id": "ItWWU9zJ1LDt",
        "colab_type": "code",
        "outputId": "ca91c0ae-7925-48ca-84dd-b265482a80e9",
        "colab": {
          "base_uri": "https://localhost:8080/",
          "height": 187
        }
      },
      "source": [
        "!unzip RTE.zip"
      ],
      "execution_count": 0,
      "outputs": [
        {
          "output_type": "stream",
          "text": [
            "Archive:  RTE.zip\n",
            "   creating: RTE/\n",
            "  inflating: RTE/train.jsonl         \n",
            "   creating: __MACOSX/RTE/\n",
            "  inflating: __MACOSX/RTE/._train.jsonl  \n",
            "  inflating: RTE/test.jsonl          \n",
            "  inflating: __MACOSX/RTE/._test.jsonl  \n",
            "  inflating: RTE/val.jsonl           \n",
            "  inflating: __MACOSX/RTE/._val.jsonl  \n",
            "  inflating: __MACOSX/._RTE          \n"
          ],
          "name": "stdout"
        }
      ]
    },
    {
      "cell_type": "code",
      "metadata": {
        "id": "AilrDzp91MAm",
        "colab_type": "code",
        "outputId": "3410682f-e140-4636-9bea-ef8e49a3fb94",
        "colab": {
          "base_uri": "https://localhost:8080/",
          "height": 381
        }
      },
      "source": [
        "from google.colab import files\n",
        "uploaded = files.upload()"
      ],
      "execution_count": 0,
      "outputs": [
        {
          "output_type": "display_data",
          "data": {
            "text/html": [
              "\n",
              "     <input type=\"file\" id=\"files-6a89ce48-4931-494c-b089-19b9c665c9c8\" name=\"files[]\" multiple disabled />\n",
              "     <output id=\"result-6a89ce48-4931-494c-b089-19b9c665c9c8\">\n",
              "      Upload widget is only available when the cell has been executed in the\n",
              "      current browser session. Please rerun this cell to enable.\n",
              "      </output>\n",
              "      <script src=\"/nbextensions/google.colab/files.js\"></script> "
            ],
            "text/plain": [
              "<IPython.core.display.HTML object>"
            ]
          },
          "metadata": {
            "tags": []
          }
        },
        {
          "output_type": "error",
          "ename": "MessageError",
          "evalue": "ignored",
          "traceback": [
            "\u001b[0;31m---------------------------------------------------------------------------\u001b[0m",
            "\u001b[0;31mMessageError\u001b[0m                              Traceback (most recent call last)",
            "\u001b[0;32m<ipython-input-1-21dc3c638f66>\u001b[0m in \u001b[0;36m<module>\u001b[0;34m()\u001b[0m\n\u001b[1;32m      1\u001b[0m \u001b[0;32mfrom\u001b[0m \u001b[0mgoogle\u001b[0m\u001b[0;34m.\u001b[0m\u001b[0mcolab\u001b[0m \u001b[0;32mimport\u001b[0m \u001b[0mfiles\u001b[0m\u001b[0;34m\u001b[0m\u001b[0;34m\u001b[0m\u001b[0m\n\u001b[0;32m----> 2\u001b[0;31m \u001b[0muploaded\u001b[0m \u001b[0;34m=\u001b[0m \u001b[0mfiles\u001b[0m\u001b[0;34m.\u001b[0m\u001b[0mupload\u001b[0m\u001b[0;34m(\u001b[0m\u001b[0;34m)\u001b[0m\u001b[0;34m\u001b[0m\u001b[0;34m\u001b[0m\u001b[0m\n\u001b[0m",
            "\u001b[0;32m/usr/local/lib/python3.6/dist-packages/google/colab/files.py\u001b[0m in \u001b[0;36mupload\u001b[0;34m()\u001b[0m\n\u001b[1;32m     62\u001b[0m   result = _output.eval_js(\n\u001b[1;32m     63\u001b[0m       'google.colab._files._uploadFiles(\"{input_id}\", \"{output_id}\")'.format(\n\u001b[0;32m---> 64\u001b[0;31m           input_id=input_id, output_id=output_id))\n\u001b[0m\u001b[1;32m     65\u001b[0m   \u001b[0mfiles\u001b[0m \u001b[0;34m=\u001b[0m \u001b[0m_collections\u001b[0m\u001b[0;34m.\u001b[0m\u001b[0mdefaultdict\u001b[0m\u001b[0;34m(\u001b[0m\u001b[0m_six\u001b[0m\u001b[0;34m.\u001b[0m\u001b[0mbinary_type\u001b[0m\u001b[0;34m)\u001b[0m\u001b[0;34m\u001b[0m\u001b[0;34m\u001b[0m\u001b[0m\n\u001b[1;32m     66\u001b[0m   \u001b[0;31m# Mapping from original filename to filename as saved locally.\u001b[0m\u001b[0;34m\u001b[0m\u001b[0;34m\u001b[0m\u001b[0;34m\u001b[0m\u001b[0m\n",
            "\u001b[0;32m/usr/local/lib/python3.6/dist-packages/google/colab/output/_js.py\u001b[0m in \u001b[0;36meval_js\u001b[0;34m(script, ignore_result)\u001b[0m\n\u001b[1;32m     37\u001b[0m   \u001b[0;32mif\u001b[0m \u001b[0mignore_result\u001b[0m\u001b[0;34m:\u001b[0m\u001b[0;34m\u001b[0m\u001b[0;34m\u001b[0m\u001b[0m\n\u001b[1;32m     38\u001b[0m     \u001b[0;32mreturn\u001b[0m\u001b[0;34m\u001b[0m\u001b[0;34m\u001b[0m\u001b[0m\n\u001b[0;32m---> 39\u001b[0;31m   \u001b[0;32mreturn\u001b[0m \u001b[0m_message\u001b[0m\u001b[0;34m.\u001b[0m\u001b[0mread_reply_from_input\u001b[0m\u001b[0;34m(\u001b[0m\u001b[0mrequest_id\u001b[0m\u001b[0;34m)\u001b[0m\u001b[0;34m\u001b[0m\u001b[0;34m\u001b[0m\u001b[0m\n\u001b[0m\u001b[1;32m     40\u001b[0m \u001b[0;34m\u001b[0m\u001b[0m\n\u001b[1;32m     41\u001b[0m \u001b[0;34m\u001b[0m\u001b[0m\n",
            "\u001b[0;32m/usr/local/lib/python3.6/dist-packages/google/colab/_message.py\u001b[0m in \u001b[0;36mread_reply_from_input\u001b[0;34m(message_id, timeout_sec)\u001b[0m\n\u001b[1;32m    104\u001b[0m         reply.get('colab_msg_id') == message_id):\n\u001b[1;32m    105\u001b[0m       \u001b[0;32mif\u001b[0m \u001b[0;34m'error'\u001b[0m \u001b[0;32min\u001b[0m \u001b[0mreply\u001b[0m\u001b[0;34m:\u001b[0m\u001b[0;34m\u001b[0m\u001b[0;34m\u001b[0m\u001b[0m\n\u001b[0;32m--> 106\u001b[0;31m         \u001b[0;32mraise\u001b[0m \u001b[0mMessageError\u001b[0m\u001b[0;34m(\u001b[0m\u001b[0mreply\u001b[0m\u001b[0;34m[\u001b[0m\u001b[0;34m'error'\u001b[0m\u001b[0;34m]\u001b[0m\u001b[0;34m)\u001b[0m\u001b[0;34m\u001b[0m\u001b[0;34m\u001b[0m\u001b[0m\n\u001b[0m\u001b[1;32m    107\u001b[0m       \u001b[0;32mreturn\u001b[0m \u001b[0mreply\u001b[0m\u001b[0;34m.\u001b[0m\u001b[0mget\u001b[0m\u001b[0;34m(\u001b[0m\u001b[0;34m'data'\u001b[0m\u001b[0;34m,\u001b[0m \u001b[0;32mNone\u001b[0m\u001b[0;34m)\u001b[0m\u001b[0;34m\u001b[0m\u001b[0;34m\u001b[0m\u001b[0m\n\u001b[1;32m    108\u001b[0m \u001b[0;34m\u001b[0m\u001b[0m\n",
            "\u001b[0;31mMessageError\u001b[0m: TypeError: Cannot read property '_uploadFiles' of undefined"
          ]
        }
      ]
    },
    {
      "cell_type": "markdown",
      "metadata": {
        "id": "gbs4ZLjfkAsb",
        "colab_type": "text"
      },
      "source": [
        "When you execute your script, CWD is set to the directory where your script is."
      ]
    },
    {
      "cell_type": "code",
      "metadata": {
        "id": "5Ra7Xq4hE8L1",
        "colab_type": "code",
        "colab": {}
      },
      "source": [
        "import os, sys\n",
        "from pathlib import Path\n",
        "\n",
        "if not \"cwd\" in globals():\n",
        "    cwd = Path(os.getcwd())\n"
      ],
      "execution_count": 0,
      "outputs": []
    },
    {
      "cell_type": "markdown",
      "metadata": {
        "id": "bmKqlv9xkToO",
        "colab_type": "text"
      },
      "source": [
        "Usine Bert pre trained model.\n",
        "Out of four model using bert_large-cases\n",
        "\n",
        "\n",
        "Use ADAM optimer defined by bert"
      ]
    },
    {
      "cell_type": "code",
      "metadata": {
        "id": "no4S1EedE9vt",
        "colab_type": "code",
        "colab": {}
      },
      "source": [
        "\n",
        "TASK_NAME = \"RTE\"\n",
        "BERT_MODEL = \"bert-large-cased\"\n",
        "\n",
        "dataloader_config = {\n",
        "    \"batch_size\": 8,\n",
        "    \"data_dir\": os.environ.get(\"SUPERGLUEDATA\", os.path.join(str(cwd.parents[0]), \"./snorkel-superglue-master/Data\")),\n",
        "    \"splits\": [\"train\", \"valid\"],\n",
        "}\n",
        "\n",
        "trainer_config = {\n",
        "    \"lr\": 2e-5,\n",
        "    \"optimizer\": \"adamax\",\n",
        "    \"n_epochs\": 15,\n",
        "    \"conter_unit\": \"epochs\",\n",
        "    \"evaluation_freq\": 0.25,\n",
        "}"
      ],
      "execution_count": 0,
      "outputs": []
    },
    {
      "cell_type": "markdown",
      "metadata": {
        "id": "GO87TkJikkRp",
        "colab_type": "text"
      },
      "source": [
        "load data and return dataloaders"
      ]
    },
    {
      "cell_type": "code",
      "metadata": {
        "id": "mDZ0pPBCFEzv",
        "colab_type": "code",
        "outputId": "66886d24-cbb0-449d-faaf-a8df50739695",
        "colab": {
          "base_uri": "https://localhost:8080/",
          "height": 51
        }
      },
      "source": [
        "\n",
        "from dataloaders import get_dataloaders\n",
        "\n",
        "dataloaders = get_dataloaders(\n",
        "    task_name=TASK_NAME,\n",
        "    tokenizer_name=BERT_MODEL,\n",
        "    **dataloader_config\n",
        ")\n",
        "\n",
        "dataloaders"
      ],
      "execution_count": 0,
      "outputs": [
        {
          "output_type": "execute_result",
          "data": {
            "text/plain": [
              "[<snorkel.mtl.data.MultitaskDataLoader at 0x7f6f68c8f048>,\n",
              " <snorkel.mtl.data.MultitaskDataLoader at 0x7f6f68c8f438>]"
            ]
          },
          "metadata": {
            "tags": []
          },
          "execution_count": 296
        }
      ]
    },
    {
      "cell_type": "code",
      "metadata": {
        "id": "KWZokZ_XFIlR",
        "colab_type": "code",
        "outputId": "f29d0f8f-40c2-44d9-d1c0-dc3e5bbfdb30",
        "colab": {
          "base_uri": "https://localhost:8080/",
          "height": 34
        }
      },
      "source": [
        "from superglue_tasks import task_funcs\n",
        "\n",
        "task = task_funcs[TASK_NAME](BERT_MODEL)"
      ],
      "execution_count": 0,
      "outputs": [
        {
          "output_type": "stream",
          "text": [
            "100%|██████████| 1242874899/1242874899 [00:32<00:00, 38291927.81B/s]\n"
          ],
          "name": "stderr"
        }
      ]
    },
    {
      "cell_type": "code",
      "metadata": {
        "id": "t1l52If1GA06",
        "colab_type": "code",
        "outputId": "50f0902a-9842-42b0-f29b-64871133e6ae",
        "colab": {
          "base_uri": "https://localhost:8080/",
          "height": 317
        }
      },
      "source": [
        "from snorkel.mtl.model import MultitaskModel\n",
        "from snorkel.mtl.trainer import Trainer\n"
      ],
      "execution_count": 0,
      "outputs": [
        {
          "output_type": "error",
          "ename": "ModuleNotFoundError",
          "evalue": "ignored",
          "traceback": [
            "\u001b[0;31m---------------------------------------------------------------------------\u001b[0m",
            "\u001b[0;31mModuleNotFoundError\u001b[0m                       Traceback (most recent call last)",
            "\u001b[0;32m<ipython-input-2-301ae69221d5>\u001b[0m in \u001b[0;36m<module>\u001b[0;34m()\u001b[0m\n\u001b[0;32m----> 1\u001b[0;31m \u001b[0;32mfrom\u001b[0m \u001b[0msnorkel\u001b[0m\u001b[0;34m.\u001b[0m\u001b[0mmtl\u001b[0m\u001b[0;34m.\u001b[0m\u001b[0mmodel\u001b[0m \u001b[0;32mimport\u001b[0m \u001b[0mMultitaskModel\u001b[0m\u001b[0;34m\u001b[0m\u001b[0;34m\u001b[0m\u001b[0m\n\u001b[0m\u001b[1;32m      2\u001b[0m \u001b[0;32mfrom\u001b[0m \u001b[0msnorkel\u001b[0m\u001b[0;34m.\u001b[0m\u001b[0mmtl\u001b[0m\u001b[0;34m.\u001b[0m\u001b[0mtrainer\u001b[0m \u001b[0;32mimport\u001b[0m \u001b[0mTrainer\u001b[0m\u001b[0;34m\u001b[0m\u001b[0;34m\u001b[0m\u001b[0m\n",
            "\u001b[0;31mModuleNotFoundError\u001b[0m: No module named 'snorkel'",
            "",
            "\u001b[0;31m---------------------------------------------------------------------------\u001b[0;32m\nNOTE: If your import is failing due to a missing package, you can\nmanually install dependencies using either !pip or !apt.\n\nTo view examples of installing some common dependencies, click the\n\"Open Examples\" button below.\n\u001b[0;31m---------------------------------------------------------------------------\u001b[0m\n"
          ]
        }
      ]
    },
    {
      "cell_type": "markdown",
      "metadata": {
        "id": "5PQL6OAjns2o",
        "colab_type": "text"
      },
      "source": [
        "get the pre trained bert  model which will save our time and memory\n",
        "  if you want to train the bert model:\n",
        "  use following code\n",
        "  trainer = Trainer(**trainer_config) \n",
        "\n",
        "  trainer.train_model(model, dataloaders)"
      ]
    },
    {
      "cell_type": "code",
      "metadata": {
        "id": "UR9sb3zBGDgj",
        "colab_type": "code",
        "outputId": "2f2a5083-19aa-47e9-dfba-4cdb53f2219f",
        "colab": {
          "base_uri": "https://localhost:8080/",
          "height": 609
        }
      },
      "source": [
        "! wget -nc https://www.dropbox.com/s/t2ri9o0iz765hsn/RTE_bert.pth?dl=0 && mv RTE_bert.pth?dl=0 RTE_bert.pth\n",
        "model.load(\"RTE_bert.pth\")"
      ],
      "execution_count": 0,
      "outputs": [
        {
          "output_type": "stream",
          "text": [
            "--2019-08-09 09:10:16--  https://www.dropbox.com/s/t2ri9o0iz765hsn/RTE_bert.pth?dl=0\n",
            "Resolving www.dropbox.com (www.dropbox.com)... 162.125.1.1, 2620:100:601b:1::a27d:801\n",
            "Connecting to www.dropbox.com (www.dropbox.com)|162.125.1.1|:443... connected.\n",
            "HTTP request sent, awaiting response... 301 Moved Permanently\n",
            "Location: /s/raw/t2ri9o0iz765hsn/RTE_bert.pth [following]\n",
            "--2019-08-09 09:10:16--  https://www.dropbox.com/s/raw/t2ri9o0iz765hsn/RTE_bert.pth\n",
            "Reusing existing connection to www.dropbox.com:443.\n",
            "HTTP request sent, awaiting response... 302 Found\n",
            "Location: https://uc339f237333998a5c22478adb5c.dl.dropboxusercontent.com/cd/0/inline/AmR5qHOaSgSa1Tt8FAks6hS51jk4ikNyAkPztXiGzIQdOUSxGFy4hdQONfKuHlHmzqSgkm8E5FsxUKV1Gup6KzY-HR5BfyzNdCCVie2Zqzh5zw/file# [following]\n",
            "--2019-08-09 09:10:16--  https://uc339f237333998a5c22478adb5c.dl.dropboxusercontent.com/cd/0/inline/AmR5qHOaSgSa1Tt8FAks6hS51jk4ikNyAkPztXiGzIQdOUSxGFy4hdQONfKuHlHmzqSgkm8E5FsxUKV1Gup6KzY-HR5BfyzNdCCVie2Zqzh5zw/file\n",
            "Resolving uc339f237333998a5c22478adb5c.dl.dropboxusercontent.com (uc339f237333998a5c22478adb5c.dl.dropboxusercontent.com)... 162.125.1.6, 2620:100:6016:6::a27d:106\n",
            "Connecting to uc339f237333998a5c22478adb5c.dl.dropboxusercontent.com (uc339f237333998a5c22478adb5c.dl.dropboxusercontent.com)|162.125.1.6|:443... connected.\n",
            "HTTP request sent, awaiting response... 302 FOUND\n",
            "Location: /cd/0/inline2/AmScc50Yj3X52Wjoooud7Kf_rfjnkOQemCn6IcLKgFIkq8la8ydDRBkzwj2GLMOOHUSVk6bVCz3zQ-TS2nrxHBJ6zjYfdT1VB1AINlfxaZrHl89vizH9aCZVPocUMapCjYV2Ge1i9lSx4rMpsjI03Zx8_8AAlB-x6T0gvIBfKT2UufiC5eS40ey5C8heuY3bEX9MOPag9mRnxX52VqjllSnBJ8OsUMXpSY_gQfS9xmLWlWOtq9BvFBBGzmOMRoKibAwSIahjyc24H8u9kQO8MGdRDv1KgWjnJ2NP9HDMYmTrUhsmB3jZGj6MmmeWqlyHiAd8kA_CPeZp8vjXYxVfRlyU/file [following]\n",
            "--2019-08-09 09:10:17--  https://uc339f237333998a5c22478adb5c.dl.dropboxusercontent.com/cd/0/inline2/AmScc50Yj3X52Wjoooud7Kf_rfjnkOQemCn6IcLKgFIkq8la8ydDRBkzwj2GLMOOHUSVk6bVCz3zQ-TS2nrxHBJ6zjYfdT1VB1AINlfxaZrHl89vizH9aCZVPocUMapCjYV2Ge1i9lSx4rMpsjI03Zx8_8AAlB-x6T0gvIBfKT2UufiC5eS40ey5C8heuY3bEX9MOPag9mRnxX52VqjllSnBJ8OsUMXpSY_gQfS9xmLWlWOtq9BvFBBGzmOMRoKibAwSIahjyc24H8u9kQO8MGdRDv1KgWjnJ2NP9HDMYmTrUhsmB3jZGj6MmmeWqlyHiAd8kA_CPeZp8vjXYxVfRlyU/file\n",
            "Reusing existing connection to uc339f237333998a5c22478adb5c.dl.dropboxusercontent.com:443.\n",
            "HTTP request sent, awaiting response... 200 OK\n",
            "Length: 1334429106 (1.2G) [application/octet-stream]\n",
            "Saving to: ‘RTE_bert.pth?dl=0’\n",
            "\n",
            "RTE_bert.pth?dl=0   100%[===================>]   1.24G  39.3MB/s    in 35s     \n",
            "\n",
            "2019-08-09 09:10:53 (35.9 MB/s) - ‘RTE_bert.pth?dl=0’ saved [1334429106/1334429106]\n",
            "\n"
          ],
          "name": "stdout"
        },
        {
          "output_type": "error",
          "ename": "NameError",
          "evalue": "ignored",
          "traceback": [
            "\u001b[0;31m---------------------------------------------------------------------------\u001b[0m",
            "\u001b[0;31mNameError\u001b[0m                                 Traceback (most recent call last)",
            "\u001b[0;32m<ipython-input-297-ecc283b139d8>\u001b[0m in \u001b[0;36m<module>\u001b[0;34m()\u001b[0m\n\u001b[1;32m      1\u001b[0m \u001b[0mget_ipython\u001b[0m\u001b[0;34m(\u001b[0m\u001b[0;34m)\u001b[0m\u001b[0;34m.\u001b[0m\u001b[0msystem\u001b[0m\u001b[0;34m(\u001b[0m\u001b[0;34m' wget -nc https://www.dropbox.com/s/t2ri9o0iz765hsn/RTE_bert.pth?dl=0 && mv RTE_bert.pth?dl=0 RTE_bert.pth'\u001b[0m\u001b[0;34m)\u001b[0m\u001b[0;34m\u001b[0m\u001b[0;34m\u001b[0m\u001b[0m\n\u001b[0;32m----> 2\u001b[0;31m \u001b[0mmodel\u001b[0m\u001b[0;34m.\u001b[0m\u001b[0mload\u001b[0m\u001b[0;34m(\u001b[0m\u001b[0;34m\"RTE_bert.pth\"\u001b[0m\u001b[0;34m)\u001b[0m\u001b[0;34m\u001b[0m\u001b[0;34m\u001b[0m\u001b[0m\n\u001b[0m",
            "\u001b[0;31mNameError\u001b[0m: name 'model' is not defined"
          ]
        }
      ]
    },
    {
      "cell_type": "code",
      "metadata": {
        "id": "cJ62H9HAonbT",
        "colab_type": "code",
        "outputId": "69cd2503-e330-473b-a170-6fb2965430c1",
        "colab": {
          "base_uri": "https://localhost:8080/",
          "height": 34
        }
      },
      "source": [
        "dataloaders[1]"
      ],
      "execution_count": 0,
      "outputs": [
        {
          "output_type": "execute_result",
          "data": {
            "text/plain": [
              "<snorkel.mtl.data.MultitaskDataLoader at 0x7f6f67fefac8>"
            ]
          },
          "metadata": {
            "tags": []
          },
          "execution_count": 295
        }
      ]
    },
    {
      "cell_type": "markdown",
      "metadata": {
        "id": "n-ZYHPtlngc0",
        "colab_type": "text"
      },
      "source": [
        ""
      ]
    },
    {
      "cell_type": "code",
      "metadata": {
        "id": "AMiARXx1Goxu",
        "colab_type": "code",
        "outputId": "770ebbd7-ba0c-4571-97b4-7b59511e585f",
        "colab": {
          "base_uri": "https://localhost:8080/",
          "height": 68
        }
      },
      "source": [
        "%%time\n",
        "model.score(dataloaders[1])"
      ],
      "execution_count": 0,
      "outputs": [
        {
          "output_type": "stream",
          "text": [
            "CPU times: user 7min 38s, sys: 7.87 s, total: 7min 46s\n",
            "Wall time: 7min 47s\n"
          ],
          "name": "stdout"
        },
        {
          "output_type": "execute_result",
          "data": {
            "text/plain": [
              "{'RTE/SuperGLUE/valid/accuracy': 0.7364620938628159}"
            ]
          },
          "metadata": {
            "tags": []
          },
          "execution_count": 291
        }
      ]
    },
    {
      "cell_type": "markdown",
      "metadata": {
        "id": "Sg_yMkappbV8",
        "colab_type": "text"
      },
      "source": [
        "Here we have found the accuracy of bert model. which is 0.736.\n",
        "\n",
        "Now lets use some slicing functions"
      ]
    },
    {
      "cell_type": "code",
      "metadata": {
        "id": "THcGb69iG6jz",
        "colab_type": "code",
        "colab": {}
      },
      "source": [
        "from snorkel.slicing.sf import slicing_function"
      ],
      "execution_count": 0,
      "outputs": []
    },
    {
      "cell_type": "code",
      "metadata": {
        "id": "DhcMbumtKrja",
        "colab_type": "code",
        "colab": {}
      },
      "source": [
        "@slicing_function()\n",
        "def slice_temporal_preposition(example):\n",
        "    temporal_prepositions = [\"after\", \"before\", \"past\"]\n",
        "    both_sentences = example.sentence1 + example.sentence2\n",
        "    return any([p in both_sentences for p in temporal_prepositions])\n",
        "\n",
        "@slicing_function()\n",
        "def slice_possessive_preposition(example):\n",
        "    possessive_prepositions = [\"inside of\", \"with\", \"within\"]\n",
        "    both_sentences = example.sentence1 + example.sentence2\n",
        "    return any([p in both_sentences for p in possessive_prepositions])\n"
      ],
      "execution_count": 0,
      "outputs": []
    },
    {
      "cell_type": "code",
      "metadata": {
        "id": "OrSfg_J2Ku0L",
        "colab_type": "code",
        "outputId": "297c0064-67c4-4692-83c5-719a0f173392",
        "colab": {
          "base_uri": "https://localhost:8080/",
          "height": 1000
        }
      },
      "source": [
        "!pip install pytorch_pretrained_bert\n",
        "\n",
        "!pip install allennlp\n",
        "\n",
        "!pip install jsonlines\n",
        "\n",
        "!pip install git+git://github.com/HazyResearch/snorkel.git@snorkel-superglue\n",
        "\n",
        "!pip install git+https://github.com/HazyResearch/snorkel\n"
      ],
      "execution_count": 0,
      "outputs": [
        {
          "output_type": "stream",
          "text": [
            "Requirement already satisfied: pytorch_pretrained_bert in /usr/local/lib/python3.6/dist-packages (0.6.2)\n",
            "Requirement already satisfied: torch>=0.4.1 in /usr/local/lib/python3.6/dist-packages (from pytorch_pretrained_bert) (1.1.0)\n",
            "Requirement already satisfied: boto3 in /usr/local/lib/python3.6/dist-packages (from pytorch_pretrained_bert) (1.9.202)\n",
            "Requirement already satisfied: regex in /usr/local/lib/python3.6/dist-packages (from pytorch_pretrained_bert) (2019.6.8)\n",
            "Requirement already satisfied: numpy in /usr/local/lib/python3.6/dist-packages (from pytorch_pretrained_bert) (1.16.4)\n",
            "Requirement already satisfied: requests in /usr/local/lib/python3.6/dist-packages (from pytorch_pretrained_bert) (2.21.0)\n",
            "Requirement already satisfied: tqdm in /usr/local/lib/python3.6/dist-packages (from pytorch_pretrained_bert) (4.28.1)\n",
            "Requirement already satisfied: s3transfer<0.3.0,>=0.2.0 in /usr/local/lib/python3.6/dist-packages (from boto3->pytorch_pretrained_bert) (0.2.1)\n",
            "Requirement already satisfied: jmespath<1.0.0,>=0.7.1 in /usr/local/lib/python3.6/dist-packages (from boto3->pytorch_pretrained_bert) (0.9.4)\n",
            "Requirement already satisfied: botocore<1.13.0,>=1.12.202 in /usr/local/lib/python3.6/dist-packages (from boto3->pytorch_pretrained_bert) (1.12.202)\n",
            "Requirement already satisfied: urllib3<1.25,>=1.21.1 in /usr/local/lib/python3.6/dist-packages (from requests->pytorch_pretrained_bert) (1.24.3)\n",
            "Requirement already satisfied: idna<2.9,>=2.5 in /usr/local/lib/python3.6/dist-packages (from requests->pytorch_pretrained_bert) (2.8)\n",
            "Requirement already satisfied: certifi>=2017.4.17 in /usr/local/lib/python3.6/dist-packages (from requests->pytorch_pretrained_bert) (2019.6.16)\n",
            "Requirement already satisfied: chardet<3.1.0,>=3.0.2 in /usr/local/lib/python3.6/dist-packages (from requests->pytorch_pretrained_bert) (3.0.4)\n",
            "Requirement already satisfied: python-dateutil<3.0.0,>=2.1; python_version >= \"2.7\" in /usr/local/lib/python3.6/dist-packages (from botocore<1.13.0,>=1.12.202->boto3->pytorch_pretrained_bert) (2.5.3)\n",
            "Requirement already satisfied: docutils<0.15,>=0.10 in /usr/local/lib/python3.6/dist-packages (from botocore<1.13.0,>=1.12.202->boto3->pytorch_pretrained_bert) (0.14)\n",
            "Requirement already satisfied: six>=1.5 in /usr/local/lib/python3.6/dist-packages (from python-dateutil<3.0.0,>=2.1; python_version >= \"2.7\"->botocore<1.13.0,>=1.12.202->boto3->pytorch_pretrained_bert) (1.12.0)\n",
            "Requirement already satisfied: allennlp in /usr/local/lib/python3.6/dist-packages (0.8.4)\n",
            "Requirement already satisfied: flask-cors>=3.0.7 in /usr/local/lib/python3.6/dist-packages (from allennlp) (3.0.8)\n",
            "Requirement already satisfied: word2number>=1.1 in /usr/local/lib/python3.6/dist-packages (from allennlp) (1.1)\n",
            "Requirement already satisfied: sqlparse>=0.2.4 in /usr/local/lib/python3.6/dist-packages (from allennlp) (0.3.0)\n",
            "Requirement already satisfied: editdistance in /usr/local/lib/python3.6/dist-packages (from allennlp) (0.5.3)\n",
            "Requirement already satisfied: ftfy in /usr/local/lib/python3.6/dist-packages (from allennlp) (5.6)\n",
            "Requirement already satisfied: responses>=0.7 in /usr/local/lib/python3.6/dist-packages (from allennlp) (0.10.6)\n",
            "Requirement already satisfied: matplotlib>=2.2.3 in /usr/local/lib/python3.6/dist-packages (from allennlp) (3.0.3)\n",
            "Requirement already satisfied: requests>=2.18 in /usr/local/lib/python3.6/dist-packages (from allennlp) (2.21.0)\n",
            "Requirement already satisfied: boto3 in /usr/local/lib/python3.6/dist-packages (from allennlp) (1.9.202)\n",
            "Requirement already satisfied: torch>=0.4.1 in /usr/local/lib/python3.6/dist-packages (from allennlp) (1.1.0)\n",
            "Requirement already satisfied: conllu==0.11 in /usr/local/lib/python3.6/dist-packages (from allennlp) (0.11)\n",
            "Requirement already satisfied: numpy in /usr/local/lib/python3.6/dist-packages (from allennlp) (1.16.4)\n",
            "Requirement already satisfied: spacy<2.2,>=2.0.18 in /usr/local/lib/python3.6/dist-packages (from allennlp) (2.1.7)\n",
            "Requirement already satisfied: tensorboardX>=1.2 in /usr/local/lib/python3.6/dist-packages (from allennlp) (1.8)\n",
            "Requirement already satisfied: parsimonious>=0.8.0 in /usr/local/lib/python3.6/dist-packages (from allennlp) (0.8.1)\n",
            "Requirement already satisfied: jsonnet>=0.10.0; sys_platform != \"win32\" in /usr/local/lib/python3.6/dist-packages (from allennlp) (0.13.0)\n",
            "Requirement already satisfied: unidecode in /usr/local/lib/python3.6/dist-packages (from allennlp) (1.1.1)\n",
            "Requirement already satisfied: tqdm>=4.19 in /usr/local/lib/python3.6/dist-packages (from allennlp) (4.28.1)\n",
            "Requirement already satisfied: overrides in /usr/local/lib/python3.6/dist-packages (from allennlp) (1.9)\n",
            "Requirement already satisfied: pytz>=2017.3 in /usr/local/lib/python3.6/dist-packages (from allennlp) (2018.9)\n",
            "Requirement already satisfied: jsonpickle in /usr/local/lib/python3.6/dist-packages (from allennlp) (1.2)\n",
            "Requirement already satisfied: scikit-learn in /usr/local/lib/python3.6/dist-packages (from allennlp) (0.21.3)\n",
            "Requirement already satisfied: flaky in /usr/local/lib/python3.6/dist-packages (from allennlp) (3.6.1)\n",
            "Requirement already satisfied: numpydoc>=0.8.0 in /usr/local/lib/python3.6/dist-packages (from allennlp) (0.9.1)\n",
            "Requirement already satisfied: nltk in /usr/local/lib/python3.6/dist-packages (from allennlp) (3.2.5)\n",
            "Requirement already satisfied: awscli>=1.11.91 in /usr/local/lib/python3.6/dist-packages (from allennlp) (1.16.215)\n",
            "Requirement already satisfied: pytorch-pretrained-bert>=0.6.0 in /usr/local/lib/python3.6/dist-packages (from allennlp) (0.6.2)\n",
            "Requirement already satisfied: h5py in /usr/local/lib/python3.6/dist-packages (from allennlp) (2.8.0)\n",
            "Requirement already satisfied: flask>=1.0.2 in /usr/local/lib/python3.6/dist-packages (from allennlp) (1.1.1)\n",
            "Requirement already satisfied: gevent>=1.3.6 in /usr/local/lib/python3.6/dist-packages (from allennlp) (1.4.0)\n",
            "Requirement already satisfied: scipy in /usr/local/lib/python3.6/dist-packages (from allennlp) (1.3.0)\n",
            "Requirement already satisfied: pytest in /usr/local/lib/python3.6/dist-packages (from allennlp) (3.6.4)\n",
            "Requirement already satisfied: Six in /usr/local/lib/python3.6/dist-packages (from flask-cors>=3.0.7->allennlp) (1.12.0)\n",
            "Requirement already satisfied: wcwidth in /usr/local/lib/python3.6/dist-packages (from ftfy->allennlp) (0.1.7)\n",
            "Requirement already satisfied: pyparsing!=2.0.4,!=2.1.2,!=2.1.6,>=2.0.1 in /usr/local/lib/python3.6/dist-packages (from matplotlib>=2.2.3->allennlp) (2.4.2)\n",
            "Requirement already satisfied: kiwisolver>=1.0.1 in /usr/local/lib/python3.6/dist-packages (from matplotlib>=2.2.3->allennlp) (1.1.0)\n",
            "Requirement already satisfied: python-dateutil>=2.1 in /usr/local/lib/python3.6/dist-packages (from matplotlib>=2.2.3->allennlp) (2.5.3)\n",
            "Requirement already satisfied: cycler>=0.10 in /usr/local/lib/python3.6/dist-packages (from matplotlib>=2.2.3->allennlp) (0.10.0)\n",
            "Requirement already satisfied: certifi>=2017.4.17 in /usr/local/lib/python3.6/dist-packages (from requests>=2.18->allennlp) (2019.6.16)\n",
            "Requirement already satisfied: chardet<3.1.0,>=3.0.2 in /usr/local/lib/python3.6/dist-packages (from requests>=2.18->allennlp) (3.0.4)\n",
            "Requirement already satisfied: idna<2.9,>=2.5 in /usr/local/lib/python3.6/dist-packages (from requests>=2.18->allennlp) (2.8)\n",
            "Requirement already satisfied: urllib3<1.25,>=1.21.1 in /usr/local/lib/python3.6/dist-packages (from requests>=2.18->allennlp) (1.24.3)\n",
            "Requirement already satisfied: botocore<1.13.0,>=1.12.202 in /usr/local/lib/python3.6/dist-packages (from boto3->allennlp) (1.12.202)\n",
            "Requirement already satisfied: jmespath<1.0.0,>=0.7.1 in /usr/local/lib/python3.6/dist-packages (from boto3->allennlp) (0.9.4)\n",
            "Requirement already satisfied: s3transfer<0.3.0,>=0.2.0 in /usr/local/lib/python3.6/dist-packages (from boto3->allennlp) (0.2.1)\n",
            "Requirement already satisfied: blis<0.3.0,>=0.2.2 in /usr/local/lib/python3.6/dist-packages (from spacy<2.2,>=2.0.18->allennlp) (0.2.4)\n",
            "Requirement already satisfied: thinc<7.1.0,>=7.0.8 in /usr/local/lib/python3.6/dist-packages (from spacy<2.2,>=2.0.18->allennlp) (7.0.8)\n",
            "Requirement already satisfied: wasabi<1.1.0,>=0.2.0 in /usr/local/lib/python3.6/dist-packages (from spacy<2.2,>=2.0.18->allennlp) (0.2.2)\n",
            "Requirement already satisfied: srsly<1.1.0,>=0.0.6 in /usr/local/lib/python3.6/dist-packages (from spacy<2.2,>=2.0.18->allennlp) (0.0.7)\n",
            "Requirement already satisfied: cymem<2.1.0,>=2.0.2 in /usr/local/lib/python3.6/dist-packages (from spacy<2.2,>=2.0.18->allennlp) (2.0.2)\n",
            "Requirement already satisfied: preshed<2.1.0,>=2.0.1 in /usr/local/lib/python3.6/dist-packages (from spacy<2.2,>=2.0.18->allennlp) (2.0.1)\n",
            "Requirement already satisfied: plac<1.0.0,>=0.9.6 in /usr/local/lib/python3.6/dist-packages (from spacy<2.2,>=2.0.18->allennlp) (0.9.6)\n",
            "Requirement already satisfied: murmurhash<1.1.0,>=0.28.0 in /usr/local/lib/python3.6/dist-packages (from spacy<2.2,>=2.0.18->allennlp) (1.0.2)\n",
            "Requirement already satisfied: protobuf>=3.2.0 in /usr/local/lib/python3.6/dist-packages (from tensorboardX>=1.2->allennlp) (3.7.1)\n",
            "Requirement already satisfied: joblib>=0.11 in /usr/local/lib/python3.6/dist-packages (from scikit-learn->allennlp) (0.13.2)\n",
            "Requirement already satisfied: Jinja2>=2.3 in /usr/local/lib/python3.6/dist-packages (from numpydoc>=0.8.0->allennlp) (2.10.1)\n",
            "Requirement already satisfied: sphinx>=1.6.5 in /usr/local/lib/python3.6/dist-packages (from numpydoc>=0.8.0->allennlp) (1.8.5)\n",
            "Requirement already satisfied: rsa<=3.5.0,>=3.1.2 in /usr/local/lib/python3.6/dist-packages (from awscli>=1.11.91->allennlp) (3.4.2)\n",
            "Requirement already satisfied: colorama<=0.3.9,>=0.2.5 in /usr/local/lib/python3.6/dist-packages (from awscli>=1.11.91->allennlp) (0.3.9)\n",
            "Requirement already satisfied: docutils<0.15,>=0.10 in /usr/local/lib/python3.6/dist-packages (from awscli>=1.11.91->allennlp) (0.14)\n",
            "Requirement already satisfied: PyYAML<=5.1,>=3.10; python_version != \"2.6\" in /usr/local/lib/python3.6/dist-packages (from awscli>=1.11.91->allennlp) (3.13)\n",
            "Requirement already satisfied: regex in /usr/local/lib/python3.6/dist-packages (from pytorch-pretrained-bert>=0.6.0->allennlp) (2019.6.8)\n",
            "Requirement already satisfied: Werkzeug>=0.15 in /usr/local/lib/python3.6/dist-packages (from flask>=1.0.2->allennlp) (0.15.5)\n",
            "Requirement already satisfied: click>=5.1 in /usr/local/lib/python3.6/dist-packages (from flask>=1.0.2->allennlp) (7.0)\n",
            "Requirement already satisfied: itsdangerous>=0.24 in /usr/local/lib/python3.6/dist-packages (from flask>=1.0.2->allennlp) (1.1.0)\n",
            "Requirement already satisfied: greenlet>=0.4.14; platform_python_implementation == \"CPython\" in /usr/local/lib/python3.6/dist-packages (from gevent>=1.3.6->allennlp) (0.4.15)\n",
            "Requirement already satisfied: pluggy<0.8,>=0.5 in /usr/local/lib/python3.6/dist-packages (from pytest->allennlp) (0.7.1)\n",
            "Requirement already satisfied: py>=1.5.0 in /usr/local/lib/python3.6/dist-packages (from pytest->allennlp) (1.8.0)\n",
            "Requirement already satisfied: attrs>=17.4.0 in /usr/local/lib/python3.6/dist-packages (from pytest->allennlp) (19.1.0)\n",
            "Requirement already satisfied: more-itertools>=4.0.0 in /usr/local/lib/python3.6/dist-packages (from pytest->allennlp) (7.2.0)\n",
            "Requirement already satisfied: atomicwrites>=1.0 in /usr/local/lib/python3.6/dist-packages (from pytest->allennlp) (1.3.0)\n",
            "Requirement already satisfied: setuptools in /usr/local/lib/python3.6/dist-packages (from pytest->allennlp) (41.0.1)\n",
            "Requirement already satisfied: MarkupSafe>=0.23 in /usr/local/lib/python3.6/dist-packages (from Jinja2>=2.3->numpydoc>=0.8.0->allennlp) (1.1.1)\n",
            "Requirement already satisfied: imagesize in /usr/local/lib/python3.6/dist-packages (from sphinx>=1.6.5->numpydoc>=0.8.0->allennlp) (1.1.0)\n",
            "Requirement already satisfied: snowballstemmer>=1.1 in /usr/local/lib/python3.6/dist-packages (from sphinx>=1.6.5->numpydoc>=0.8.0->allennlp) (1.9.0)\n",
            "Requirement already satisfied: packaging in /usr/local/lib/python3.6/dist-packages (from sphinx>=1.6.5->numpydoc>=0.8.0->allennlp) (19.1)\n",
            "Requirement already satisfied: babel!=2.0,>=1.3 in /usr/local/lib/python3.6/dist-packages (from sphinx>=1.6.5->numpydoc>=0.8.0->allennlp) (2.7.0)\n",
            "Requirement already satisfied: alabaster<0.8,>=0.7 in /usr/local/lib/python3.6/dist-packages (from sphinx>=1.6.5->numpydoc>=0.8.0->allennlp) (0.7.12)\n",
            "Requirement already satisfied: sphinxcontrib-websupport in /usr/local/lib/python3.6/dist-packages (from sphinx>=1.6.5->numpydoc>=0.8.0->allennlp) (1.1.2)\n",
            "Requirement already satisfied: Pygments>=2.0 in /usr/local/lib/python3.6/dist-packages (from sphinx>=1.6.5->numpydoc>=0.8.0->allennlp) (2.1.3)\n",
            "Requirement already satisfied: pyasn1>=0.1.3 in /usr/local/lib/python3.6/dist-packages (from rsa<=3.5.0,>=3.1.2->awscli>=1.11.91->allennlp) (0.4.6)\n",
            "Collecting jsonlines\n",
            "  Downloading https://files.pythonhosted.org/packages/4f/9a/ab96291470e305504aa4b7a2e0ec132e930da89eb3ca7a82fbe03167c131/jsonlines-1.2.0-py2.py3-none-any.whl\n",
            "Requirement already satisfied: six in /usr/local/lib/python3.6/dist-packages (from jsonlines) (1.12.0)\n",
            "Installing collected packages: jsonlines\n",
            "Successfully installed jsonlines-1.2.0\n",
            "Collecting git+git://github.com/HazyResearch/snorkel.git@snorkel-superglue\n",
            "  Cloning git://github.com/HazyResearch/snorkel.git (to revision snorkel-superglue) to /tmp/pip-req-build-5449sznl\n",
            "  Running command git clone -q git://github.com/HazyResearch/snorkel.git /tmp/pip-req-build-5449sznl\n",
            "  Running command git checkout -q eb9ba3476eeb932f31ed92e5cc7dfa475611216e\n",
            "  Installing build dependencies ... \u001b[?25l\u001b[?25hdone\n",
            "  Getting requirements to build wheel ... \u001b[?25l\u001b[?25hdone\n",
            "    Preparing wheel metadata ... \u001b[?25l\u001b[?25hdone\n",
            "Collecting tqdm==4.29.1 (from snorkel==0.9.0)\n",
            "\u001b[?25l  Downloading https://files.pythonhosted.org/packages/ed/d6/3458d39cf4978f4ece846295e83daf5ece710ab0a4106774f7f7b3a68697/tqdm-4.29.1-py2.py3-none-any.whl (46kB)\n",
            "\u001b[K     |████████████████████████████████| 51kB 3.5MB/s \n",
            "\u001b[?25hCollecting pyarrow==0.12.0 (from snorkel==0.9.0)\n",
            "\u001b[?25l  Downloading https://files.pythonhosted.org/packages/42/be/8682e7f6c12dd42f31f32b18d5d61b4f578f12aaa9058081aef954a481d3/pyarrow-0.12.0-cp36-cp36m-manylinux1_x86_64.whl (12.5MB)\n",
            "\u001b[K     |████████████████████████████████| 12.5MB 4.5MB/s \n",
            "\u001b[?25hCollecting scikit-learn==0.20.2 (from snorkel==0.9.0)\n",
            "\u001b[?25l  Downloading https://files.pythonhosted.org/packages/0d/3a/b92670f5c368c20329ecc4c255993fae7934564d485c3ed7ea7b8da7f741/scikit_learn-0.20.2-cp36-cp36m-manylinux1_x86_64.whl (5.4MB)\n",
            "\u001b[K     |████████████████████████████████| 5.4MB 33.8MB/s \n",
            "\u001b[?25hRequirement already satisfied: jupyter==1.0.0 in /usr/local/lib/python3.6/dist-packages (from snorkel==0.9.0) (1.0.0)\n",
            "Collecting pandas==0.24.0 (from snorkel==0.9.0)\n",
            "\u001b[?25l  Downloading https://files.pythonhosted.org/packages/f9/e1/4a63ed31e1b1362d40ce845a5735c717a959bda992669468dae3420af2cd/pandas-0.24.0-cp36-cp36m-manylinux1_x86_64.whl (10.1MB)\n",
            "\u001b[K     |████████████████████████████████| 10.1MB 5.8MB/s \n",
            "\u001b[?25hCollecting jupyterlab==0.33.12 (from snorkel==0.9.0)\n",
            "\u001b[?25l  Downloading https://files.pythonhosted.org/packages/1b/1b/ce43d66010878f86e574ae94d4aa6f78028ba5dba7287e11ebbaea2b3c17/jupyterlab-0.33.12-py2.py3-none-any.whl (14.3MB)\n",
            "\u001b[K     |████████████████████████████████| 14.3MB 16.3MB/s \n",
            "\u001b[?25hCollecting matplotlib==3.0.1 (from snorkel==0.9.0)\n",
            "\u001b[?25l  Downloading https://files.pythonhosted.org/packages/1e/f8/4aba1144dad8c67db060049d1a8bc740ad9fa35288d21b82bb85de69ff15/matplotlib-3.0.1-cp36-cp36m-manylinux1_x86_64.whl (12.9MB)\n",
            "\u001b[K     |████████████████████████████████| 12.9MB 35.4MB/s \n",
            "\u001b[?25hCollecting dask[complete]==1.2.1 (from snorkel==0.9.0)\n",
            "\u001b[?25l  Downloading https://files.pythonhosted.org/packages/b1/91/1014cdf012dd706ffecbca2de1e3b28517305ba7f49cfdd4fb6b6de5df07/dask-1.2.1-py2.py3-none-any.whl (714kB)\n",
            "\u001b[K     |████████████████████████████████| 716kB 43.4MB/s \n",
            "\u001b[?25hCollecting scipy==1.2.0 (from snorkel==0.9.0)\n",
            "\u001b[?25l  Downloading https://files.pythonhosted.org/packages/67/e6/6d4edaceee6a110ecf6f318482f5229792f143e468b34a631f5a0899f56d/scipy-1.2.0-cp36-cp36m-manylinux1_x86_64.whl (26.6MB)\n",
            "\u001b[K     |████████████████████████████████| 26.6MB 54.1MB/s \n",
            "\u001b[?25hCollecting spacy==2.1.3 (from snorkel==0.9.0)\n",
            "\u001b[?25l  Downloading https://files.pythonhosted.org/packages/52/da/3a1c54694c2d2f40df82f38a19ae14c6eb24a5a1a0dae87205ebea7a84d8/spacy-2.1.3-cp36-cp36m-manylinux1_x86_64.whl (27.7MB)\n",
            "\u001b[K     |████████████████████████████████| 27.7MB 41.9MB/s \n",
            "\u001b[?25hRequirement already satisfied: torchtext==0.3.1 in /usr/local/lib/python3.6/dist-packages (from snorkel==0.9.0) (0.3.1)\n",
            "Collecting dill==0.2.9 (from snorkel==0.9.0)\n",
            "\u001b[?25l  Downloading https://files.pythonhosted.org/packages/fe/42/bfe2e0857bc284cbe6a011d93f2a9ad58a22cb894461b199ae72cfef0f29/dill-0.2.9.tar.gz (150kB)\n",
            "\u001b[K     |████████████████████████████████| 153kB 46.2MB/s \n",
            "\u001b[?25hCollecting numpy==1.16.0 (from snorkel==0.9.0)\n",
            "\u001b[?25l  Downloading https://files.pythonhosted.org/packages/7b/74/54c5f9bb9bd4dae27a61ec1b39076a39d359b3fb7ba15da79ef23858a9d8/numpy-1.16.0-cp36-cp36m-manylinux1_x86_64.whl (17.3MB)\n",
            "\u001b[K     |████████████████████████████████| 17.3MB 32.8MB/s \n",
            "\u001b[?25hRequirement already satisfied: torch==1.1.0 in /usr/local/lib/python3.6/dist-packages (from snorkel==0.9.0) (1.1.0)\n",
            "Collecting networkx==2.2 (from snorkel==0.9.0)\n",
            "\u001b[?25l  Downloading https://files.pythonhosted.org/packages/f3/f4/7e20ef40b118478191cec0b58c3192f822cace858c19505c7670961b76b2/networkx-2.2.zip (1.7MB)\n",
            "\u001b[K     |████████████████████████████████| 1.7MB 8.6MB/s \n",
            "\u001b[?25hCollecting tensorboardX==1.6 (from snorkel==0.9.0)\n",
            "\u001b[?25l  Downloading https://files.pythonhosted.org/packages/5c/76/89dd44458eb976347e5a6e75eb79fecf8facd46c1ce259bad54e0044ea35/tensorboardX-1.6-py2.py3-none-any.whl (129kB)\n",
            "\u001b[K     |████████████████████████████████| 133kB 43.8MB/s \n",
            "\u001b[?25hRequirement already satisfied: six>=1.0.0 in /usr/local/lib/python3.6/dist-packages (from pyarrow==0.12.0->snorkel==0.9.0) (1.12.0)\n",
            "Requirement already satisfied: jupyter-console in /usr/local/lib/python3.6/dist-packages (from jupyter==1.0.0->snorkel==0.9.0) (5.2.0)\n",
            "Requirement already satisfied: qtconsole in /usr/local/lib/python3.6/dist-packages (from jupyter==1.0.0->snorkel==0.9.0) (4.5.2)\n",
            "Requirement already satisfied: nbconvert in /usr/local/lib/python3.6/dist-packages (from jupyter==1.0.0->snorkel==0.9.0) (5.5.0)\n",
            "Requirement already satisfied: ipykernel in /usr/local/lib/python3.6/dist-packages (from jupyter==1.0.0->snorkel==0.9.0) (4.6.1)\n",
            "Requirement already satisfied: ipywidgets in /usr/local/lib/python3.6/dist-packages (from jupyter==1.0.0->snorkel==0.9.0) (7.5.1)\n",
            "Requirement already satisfied: notebook in /usr/local/lib/python3.6/dist-packages (from jupyter==1.0.0->snorkel==0.9.0) (5.2.2)\n",
            "Requirement already satisfied: python-dateutil>=2.5.0 in /usr/local/lib/python3.6/dist-packages (from pandas==0.24.0->snorkel==0.9.0) (2.5.3)\n",
            "Requirement already satisfied: pytz>=2011k in /usr/local/lib/python3.6/dist-packages (from pandas==0.24.0->snorkel==0.9.0) (2018.9)\n",
            "Collecting jupyterlab-launcher<0.12.0,>=0.11.2 (from jupyterlab==0.33.12->snorkel==0.9.0)\n",
            "  Downloading https://files.pythonhosted.org/packages/ec/5a/9393a4ae8da664f27635b969b9b1375d873f2751fb6e6c13a1ac2bac7bb0/jupyterlab_launcher-0.11.2-py2.py3-none-any.whl\n",
            "Requirement already satisfied: ipython-genutils in /usr/local/lib/python3.6/dist-packages (from jupyterlab==0.33.12->snorkel==0.9.0) (0.2.0)\n",
            "Requirement already satisfied: kiwisolver>=1.0.1 in /usr/local/lib/python3.6/dist-packages (from matplotlib==3.0.1->snorkel==0.9.0) (1.1.0)\n",
            "Requirement already satisfied: cycler>=0.10 in /usr/local/lib/python3.6/dist-packages (from matplotlib==3.0.1->snorkel==0.9.0) (0.10.0)\n",
            "Requirement already satisfied: pyparsing!=2.0.4,!=2.1.2,!=2.1.6,>=2.0.1 in /usr/local/lib/python3.6/dist-packages (from matplotlib==3.0.1->snorkel==0.9.0) (2.4.2)\n",
            "Requirement already satisfied: cloudpickle>=0.2.1; extra == \"complete\" in /usr/local/lib/python3.6/dist-packages (from dask[complete]==1.2.1->snorkel==0.9.0) (0.6.1)\n",
            "Requirement already satisfied: distributed>=1.22; extra == \"complete\" in /usr/local/lib/python3.6/dist-packages (from dask[complete]==1.2.1->snorkel==0.9.0) (1.25.3)\n",
            "Collecting partd>=0.3.8; extra == \"complete\" (from dask[complete]==1.2.1->snorkel==0.9.0)\n",
            "  Downloading https://files.pythonhosted.org/packages/8b/17/09c352519da1db31634979c3aa9126078e9ece0f561c5f641e0649b78905/partd-1.0.0-py2.py3-none-any.whl\n",
            "Requirement already satisfied: toolz>=0.7.3; extra == \"complete\" in /usr/local/lib/python3.6/dist-packages (from dask[complete]==1.2.1->snorkel==0.9.0) (0.10.0)\n",
            "Requirement already satisfied: preshed<2.1.0,>=2.0.1 in /usr/local/lib/python3.6/dist-packages (from spacy==2.1.3->snorkel==0.9.0) (2.0.1)\n",
            "Requirement already satisfied: jsonschema<3.0.0,>=2.6.0 in /usr/local/lib/python3.6/dist-packages (from spacy==2.1.3->snorkel==0.9.0) (2.6.0)\n",
            "Requirement already satisfied: thinc<7.1.0,>=7.0.2 in /usr/local/lib/python3.6/dist-packages (from spacy==2.1.3->snorkel==0.9.0) (7.0.8)\n",
            "Requirement already satisfied: requests<3.0.0,>=2.13.0 in /usr/local/lib/python3.6/dist-packages (from spacy==2.1.3->snorkel==0.9.0) (2.21.0)\n",
            "Requirement already satisfied: murmurhash<1.1.0,>=0.28.0 in /usr/local/lib/python3.6/dist-packages (from spacy==2.1.3->snorkel==0.9.0) (1.0.2)\n",
            "Requirement already satisfied: cymem<2.1.0,>=2.0.2 in /usr/local/lib/python3.6/dist-packages (from spacy==2.1.3->snorkel==0.9.0) (2.0.2)\n",
            "Requirement already satisfied: wasabi<1.1.0,>=0.2.0 in /usr/local/lib/python3.6/dist-packages (from spacy==2.1.3->snorkel==0.9.0) (0.2.2)\n",
            "Requirement already satisfied: plac<1.0.0,>=0.9.6 in /usr/local/lib/python3.6/dist-packages (from spacy==2.1.3->snorkel==0.9.0) (0.9.6)\n",
            "Requirement already satisfied: blis<0.3.0,>=0.2.2 in /usr/local/lib/python3.6/dist-packages (from spacy==2.1.3->snorkel==0.9.0) (0.2.4)\n",
            "Requirement already satisfied: srsly<1.1.0,>=0.0.5 in /usr/local/lib/python3.6/dist-packages (from spacy==2.1.3->snorkel==0.9.0) (0.0.7)\n",
            "Requirement already satisfied: decorator>=4.3.0 in /usr/local/lib/python3.6/dist-packages (from networkx==2.2->snorkel==0.9.0) (4.4.0)\n",
            "Requirement already satisfied: protobuf>=3.2.0 in /usr/local/lib/python3.6/dist-packages (from tensorboardX==1.6->snorkel==0.9.0) (3.7.1)\n",
            "Requirement already satisfied: jupyter-client in /usr/local/lib/python3.6/dist-packages (from jupyter-console->jupyter==1.0.0->snorkel==0.9.0) (5.3.1)\n",
            "Requirement already satisfied: ipython in /usr/local/lib/python3.6/dist-packages (from jupyter-console->jupyter==1.0.0->snorkel==0.9.0) (5.5.0)\n",
            "Requirement already satisfied: pygments in /usr/local/lib/python3.6/dist-packages (from jupyter-console->jupyter==1.0.0->snorkel==0.9.0) (2.1.3)\n",
            "Requirement already satisfied: prompt-toolkit<2.0.0,>=1.0.0 in /usr/local/lib/python3.6/dist-packages (from jupyter-console->jupyter==1.0.0->snorkel==0.9.0) (1.0.16)\n",
            "Requirement already satisfied: traitlets in /usr/local/lib/python3.6/dist-packages (from qtconsole->jupyter==1.0.0->snorkel==0.9.0) (4.3.2)\n",
            "Requirement already satisfied: jupyter-core in /usr/local/lib/python3.6/dist-packages (from qtconsole->jupyter==1.0.0->snorkel==0.9.0) (4.5.0)\n",
            "Requirement already satisfied: jinja2>=2.4 in /usr/local/lib/python3.6/dist-packages (from nbconvert->jupyter==1.0.0->snorkel==0.9.0) (2.10.1)\n",
            "Requirement already satisfied: mistune>=0.8.1 in /usr/local/lib/python3.6/dist-packages (from nbconvert->jupyter==1.0.0->snorkel==0.9.0) (0.8.4)\n",
            "Requirement already satisfied: nbformat>=4.4 in /usr/local/lib/python3.6/dist-packages (from nbconvert->jupyter==1.0.0->snorkel==0.9.0) (4.4.0)\n",
            "Requirement already satisfied: entrypoints>=0.2.2 in /usr/local/lib/python3.6/dist-packages (from nbconvert->jupyter==1.0.0->snorkel==0.9.0) (0.3)\n",
            "Requirement already satisfied: pandocfilters>=1.4.1 in /usr/local/lib/python3.6/dist-packages (from nbconvert->jupyter==1.0.0->snorkel==0.9.0) (1.4.2)\n",
            "Requirement already satisfied: defusedxml in /usr/local/lib/python3.6/dist-packages (from nbconvert->jupyter==1.0.0->snorkel==0.9.0) (0.6.0)\n",
            "Requirement already satisfied: testpath in /usr/local/lib/python3.6/dist-packages (from nbconvert->jupyter==1.0.0->snorkel==0.9.0) (0.4.2)\n",
            "Requirement already satisfied: bleach in /usr/local/lib/python3.6/dist-packages (from nbconvert->jupyter==1.0.0->snorkel==0.9.0) (3.1.0)\n",
            "Requirement already satisfied: tornado>=4.0 in /usr/local/lib/python3.6/dist-packages (from ipykernel->jupyter==1.0.0->snorkel==0.9.0) (4.5.3)\n",
            "Requirement already satisfied: widgetsnbextension~=3.5.0 in /usr/local/lib/python3.6/dist-packages (from ipywidgets->jupyter==1.0.0->snorkel==0.9.0) (3.5.1)\n",
            "Requirement already satisfied: terminado>=0.3.3; sys_platform != \"win32\" in /usr/local/lib/python3.6/dist-packages (from notebook->jupyter==1.0.0->snorkel==0.9.0) (0.8.2)\n",
            "Requirement already satisfied: setuptools in /usr/local/lib/python3.6/dist-packages (from kiwisolver>=1.0.1->matplotlib==3.0.1->snorkel==0.9.0) (41.0.1)\n",
            "Requirement already satisfied: pyyaml in /usr/local/lib/python3.6/dist-packages (from distributed>=1.22; extra == \"complete\"->dask[complete]==1.2.1->snorkel==0.9.0) (3.13)\n",
            "Requirement already satisfied: psutil>=5.0 in /usr/local/lib/python3.6/dist-packages (from distributed>=1.22; extra == \"complete\"->dask[complete]==1.2.1->snorkel==0.9.0) (5.4.8)\n",
            "Requirement already satisfied: sortedcontainers!=2.0.0,!=2.0.1 in /usr/local/lib/python3.6/dist-packages (from distributed>=1.22; extra == \"complete\"->dask[complete]==1.2.1->snorkel==0.9.0) (2.1.0)\n",
            "Requirement already satisfied: tblib in /usr/local/lib/python3.6/dist-packages (from distributed>=1.22; extra == \"complete\"->dask[complete]==1.2.1->snorkel==0.9.0) (1.4.0)\n",
            "Requirement already satisfied: zict>=0.1.3 in /usr/local/lib/python3.6/dist-packages (from distributed>=1.22; extra == \"complete\"->dask[complete]==1.2.1->snorkel==0.9.0) (1.0.0)\n",
            "Requirement already satisfied: click>=6.6 in /usr/local/lib/python3.6/dist-packages (from distributed>=1.22; extra == \"complete\"->dask[complete]==1.2.1->snorkel==0.9.0) (7.0)\n",
            "Requirement already satisfied: msgpack in /usr/local/lib/python3.6/dist-packages (from distributed>=1.22; extra == \"complete\"->dask[complete]==1.2.1->snorkel==0.9.0) (0.5.6)\n",
            "Collecting locket (from partd>=0.3.8; extra == \"complete\"->dask[complete]==1.2.1->snorkel==0.9.0)\n",
            "  Downloading https://files.pythonhosted.org/packages/d0/22/3c0f97614e0be8386542facb3a7dcfc2584f7b83608c02333bced641281c/locket-0.2.0.tar.gz\n",
            "Requirement already satisfied: certifi>=2017.4.17 in /usr/local/lib/python3.6/dist-packages (from requests<3.0.0,>=2.13.0->spacy==2.1.3->snorkel==0.9.0) (2019.6.16)\n",
            "Requirement already satisfied: chardet<3.1.0,>=3.0.2 in /usr/local/lib/python3.6/dist-packages (from requests<3.0.0,>=2.13.0->spacy==2.1.3->snorkel==0.9.0) (3.0.4)\n",
            "Requirement already satisfied: urllib3<1.25,>=1.21.1 in /usr/local/lib/python3.6/dist-packages (from requests<3.0.0,>=2.13.0->spacy==2.1.3->snorkel==0.9.0) (1.24.3)\n",
            "Requirement already satisfied: idna<2.9,>=2.5 in /usr/local/lib/python3.6/dist-packages (from requests<3.0.0,>=2.13.0->spacy==2.1.3->snorkel==0.9.0) (2.8)\n",
            "Requirement already satisfied: pyzmq>=13 in /usr/local/lib/python3.6/dist-packages (from jupyter-client->jupyter-console->jupyter==1.0.0->snorkel==0.9.0) (17.0.0)\n",
            "Requirement already satisfied: pexpect; sys_platform != \"win32\" in /usr/local/lib/python3.6/dist-packages (from ipython->jupyter-console->jupyter==1.0.0->snorkel==0.9.0) (4.7.0)\n",
            "Requirement already satisfied: simplegeneric>0.8 in /usr/local/lib/python3.6/dist-packages (from ipython->jupyter-console->jupyter==1.0.0->snorkel==0.9.0) (0.8.1)\n",
            "Requirement already satisfied: pickleshare in /usr/local/lib/python3.6/dist-packages (from ipython->jupyter-console->jupyter==1.0.0->snorkel==0.9.0) (0.7.5)\n",
            "Requirement already satisfied: wcwidth in /usr/local/lib/python3.6/dist-packages (from prompt-toolkit<2.0.0,>=1.0.0->jupyter-console->jupyter==1.0.0->snorkel==0.9.0) (0.1.7)\n",
            "Requirement already satisfied: MarkupSafe>=0.23 in /usr/local/lib/python3.6/dist-packages (from jinja2>=2.4->nbconvert->jupyter==1.0.0->snorkel==0.9.0) (1.1.1)\n",
            "Requirement already satisfied: webencodings in /usr/local/lib/python3.6/dist-packages (from bleach->nbconvert->jupyter==1.0.0->snorkel==0.9.0) (0.5.1)\n",
            "Requirement already satisfied: ptyprocess; os_name != \"nt\" in /usr/local/lib/python3.6/dist-packages (from terminado>=0.3.3; sys_platform != \"win32\"->notebook->jupyter==1.0.0->snorkel==0.9.0) (0.6.0)\n",
            "Requirement already satisfied: heapdict in /usr/local/lib/python3.6/dist-packages (from zict>=0.1.3->distributed>=1.22; extra == \"complete\"->dask[complete]==1.2.1->snorkel==0.9.0) (1.0.0)\n",
            "Building wheels for collected packages: snorkel\n",
            "  Building wheel for snorkel (PEP 517) ... \u001b[?25l\u001b[?25hdone\n",
            "  Created wheel for snorkel: filename=snorkel-0.9.0-cp36-none-any.whl size=109793 sha256=5c5c0a9fed7bbad0c6f5d52aff773e81e3ed419e50c1d49e79c8a6bd8b12a5e6\n",
            "  Stored in directory: /tmp/pip-ephem-wheel-cache-v9p9fytp/wheels/1d/74/e9/0c64265729943b0dab0a757f726491151c4ca9ccea68db8e1a\n",
            "Successfully built snorkel\n",
            "Building wheels for collected packages: dill, networkx, locket\n",
            "  Building wheel for dill (setup.py) ... \u001b[?25l\u001b[?25hdone\n",
            "  Created wheel for dill: filename=dill-0.2.9-cp36-none-any.whl size=77405 sha256=55ef0024912d0fc4a26a9d1f5601f1dde67742f2231a0e23bc39689da9c1289b\n",
            "  Stored in directory: /root/.cache/pip/wheels/5b/d7/0f/e58eae695403de585269f4e4a94e0cd6ca60ec0c202936fa4a\n",
            "  Building wheel for networkx (setup.py) ... \u001b[?25l\u001b[?25hdone\n",
            "  Created wheel for networkx: filename=networkx-2.2-py2.py3-none-any.whl size=1527322 sha256=2357fd28b7f90cf624d944f69024aedc7f6ee6e944a9bcccc549eafbc27df574\n",
            "  Stored in directory: /root/.cache/pip/wheels/68/f8/29/b53346a112a07d30a5a84d53f19aeadaa1a474897c0423af91\n",
            "  Building wheel for locket (setup.py) ... \u001b[?25l\u001b[?25hdone\n",
            "  Created wheel for locket: filename=locket-0.2.0-cp36-none-any.whl size=4040 sha256=2e0e33e3f5bb841e7c7bd26a861c4b47ea4ffad3490e221d476ade7bddeb2e36\n",
            "  Stored in directory: /root/.cache/pip/wheels/26/1e/e8/4fa236ec931b1a0cdd61578e20d4934d7bf188858723b84698\n",
            "Successfully built dill networkx locket\n",
            "\u001b[31mERROR: multiprocess 0.70.8 has requirement dill>=0.3.0, but you'll have dill 0.2.9 which is incompatible.\u001b[0m\n",
            "\u001b[31mERROR: datascience 0.10.6 has requirement folium==0.2.1, but you'll have folium 0.8.3 which is incompatible.\u001b[0m\n",
            "\u001b[31mERROR: albumentations 0.1.12 has requirement imgaug<0.2.7,>=0.2.5, but you'll have imgaug 0.2.9 which is incompatible.\u001b[0m\n",
            "Installing collected packages: tqdm, numpy, pyarrow, scipy, scikit-learn, pandas, jupyterlab-launcher, jupyterlab, matplotlib, locket, partd, dask, spacy, dill, networkx, tensorboardX, snorkel\n",
            "  Found existing installation: tqdm 4.28.1\n",
            "    Uninstalling tqdm-4.28.1:\n",
            "      Successfully uninstalled tqdm-4.28.1\n",
            "  Found existing installation: numpy 1.16.4\n",
            "    Uninstalling numpy-1.16.4:\n",
            "      Successfully uninstalled numpy-1.16.4\n",
            "  Found existing installation: pyarrow 0.14.1\n",
            "    Uninstalling pyarrow-0.14.1:\n",
            "      Successfully uninstalled pyarrow-0.14.1\n",
            "  Found existing installation: scipy 1.3.0\n",
            "    Uninstalling scipy-1.3.0:\n",
            "      Successfully uninstalled scipy-1.3.0\n",
            "  Found existing installation: scikit-learn 0.21.3\n",
            "    Uninstalling scikit-learn-0.21.3:\n",
            "      Successfully uninstalled scikit-learn-0.21.3\n",
            "  Found existing installation: pandas 0.24.2\n",
            "    Uninstalling pandas-0.24.2:\n",
            "      Successfully uninstalled pandas-0.24.2\n",
            "  Found existing installation: matplotlib 3.0.3\n",
            "    Uninstalling matplotlib-3.0.3:\n",
            "      Successfully uninstalled matplotlib-3.0.3\n",
            "  Found existing installation: dask 1.1.5\n",
            "    Uninstalling dask-1.1.5:\n",
            "      Successfully uninstalled dask-1.1.5\n",
            "  Found existing installation: spacy 2.1.7\n",
            "    Uninstalling spacy-2.1.7:\n",
            "      Successfully uninstalled spacy-2.1.7\n",
            "  Found existing installation: dill 0.3.0\n",
            "    Uninstalling dill-0.3.0:\n",
            "      Successfully uninstalled dill-0.3.0\n",
            "  Found existing installation: networkx 2.3\n",
            "    Uninstalling networkx-2.3:\n",
            "      Successfully uninstalled networkx-2.3\n",
            "  Found existing installation: tensorboardX 1.8\n",
            "    Uninstalling tensorboardX-1.8:\n",
            "      Successfully uninstalled tensorboardX-1.8\n",
            "Successfully installed dask-1.2.1 dill-0.2.9 jupyterlab-0.33.12 jupyterlab-launcher-0.11.2 locket-0.2.0 matplotlib-3.0.1 networkx-2.2 numpy-1.16.0 pandas-0.24.0 partd-1.0.0 pyarrow-0.12.0 scikit-learn-0.20.2 scipy-1.2.0 snorkel-0.9.0 spacy-2.1.3 tensorboardX-1.6 tqdm-4.29.1\n"
          ],
          "name": "stdout"
        },
        {
          "output_type": "display_data",
          "data": {
            "application/vnd.colab-display-data+json": {
              "pip_warning": {
                "packages": [
                  "matplotlib",
                  "mpl_toolkits",
                  "numpy",
                  "pandas",
                  "pyarrow",
                  "tqdm"
                ]
              }
            }
          },
          "metadata": {
            "tags": []
          }
        },
        {
          "output_type": "stream",
          "text": [
            "Collecting git+https://github.com/HazyResearch/snorkel\n",
            "  Cloning https://github.com/HazyResearch/snorkel to /tmp/pip-req-build-z8g7rx9r\n",
            "  Running command git clone -q https://github.com/HazyResearch/snorkel /tmp/pip-req-build-z8g7rx9r\n",
            "Building wheels for collected packages: snorkel\n",
            "  Building wheel for snorkel (setup.py) ... \u001b[?25l\u001b[?25hdone\n",
            "  Created wheel for snorkel: filename=snorkel-0.7.0b0-cp36-none-any.whl size=168807 sha256=1347ef84ae5b89911d8f9f0d075ac0ae97accb9e6478e49cab41ca30d584987f\n",
            "  Stored in directory: /tmp/pip-ephem-wheel-cache-2ruv3dcw/wheels/62/6f/22/444271063e7be3c3547fd48ba1782c8053489be0e0226990b0\n",
            "Successfully built snorkel\n",
            "Installing collected packages: snorkel\n",
            "  Found existing installation: snorkel 0.9.0\n",
            "    Uninstalling snorkel-0.9.0:\n",
            "      Successfully uninstalled snorkel-0.9.0\n",
            "Successfully installed snorkel-0.7.0b0\n"
          ],
          "name": "stdout"
        }
      ]
    },
    {
      "cell_type": "code",
      "metadata": {
        "id": "khCUgkHI0MUB",
        "colab_type": "code",
        "outputId": "c6491a68-d397-4270-94d3-41a9d78edec8",
        "colab": {
          "base_uri": "https://localhost:8080/",
          "height": 34
        }
      },
      "source": [
        "print(\"hello\")"
      ],
      "execution_count": 0,
      "outputs": [
        {
          "output_type": "stream",
          "text": [
            "hello\n"
          ],
          "name": "stdout"
        }
      ]
    },
    {
      "cell_type": "code",
      "metadata": {
        "id": "TCAgm8EW00NK",
        "colab_type": "code",
        "outputId": "b26d47b0-5170-4509-f065-af09cda769a1",
        "colab": {
          "base_uri": "https://localhost:8080/",
          "height": 51
        }
      },
      "source": [
        "%time"
      ],
      "execution_count": 0,
      "outputs": [
        {
          "output_type": "stream",
          "text": [
            "CPU times: user 2 µs, sys: 0 ns, total: 2 µs\n",
            "Wall time: 5.01 µs\n"
          ],
          "name": "stdout"
        }
      ]
    },
    {
      "cell_type": "code",
      "metadata": {
        "id": "e-eOLFBLJ-Xq",
        "colab_type": "code",
        "outputId": "89ba8766-4622-4ec4-fbac-9cb27b0cedff",
        "colab": {
          "base_uri": "https://localhost:8080/",
          "height": 1000
        }
      },
      "source": [
        "\n",
        "\n",
        "!pip install git+git://github.com/HazyResearch/snorkel.git@snorkel-superglue\n",
        "\n",
        "\n",
        "  \n"
      ],
      "execution_count": 0,
      "outputs": [
        {
          "output_type": "stream",
          "text": [
            "Collecting git+git://github.com/HazyResearch/snorkel.git@snorkel-superglue\n",
            "  Cloning git://github.com/HazyResearch/snorkel.git (to revision snorkel-superglue) to /tmp/pip-req-build-f50m9amm\n",
            "  Running command git clone -q git://github.com/HazyResearch/snorkel.git /tmp/pip-req-build-f50m9amm\n",
            "  Running command git checkout -q eb9ba3476eeb932f31ed92e5cc7dfa475611216e\n",
            "  Installing build dependencies ... \u001b[?25l\u001b[?25hdone\n",
            "  Getting requirements to build wheel ... \u001b[?25l\u001b[?25hdone\n",
            "    Preparing wheel metadata ... \u001b[?25l\u001b[?25hdone\n",
            "Requirement already satisfied: jupyter==1.0.0 in /usr/local/lib/python3.6/dist-packages (from snorkel==0.9.0) (1.0.0)\n",
            "Requirement already satisfied: pyarrow==0.12.0 in /usr/local/lib/python3.6/dist-packages (from snorkel==0.9.0) (0.12.0)\n",
            "Requirement already satisfied: dask[complete]==1.2.1 in /usr/local/lib/python3.6/dist-packages (from snorkel==0.9.0) (1.2.1)\n",
            "Requirement already satisfied: scikit-learn==0.20.2 in /usr/local/lib/python3.6/dist-packages (from snorkel==0.9.0) (0.20.2)\n",
            "Requirement already satisfied: networkx==2.2 in /usr/local/lib/python3.6/dist-packages (from snorkel==0.9.0) (2.2)\n",
            "Requirement already satisfied: torch==1.1.0 in /usr/local/lib/python3.6/dist-packages (from snorkel==0.9.0) (1.1.0)\n",
            "Requirement already satisfied: jupyterlab==0.33.12 in /usr/local/lib/python3.6/dist-packages (from snorkel==0.9.0) (0.33.12)\n",
            "Requirement already satisfied: scipy==1.2.0 in /usr/local/lib/python3.6/dist-packages (from snorkel==0.9.0) (1.2.0)\n",
            "Requirement already satisfied: tensorboardX==1.6 in /usr/local/lib/python3.6/dist-packages (from snorkel==0.9.0) (1.6)\n",
            "Requirement already satisfied: pandas==0.24.0 in /usr/local/lib/python3.6/dist-packages (from snorkel==0.9.0) (0.24.0)\n",
            "Requirement already satisfied: matplotlib==3.0.1 in /usr/local/lib/python3.6/dist-packages (from snorkel==0.9.0) (3.0.1)\n",
            "Requirement already satisfied: spacy==2.1.3 in /usr/local/lib/python3.6/dist-packages (from snorkel==0.9.0) (2.1.3)\n",
            "Requirement already satisfied: torchtext==0.3.1 in /usr/local/lib/python3.6/dist-packages (from snorkel==0.9.0) (0.3.1)\n",
            "Requirement already satisfied: tqdm==4.29.1 in /usr/local/lib/python3.6/dist-packages (from snorkel==0.9.0) (4.29.1)\n",
            "Requirement already satisfied: dill==0.2.9 in /usr/local/lib/python3.6/dist-packages (from snorkel==0.9.0) (0.2.9)\n",
            "Requirement already satisfied: numpy==1.16.0 in /usr/local/lib/python3.6/dist-packages (from snorkel==0.9.0) (1.16.0)\n",
            "Requirement already satisfied: nbconvert in /usr/local/lib/python3.6/dist-packages (from jupyter==1.0.0->snorkel==0.9.0) (5.6.0)\n",
            "Requirement already satisfied: ipykernel in /usr/local/lib/python3.6/dist-packages (from jupyter==1.0.0->snorkel==0.9.0) (4.6.1)\n",
            "Requirement already satisfied: qtconsole in /usr/local/lib/python3.6/dist-packages (from jupyter==1.0.0->snorkel==0.9.0) (4.5.2)\n",
            "Requirement already satisfied: ipywidgets in /usr/local/lib/python3.6/dist-packages (from jupyter==1.0.0->snorkel==0.9.0) (7.5.1)\n",
            "Requirement already satisfied: notebook in /usr/local/lib/python3.6/dist-packages (from jupyter==1.0.0->snorkel==0.9.0) (5.2.2)\n",
            "Requirement already satisfied: jupyter-console in /usr/local/lib/python3.6/dist-packages (from jupyter==1.0.0->snorkel==0.9.0) (5.2.0)\n",
            "Requirement already satisfied: six>=1.0.0 in /usr/local/lib/python3.6/dist-packages (from pyarrow==0.12.0->snorkel==0.9.0) (1.12.0)\n",
            "Requirement already satisfied: distributed>=1.22; extra == \"complete\" in /usr/local/lib/python3.6/dist-packages (from dask[complete]==1.2.1->snorkel==0.9.0) (1.25.3)\n",
            "Requirement already satisfied: partd>=0.3.8; extra == \"complete\" in /usr/local/lib/python3.6/dist-packages (from dask[complete]==1.2.1->snorkel==0.9.0) (1.0.0)\n",
            "Requirement already satisfied: cloudpickle>=0.2.1; extra == \"complete\" in /usr/local/lib/python3.6/dist-packages (from dask[complete]==1.2.1->snorkel==0.9.0) (0.6.1)\n",
            "Requirement already satisfied: toolz>=0.7.3; extra == \"complete\" in /usr/local/lib/python3.6/dist-packages (from dask[complete]==1.2.1->snorkel==0.9.0) (0.10.0)\n",
            "Requirement already satisfied: decorator>=4.3.0 in /usr/local/lib/python3.6/dist-packages (from networkx==2.2->snorkel==0.9.0) (4.4.0)\n",
            "Requirement already satisfied: jupyterlab-launcher<0.12.0,>=0.11.2 in /usr/local/lib/python3.6/dist-packages (from jupyterlab==0.33.12->snorkel==0.9.0) (0.11.2)\n",
            "Requirement already satisfied: ipython-genutils in /usr/local/lib/python3.6/dist-packages (from jupyterlab==0.33.12->snorkel==0.9.0) (0.2.0)\n",
            "Requirement already satisfied: protobuf>=3.2.0 in /usr/local/lib/python3.6/dist-packages (from tensorboardX==1.6->snorkel==0.9.0) (3.7.1)\n",
            "Requirement already satisfied: pytz>=2011k in /usr/local/lib/python3.6/dist-packages (from pandas==0.24.0->snorkel==0.9.0) (2018.9)\n",
            "Requirement already satisfied: python-dateutil>=2.5.0 in /usr/local/lib/python3.6/dist-packages (from pandas==0.24.0->snorkel==0.9.0) (2.5.3)\n",
            "Requirement already satisfied: pyparsing!=2.0.4,!=2.1.2,!=2.1.6,>=2.0.1 in /usr/local/lib/python3.6/dist-packages (from matplotlib==3.0.1->snorkel==0.9.0) (2.4.2)\n",
            "Requirement already satisfied: kiwisolver>=1.0.1 in /usr/local/lib/python3.6/dist-packages (from matplotlib==3.0.1->snorkel==0.9.0) (1.1.0)\n",
            "Requirement already satisfied: cycler>=0.10 in /usr/local/lib/python3.6/dist-packages (from matplotlib==3.0.1->snorkel==0.9.0) (0.10.0)\n",
            "Requirement already satisfied: wasabi<1.1.0,>=0.2.0 in /usr/local/lib/python3.6/dist-packages (from spacy==2.1.3->snorkel==0.9.0) (0.2.2)\n",
            "Requirement already satisfied: plac<1.0.0,>=0.9.6 in /usr/local/lib/python3.6/dist-packages (from spacy==2.1.3->snorkel==0.9.0) (0.9.6)\n",
            "Requirement already satisfied: jsonschema<3.0.0,>=2.6.0 in /usr/local/lib/python3.6/dist-packages (from spacy==2.1.3->snorkel==0.9.0) (2.6.0)\n",
            "Requirement already satisfied: thinc<7.1.0,>=7.0.2 in /usr/local/lib/python3.6/dist-packages (from spacy==2.1.3->snorkel==0.9.0) (7.0.8)\n",
            "Requirement already satisfied: murmurhash<1.1.0,>=0.28.0 in /usr/local/lib/python3.6/dist-packages (from spacy==2.1.3->snorkel==0.9.0) (1.0.2)\n",
            "Requirement already satisfied: blis<0.3.0,>=0.2.2 in /usr/local/lib/python3.6/dist-packages (from spacy==2.1.3->snorkel==0.9.0) (0.2.4)\n",
            "Requirement already satisfied: cymem<2.1.0,>=2.0.2 in /usr/local/lib/python3.6/dist-packages (from spacy==2.1.3->snorkel==0.9.0) (2.0.2)\n",
            "Requirement already satisfied: srsly<1.1.0,>=0.0.5 in /usr/local/lib/python3.6/dist-packages (from spacy==2.1.3->snorkel==0.9.0) (0.0.7)\n",
            "Requirement already satisfied: preshed<2.1.0,>=2.0.1 in /usr/local/lib/python3.6/dist-packages (from spacy==2.1.3->snorkel==0.9.0) (2.0.1)\n",
            "Requirement already satisfied: requests<3.0.0,>=2.13.0 in /usr/local/lib/python3.6/dist-packages (from spacy==2.1.3->snorkel==0.9.0) (2.21.0)\n",
            "Requirement already satisfied: pandocfilters>=1.4.1 in /usr/local/lib/python3.6/dist-packages (from nbconvert->jupyter==1.0.0->snorkel==0.9.0) (1.4.2)\n",
            "Requirement already satisfied: nbformat>=4.4 in /usr/local/lib/python3.6/dist-packages (from nbconvert->jupyter==1.0.0->snorkel==0.9.0) (4.4.0)\n",
            "Requirement already satisfied: testpath in /usr/local/lib/python3.6/dist-packages (from nbconvert->jupyter==1.0.0->snorkel==0.9.0) (0.4.2)\n",
            "Requirement already satisfied: defusedxml in /usr/local/lib/python3.6/dist-packages (from nbconvert->jupyter==1.0.0->snorkel==0.9.0) (0.6.0)\n",
            "Requirement already satisfied: traitlets>=4.2 in /usr/local/lib/python3.6/dist-packages (from nbconvert->jupyter==1.0.0->snorkel==0.9.0) (4.3.2)\n",
            "Requirement already satisfied: pygments in /usr/local/lib/python3.6/dist-packages (from nbconvert->jupyter==1.0.0->snorkel==0.9.0) (2.1.3)\n",
            "Requirement already satisfied: entrypoints>=0.2.2 in /usr/local/lib/python3.6/dist-packages (from nbconvert->jupyter==1.0.0->snorkel==0.9.0) (0.3)\n",
            "Requirement already satisfied: mistune<2,>=0.8.1 in /usr/local/lib/python3.6/dist-packages (from nbconvert->jupyter==1.0.0->snorkel==0.9.0) (0.8.4)\n",
            "Requirement already satisfied: bleach in /usr/local/lib/python3.6/dist-packages (from nbconvert->jupyter==1.0.0->snorkel==0.9.0) (3.1.0)\n",
            "Requirement already satisfied: jinja2>=2.4 in /usr/local/lib/python3.6/dist-packages (from nbconvert->jupyter==1.0.0->snorkel==0.9.0) (2.10.1)\n",
            "Requirement already satisfied: jupyter-core in /usr/local/lib/python3.6/dist-packages (from nbconvert->jupyter==1.0.0->snorkel==0.9.0) (4.5.0)\n",
            "Requirement already satisfied: ipython>=4.0.0 in /usr/local/lib/python3.6/dist-packages (from ipykernel->jupyter==1.0.0->snorkel==0.9.0) (5.5.0)\n",
            "Requirement already satisfied: jupyter-client in /usr/local/lib/python3.6/dist-packages (from ipykernel->jupyter==1.0.0->snorkel==0.9.0) (5.3.1)\n",
            "Requirement already satisfied: tornado>=4.0 in /usr/local/lib/python3.6/dist-packages (from ipykernel->jupyter==1.0.0->snorkel==0.9.0) (4.5.3)\n",
            "Requirement already satisfied: widgetsnbextension~=3.5.0 in /usr/local/lib/python3.6/dist-packages (from ipywidgets->jupyter==1.0.0->snorkel==0.9.0) (3.5.1)\n",
            "Requirement already satisfied: terminado>=0.3.3; sys_platform != \"win32\" in /usr/local/lib/python3.6/dist-packages (from notebook->jupyter==1.0.0->snorkel==0.9.0) (0.8.2)\n",
            "Requirement already satisfied: prompt-toolkit<2.0.0,>=1.0.0 in /usr/local/lib/python3.6/dist-packages (from jupyter-console->jupyter==1.0.0->snorkel==0.9.0) (1.0.16)\n",
            "Requirement already satisfied: tblib in /usr/local/lib/python3.6/dist-packages (from distributed>=1.22; extra == \"complete\"->dask[complete]==1.2.1->snorkel==0.9.0) (1.4.0)\n",
            "Requirement already satisfied: psutil>=5.0 in /usr/local/lib/python3.6/dist-packages (from distributed>=1.22; extra == \"complete\"->dask[complete]==1.2.1->snorkel==0.9.0) (5.4.8)\n",
            "Requirement already satisfied: click>=6.6 in /usr/local/lib/python3.6/dist-packages (from distributed>=1.22; extra == \"complete\"->dask[complete]==1.2.1->snorkel==0.9.0) (7.0)\n",
            "Requirement already satisfied: zict>=0.1.3 in /usr/local/lib/python3.6/dist-packages (from distributed>=1.22; extra == \"complete\"->dask[complete]==1.2.1->snorkel==0.9.0) (1.0.0)\n",
            "Requirement already satisfied: sortedcontainers!=2.0.0,!=2.0.1 in /usr/local/lib/python3.6/dist-packages (from distributed>=1.22; extra == \"complete\"->dask[complete]==1.2.1->snorkel==0.9.0) (2.1.0)\n",
            "Requirement already satisfied: pyyaml in /usr/local/lib/python3.6/dist-packages (from distributed>=1.22; extra == \"complete\"->dask[complete]==1.2.1->snorkel==0.9.0) (3.13)\n",
            "Requirement already satisfied: msgpack in /usr/local/lib/python3.6/dist-packages (from distributed>=1.22; extra == \"complete\"->dask[complete]==1.2.1->snorkel==0.9.0) (0.5.6)\n",
            "Requirement already satisfied: locket in /usr/local/lib/python3.6/dist-packages (from partd>=0.3.8; extra == \"complete\"->dask[complete]==1.2.1->snorkel==0.9.0) (0.2.0)\n",
            "Requirement already satisfied: setuptools in /usr/local/lib/python3.6/dist-packages (from protobuf>=3.2.0->tensorboardX==1.6->snorkel==0.9.0) (41.0.1)\n",
            "Requirement already satisfied: idna<2.9,>=2.5 in /usr/local/lib/python3.6/dist-packages (from requests<3.0.0,>=2.13.0->spacy==2.1.3->snorkel==0.9.0) (2.8)\n",
            "Requirement already satisfied: certifi>=2017.4.17 in /usr/local/lib/python3.6/dist-packages (from requests<3.0.0,>=2.13.0->spacy==2.1.3->snorkel==0.9.0) (2019.6.16)\n",
            "Requirement already satisfied: chardet<3.1.0,>=3.0.2 in /usr/local/lib/python3.6/dist-packages (from requests<3.0.0,>=2.13.0->spacy==2.1.3->snorkel==0.9.0) (3.0.4)\n",
            "Requirement already satisfied: urllib3<1.25,>=1.21.1 in /usr/local/lib/python3.6/dist-packages (from requests<3.0.0,>=2.13.0->spacy==2.1.3->snorkel==0.9.0) (1.24.3)\n",
            "Requirement already satisfied: webencodings in /usr/local/lib/python3.6/dist-packages (from bleach->nbconvert->jupyter==1.0.0->snorkel==0.9.0) (0.5.1)\n",
            "Requirement already satisfied: MarkupSafe>=0.23 in /usr/local/lib/python3.6/dist-packages (from jinja2>=2.4->nbconvert->jupyter==1.0.0->snorkel==0.9.0) (1.1.1)\n",
            "Requirement already satisfied: pickleshare in /usr/local/lib/python3.6/dist-packages (from ipython>=4.0.0->ipykernel->jupyter==1.0.0->snorkel==0.9.0) (0.7.5)\n",
            "Requirement already satisfied: simplegeneric>0.8 in /usr/local/lib/python3.6/dist-packages (from ipython>=4.0.0->ipykernel->jupyter==1.0.0->snorkel==0.9.0) (0.8.1)\n",
            "Requirement already satisfied: pexpect; sys_platform != \"win32\" in /usr/local/lib/python3.6/dist-packages (from ipython>=4.0.0->ipykernel->jupyter==1.0.0->snorkel==0.9.0) (4.7.0)\n",
            "Requirement already satisfied: pyzmq>=13 in /usr/local/lib/python3.6/dist-packages (from jupyter-client->ipykernel->jupyter==1.0.0->snorkel==0.9.0) (17.0.0)\n",
            "Requirement already satisfied: ptyprocess; os_name != \"nt\" in /usr/local/lib/python3.6/dist-packages (from terminado>=0.3.3; sys_platform != \"win32\"->notebook->jupyter==1.0.0->snorkel==0.9.0) (0.6.0)\n",
            "Requirement already satisfied: wcwidth in /usr/local/lib/python3.6/dist-packages (from prompt-toolkit<2.0.0,>=1.0.0->jupyter-console->jupyter==1.0.0->snorkel==0.9.0) (0.1.7)\n",
            "Requirement already satisfied: heapdict in /usr/local/lib/python3.6/dist-packages (from zict>=0.1.3->distributed>=1.22; extra == \"complete\"->dask[complete]==1.2.1->snorkel==0.9.0) (1.0.0)\n",
            "Building wheels for collected packages: snorkel\n",
            "  Building wheel for snorkel (PEP 517) ... \u001b[?25l\u001b[?25hdone\n",
            "  Created wheel for snorkel: filename=snorkel-0.9.0-cp36-none-any.whl size=109793 sha256=133f43a2acfa313c35e277b919e68e31f6f44d9d353fe58ede8986382f5656f7\n",
            "  Stored in directory: /tmp/pip-ephem-wheel-cache-bdhjme99/wheels/1d/74/e9/0c64265729943b0dab0a757f726491151c4ca9ccea68db8e1a\n",
            "Successfully built snorkel\n",
            "Installing collected packages: snorkel\n",
            "  Found existing installation: snorkel 0.9.1+dev\n",
            "    Uninstalling snorkel-0.9.1+dev:\n",
            "      Successfully uninstalled snorkel-0.9.1+dev\n",
            "Successfully installed snorkel-0.9.0\n"
          ],
          "name": "stdout"
        },
        {
          "output_type": "display_data",
          "data": {
            "application/vnd.colab-display-data+json": {
              "pip_warning": {
                "packages": [
                  "snorkel"
                ]
              }
            }
          },
          "metadata": {
            "tags": []
          }
        }
      ]
    },
    {
      "cell_type": "code",
      "metadata": {
        "id": "8OStr-9IMHnW",
        "colab_type": "code",
        "colab": {}
      },
      "source": [
        "from snorkel.mtl.model import MultitaskModel\n",
        "from snorkel.mtl.trainer import Trainer"
      ],
      "execution_count": 0,
      "outputs": []
    },
    {
      "cell_type": "code",
      "metadata": {
        "id": "VChw5n4sNhbn",
        "colab_type": "code",
        "outputId": "75c3d51c-e8d4-4d81-de34-f2ce043e61c0",
        "colab": {
          "base_uri": "https://localhost:8080/",
          "height": 258
        }
      },
      "source": [
        "!pip install snorkel-metal\n"
      ],
      "execution_count": 0,
      "outputs": [
        {
          "output_type": "stream",
          "text": [
            "Requirement already satisfied: snorkel-metal in /usr/local/lib/python3.6/dist-packages (0.5.0)\n",
            "Requirement already satisfied: scikit-learn in /usr/local/lib/python3.6/dist-packages (from snorkel-metal) (0.20.2)\n",
            "Requirement already satisfied: scipy in /usr/local/lib/python3.6/dist-packages (from snorkel-metal) (1.2.0)\n",
            "Requirement already satisfied: dill in /usr/local/lib/python3.6/dist-packages (from snorkel-metal) (0.2.9)\n",
            "Requirement already satisfied: tqdm in /usr/local/lib/python3.6/dist-packages (from snorkel-metal) (4.29.1)\n",
            "Requirement already satisfied: numpy in /usr/local/lib/python3.6/dist-packages (from snorkel-metal) (1.16.0)\n",
            "Requirement already satisfied: networkx>=2.2 in /usr/local/lib/python3.6/dist-packages (from snorkel-metal) (2.2)\n",
            "Requirement already satisfied: pandas in /usr/local/lib/python3.6/dist-packages (from snorkel-metal) (0.24.0)\n",
            "Requirement already satisfied: torch>=1.0 in /usr/local/lib/python3.6/dist-packages (from snorkel-metal) (1.1.0)\n",
            "Requirement already satisfied: decorator>=4.3.0 in /usr/local/lib/python3.6/dist-packages (from networkx>=2.2->snorkel-metal) (4.4.0)\n",
            "Requirement already satisfied: pytz>=2011k in /usr/local/lib/python3.6/dist-packages (from pandas->snorkel-metal) (2018.9)\n",
            "Requirement already satisfied: python-dateutil>=2.5.0 in /usr/local/lib/python3.6/dist-packages (from pandas->snorkel-metal) (2.5.3)\n",
            "Requirement already satisfied: six>=1.5 in /usr/local/lib/python3.6/dist-packages (from python-dateutil>=2.5.0->pandas->snorkel-metal) (1.12.0)\n"
          ],
          "name": "stdout"
        }
      ]
    },
    {
      "cell_type": "code",
      "metadata": {
        "id": "NFZ239eDNwwk",
        "colab_type": "code",
        "outputId": "3a93d864-3e43-422c-cf7f-87a4145108a2",
        "colab": {
          "base_uri": "https://localhost:8080/",
          "height": 1000
        }
      },
      "source": [
        "!unzip snorkel-superglue-master.zip"
      ],
      "execution_count": 0,
      "outputs": [
        {
          "output_type": "stream",
          "text": [
            "Archive:  snorkel-superglue-master.zip\n",
            "   creating: snorkel-superglue-master/\n",
            "  inflating: snorkel-superglue-master/run.py  \n",
            "   creating: __MACOSX/\n",
            "   creating: __MACOSX/snorkel-superglue-master/\n",
            "  inflating: __MACOSX/snorkel-superglue-master/._run.py  \n",
            "  inflating: snorkel-superglue-master/.DS_Store  \n",
            "  inflating: __MACOSX/snorkel-superglue-master/._.DS_Store  \n",
            "  inflating: snorkel-superglue-master/LICENSE  \n",
            "  inflating: __MACOSX/snorkel-superglue-master/._LICENSE  \n",
            "  inflating: snorkel-superglue-master/requirements.txt  \n",
            "  inflating: __MACOSX/snorkel-superglue-master/._requirements.txt  \n",
            "  inflating: snorkel-superglue-master/dataloaders.py  \n",
            "  inflating: __MACOSX/snorkel-superglue-master/._dataloaders.py  \n",
            "  inflating: snorkel-superglue-master/task_config.py  \n",
            "  inflating: __MACOSX/snorkel-superglue-master/._task_config.py  \n",
            "  inflating: snorkel-superglue-master/download_superglue_data.sh  \n",
            "  inflating: __MACOSX/snorkel-superglue-master/._download_superglue_data.sh  \n",
            "   creating: snorkel-superglue-master/superglue_modules/\n",
            "  inflating: snorkel-superglue-master/superglue_modules/copa_module.py  \n",
            "   creating: __MACOSX/snorkel-superglue-master/superglue_modules/\n",
            "  inflating: __MACOSX/snorkel-superglue-master/superglue_modules/._copa_module.py  \n",
            "  inflating: snorkel-superglue-master/superglue_modules/bert_module.py  \n",
            "  inflating: __MACOSX/snorkel-superglue-master/superglue_modules/._bert_module.py  \n",
            " extracting: snorkel-superglue-master/superglue_modules/__init__.py  \n",
            "  inflating: __MACOSX/snorkel-superglue-master/superglue_modules/.___init__.py  \n",
            "   creating: snorkel-superglue-master/superglue_modules/__pycache__/\n",
            "  inflating: snorkel-superglue-master/superglue_modules/__pycache__/copa_module.cpython-37.pyc  \n",
            "  inflating: snorkel-superglue-master/superglue_modules/__pycache__/bert_module.cpython-37.pyc  \n",
            "  inflating: snorkel-superglue-master/superglue_modules/__pycache__/wsc_module.cpython-37.pyc  \n",
            "  inflating: snorkel-superglue-master/superglue_modules/__pycache__/__init__.cpython-37.pyc  \n",
            "  inflating: snorkel-superglue-master/superglue_modules/regression_module.py  \n",
            "  inflating: __MACOSX/snorkel-superglue-master/superglue_modules/._regression_module.py  \n",
            "  inflating: snorkel-superglue-master/superglue_modules/wsc_module.py  \n",
            "  inflating: __MACOSX/snorkel-superglue-master/superglue_modules/._wsc_module.py  \n",
            "  inflating: snorkel-superglue-master/superglue_modules/classification_module.py  \n",
            "  inflating: __MACOSX/snorkel-superglue-master/superglue_modules/._classification_module.py  \n",
            "  inflating: __MACOSX/snorkel-superglue-master/._superglue_modules  \n",
            "   creating: snorkel-superglue-master/__pycache__/\n",
            "  inflating: snorkel-superglue-master/__pycache__/dataloaders.cpython-37.pyc  \n",
            "  inflating: snorkel-superglue-master/__pycache__/utils.cpython-37.pyc  \n",
            "  inflating: snorkel-superglue-master/__pycache__/tokenizer.cpython-37.pyc  \n",
            "  inflating: snorkel-superglue-master/__pycache__/task_config.cpython-37.pyc  \n",
            "   creating: snorkel-superglue-master/superglue_slices/\n",
            "  inflating: snorkel-superglue-master/superglue_slices/CB_sfs.py  \n",
            "   creating: __MACOSX/snorkel-superglue-master/superglue_slices/\n",
            "  inflating: __MACOSX/snorkel-superglue-master/superglue_slices/._CB_sfs.py  \n",
            "  inflating: snorkel-superglue-master/superglue_slices/COPA_sfs.py  \n",
            "  inflating: __MACOSX/snorkel-superglue-master/superglue_slices/._COPA_sfs.py  \n",
            "  inflating: snorkel-superglue-master/superglue_slices/qnli_sfs.py  \n",
            "  inflating: __MACOSX/snorkel-superglue-master/superglue_slices/._qnli_sfs.py  \n",
            "  inflating: snorkel-superglue-master/superglue_slices/WSC_sfs.py  \n",
            "  inflating: __MACOSX/snorkel-superglue-master/superglue_slices/._WSC_sfs.py  \n",
            "  inflating: snorkel-superglue-master/superglue_slices/__init__.py  \n",
            "  inflating: __MACOSX/snorkel-superglue-master/superglue_slices/.___init__.py  \n",
            "  inflating: snorkel-superglue-master/superglue_slices/RTE_sfs.py  \n",
            "  inflating: __MACOSX/snorkel-superglue-master/superglue_slices/._RTE_sfs.py  \n",
            "  inflating: snorkel-superglue-master/superglue_slices/MultiRC_sfs.py  \n",
            "  inflating: __MACOSX/snorkel-superglue-master/superglue_slices/._MultiRC_sfs.py  \n",
            "  inflating: snorkel-superglue-master/superglue_slices/WiC_sfs.py  \n",
            "  inflating: __MACOSX/snorkel-superglue-master/superglue_slices/._WiC_sfs.py  \n",
            "  inflating: snorkel-superglue-master/superglue_slices/general_sfs.py  \n",
            "  inflating: __MACOSX/snorkel-superglue-master/superglue_slices/._general_sfs.py  \n",
            "  inflating: __MACOSX/snorkel-superglue-master/._superglue_slices  \n",
            "  inflating: snorkel-superglue-master/run.sh  \n",
            "  inflating: __MACOSX/snorkel-superglue-master/._run.sh  \n",
            "  inflating: snorkel-superglue-master/README.md  \n",
            "  inflating: __MACOSX/snorkel-superglue-master/._README.md  \n",
            "  inflating: snorkel-superglue-master/tokenizer.py  \n",
            "  inflating: __MACOSX/snorkel-superglue-master/._tokenizer.py  \n",
            "  inflating: snorkel-superglue-master/setup.py  \n",
            "  inflating: __MACOSX/snorkel-superglue-master/._setup.py  \n",
            "   creating: snorkel-superglue-master/superglue_tasks/\n",
            "  inflating: snorkel-superglue-master/superglue_tasks/wsc.py  \n",
            "   creating: __MACOSX/snorkel-superglue-master/superglue_tasks/\n",
            "  inflating: __MACOSX/snorkel-superglue-master/superglue_tasks/._wsc.py  \n",
            "  inflating: snorkel-superglue-master/superglue_tasks/swag.py  \n",
            "  inflating: __MACOSX/snorkel-superglue-master/superglue_tasks/._swag.py  \n",
            "  inflating: snorkel-superglue-master/superglue_tasks/cb.py  \n",
            "  inflating: __MACOSX/snorkel-superglue-master/superglue_tasks/._cb.py  \n",
            "  inflating: snorkel-superglue-master/superglue_tasks/copa.py  \n",
            "  inflating: __MACOSX/snorkel-superglue-master/superglue_tasks/._copa.py  \n",
            "  inflating: snorkel-superglue-master/superglue_tasks/__init__.py  \n",
            "  inflating: __MACOSX/snorkel-superglue-master/superglue_tasks/.___init__.py  \n",
            "  inflating: snorkel-superglue-master/superglue_tasks/rte.py  \n",
            "  inflating: __MACOSX/snorkel-superglue-master/superglue_tasks/._rte.py  \n",
            "   creating: snorkel-superglue-master/superglue_tasks/__pycache__/\n",
            "  inflating: snorkel-superglue-master/superglue_tasks/__pycache__/copa.cpython-37.pyc  \n",
            "  inflating: snorkel-superglue-master/superglue_tasks/__pycache__/cb.cpython-37.pyc  \n",
            "  inflating: snorkel-superglue-master/superglue_tasks/__pycache__/multirc.cpython-37.pyc  \n",
            "  inflating: snorkel-superglue-master/superglue_tasks/__pycache__/wsc.cpython-37.pyc  \n",
            "  inflating: snorkel-superglue-master/superglue_tasks/__pycache__/utils.cpython-37.pyc  \n",
            "  inflating: snorkel-superglue-master/superglue_tasks/__pycache__/wic.cpython-37.pyc  \n",
            "  inflating: snorkel-superglue-master/superglue_tasks/__pycache__/swag.cpython-37.pyc  \n",
            "  inflating: snorkel-superglue-master/superglue_tasks/__pycache__/qnli.cpython-37.pyc  \n",
            "  inflating: snorkel-superglue-master/superglue_tasks/__pycache__/rte.cpython-37.pyc  \n",
            "  inflating: snorkel-superglue-master/superglue_tasks/__pycache__/__init__.cpython-37.pyc  \n",
            "  inflating: snorkel-superglue-master/superglue_tasks/multirc.py  \n",
            "  inflating: __MACOSX/snorkel-superglue-master/superglue_tasks/._multirc.py  \n",
            "  inflating: snorkel-superglue-master/superglue_tasks/qnli.py  \n",
            "  inflating: __MACOSX/snorkel-superglue-master/superglue_tasks/._qnli.py  \n",
            "  inflating: snorkel-superglue-master/superglue_tasks/utils.py  \n",
            "  inflating: __MACOSX/snorkel-superglue-master/superglue_tasks/._utils.py  \n",
            "  inflating: snorkel-superglue-master/superglue_tasks/wic.py  \n",
            "  inflating: __MACOSX/snorkel-superglue-master/superglue_tasks/._wic.py  \n",
            "  inflating: __MACOSX/snorkel-superglue-master/._superglue_tasks  \n",
            "  inflating: snorkel-superglue-master/.gitignore  \n",
            "  inflating: __MACOSX/snorkel-superglue-master/._.gitignore  \n",
            "  inflating: snorkel-superglue-master/utils.py  \n",
            "  inflating: __MACOSX/snorkel-superglue-master/._utils.py  \n",
            "   creating: snorkel-superglue-master/superglue_parsers/\n",
            "  inflating: snorkel-superglue-master/superglue_parsers/wsc.py  \n",
            "   creating: __MACOSX/snorkel-superglue-master/superglue_parsers/\n",
            "  inflating: __MACOSX/snorkel-superglue-master/superglue_parsers/._wsc.py  \n",
            "  inflating: snorkel-superglue-master/superglue_parsers/swag.py  \n",
            "  inflating: __MACOSX/snorkel-superglue-master/superglue_parsers/._swag.py  \n",
            "  inflating: snorkel-superglue-master/superglue_parsers/cb.py  \n",
            "  inflating: __MACOSX/snorkel-superglue-master/superglue_parsers/._cb.py  \n",
            "  inflating: snorkel-superglue-master/superglue_parsers/copa.py  \n",
            "  inflating: __MACOSX/snorkel-superglue-master/superglue_parsers/._copa.py  \n",
            "  inflating: snorkel-superglue-master/superglue_parsers/__init__.py  \n",
            "  inflating: __MACOSX/snorkel-superglue-master/superglue_parsers/.___init__.py  \n",
            "  inflating: snorkel-superglue-master/superglue_parsers/rte.py  \n",
            "  inflating: __MACOSX/snorkel-superglue-master/superglue_parsers/._rte.py  \n",
            "   creating: snorkel-superglue-master/superglue_parsers/__pycache__/\n",
            "  inflating: snorkel-superglue-master/superglue_parsers/__pycache__/copa.cpython-37.pyc  \n",
            "  inflating: snorkel-superglue-master/superglue_parsers/__pycache__/cb.cpython-37.pyc  \n",
            "  inflating: snorkel-superglue-master/superglue_parsers/__pycache__/multirc.cpython-37.pyc  \n",
            "  inflating: snorkel-superglue-master/superglue_parsers/__pycache__/wsc.cpython-37.pyc  \n",
            "  inflating: snorkel-superglue-master/superglue_parsers/__pycache__/wic.cpython-37.pyc  \n",
            "  inflating: snorkel-superglue-master/superglue_parsers/__pycache__/swag.cpython-37.pyc  \n",
            "  inflating: snorkel-superglue-master/superglue_parsers/__pycache__/qnli.cpython-37.pyc  \n",
            "  inflating: snorkel-superglue-master/superglue_parsers/__pycache__/rte.cpython-37.pyc  \n",
            "  inflating: snorkel-superglue-master/superglue_parsers/__pycache__/__init__.cpython-37.pyc  \n",
            "  inflating: snorkel-superglue-master/superglue_parsers/multirc.py  \n",
            "  inflating: __MACOSX/snorkel-superglue-master/superglue_parsers/._multirc.py  \n",
            "  inflating: snorkel-superglue-master/superglue_parsers/qnli.py  \n",
            "  inflating: __MACOSX/snorkel-superglue-master/superglue_parsers/._qnli.py  \n",
            "  inflating: snorkel-superglue-master/superglue_parsers/wic.py  \n",
            "  inflating: __MACOSX/snorkel-superglue-master/superglue_parsers/._wic.py  \n",
            "  inflating: __MACOSX/snorkel-superglue-master/._superglue_parsers  \n",
            "   creating: snorkel-superglue-master/tutorials/\n",
            "  inflating: snorkel-superglue-master/tutorials/Untitled1.ipynb  \n",
            "  inflating: snorkel-superglue-master/tutorials/.DS_Store  \n",
            "   creating: __MACOSX/snorkel-superglue-master/tutorials/\n",
            "  inflating: __MACOSX/snorkel-superglue-master/tutorials/._.DS_Store  \n",
            "  inflating: snorkel-superglue-master/tutorials/Untitled.ipynb  \n",
            "  inflating: snorkel-superglue-master/tutorials/model_with_qnli.pth  \n",
            "  inflating: snorkel-superglue-master/tutorials/snorkel.db  \n",
            "  inflating: snorkel-superglue-master/tutorials/COPA_pretrain_tutorial.ipynb  \n",
            "  inflating: __MACOSX/snorkel-superglue-master/tutorials/._COPA_pretrain_tutorial.ipynb  \n",
            "  inflating: snorkel-superglue-master/tutorials/WiC_augmentation_tutorial.ipynb  \n",
            "  inflating: __MACOSX/snorkel-superglue-master/tutorials/._WiC_augmentation_tutorial.ipynb  \n",
            "  inflating: snorkel-superglue-master/tutorials/Untitled2.ipynb  \n",
            "  inflating: snorkel-superglue-master/tutorials/RTE_slicing_tutorial.ipynb  \n",
            "  inflating: __MACOSX/snorkel-superglue-master/tutorials/._RTE_slicing_tutorial.ipynb  \n",
            "  inflating: snorkel-superglue-master/tutorials/QNLI.ipynb  \n",
            "   creating: snorkel-superglue-master/tutorials/.ipynb_checkpoints/\n",
            "  inflating: snorkel-superglue-master/tutorials/.ipynb_checkpoints/WiC_slicing_tutorial-checkpoint.ipynb  \n",
            "  inflating: snorkel-superglue-master/tutorials/.ipynb_checkpoints/Untitled2-checkpoint.ipynb  \n",
            "  inflating: snorkel-superglue-master/tutorials/.ipynb_checkpoints/QNLI-checkpoint.ipynb  \n",
            "  inflating: snorkel-superglue-master/tutorials/.ipynb_checkpoints/COPA_pretrain_tutorial-checkpoint.ipynb  \n",
            "  inflating: snorkel-superglue-master/tutorials/.ipynb_checkpoints/RTE_slicing_tutorial-checkpoint.ipynb  \n",
            "  inflating: snorkel-superglue-master/tutorials/.ipynb_checkpoints/Untitled1-checkpoint.ipynb  \n",
            "  inflating: snorkel-superglue-master/tutorials/.ipynb_checkpoints/WiC_augmentation_tutorial-checkpoint.ipynb  \n",
            "  inflating: snorkel-superglue-master/tutorials/.ipynb_checkpoints/Untitled-checkpoint.ipynb  \n",
            "  inflating: snorkel-superglue-master/tutorials/WiC_slicing_tutorial.ipynb  \n",
            "  inflating: __MACOSX/snorkel-superglue-master/tutorials/._WiC_slicing_tutorial.ipynb  \n",
            "  inflating: __MACOSX/snorkel-superglue-master/._tutorials  \n",
            "   creating: snorkel-superglue-master/Data/\n",
            "  inflating: snorkel-superglue-master/Data/.DS_Store  \n",
            "   creating: __MACOSX/snorkel-superglue-master/Data/\n",
            "  inflating: __MACOSX/snorkel-superglue-master/Data/._.DS_Store  \n",
            "   creating: snorkel-superglue-master/Data/QNLI/\n",
            "  inflating: snorkel-superglue-master/Data/QNLI/train.jsonl  \n",
            "   creating: __MACOSX/snorkel-superglue-master/Data/QNLI/\n",
            "  inflating: __MACOSX/snorkel-superglue-master/Data/QNLI/._train.jsonl  \n",
            "  inflating: snorkel-superglue-master/Data/QNLI/test.jsonl  \n",
            "  inflating: __MACOSX/snorkel-superglue-master/Data/QNLI/._test.jsonl  \n",
            "  inflating: snorkel-superglue-master/Data/QNLI/val.jsonl  \n",
            "  inflating: __MACOSX/snorkel-superglue-master/Data/QNLI/._val.jsonl  \n",
            "   creating: snorkel-superglue-master/Data/RTE/\n",
            "  inflating: snorkel-superglue-master/Data/RTE/train.jsonl  \n",
            "   creating: __MACOSX/snorkel-superglue-master/Data/RTE/\n",
            "  inflating: __MACOSX/snorkel-superglue-master/Data/RTE/._train.jsonl  \n",
            "  inflating: snorkel-superglue-master/Data/RTE/test.jsonl  \n",
            "  inflating: __MACOSX/snorkel-superglue-master/Data/RTE/._test.jsonl  \n",
            "  inflating: snorkel-superglue-master/Data/RTE/val.jsonl  \n",
            "  inflating: __MACOSX/snorkel-superglue-master/Data/RTE/._val.jsonl  \n",
            "  inflating: __MACOSX/snorkel-superglue-master/Data/._RTE  \n",
            "  inflating: snorkel-superglue-master/.travis.yml  \n",
            "  inflating: __MACOSX/snorkel-superglue-master/._.travis.yml  \n",
            "  inflating: snorkel-superglue-master/download_superglue_data.py  \n",
            "  inflating: __MACOSX/snorkel-superglue-master/._download_superglue_data.py  \n",
            "  inflating: __MACOSX/._snorkel-superglue-master  \n"
          ],
          "name": "stdout"
        }
      ]
    },
    {
      "cell_type": "code",
      "metadata": {
        "id": "OapeJ8kvVjOR",
        "colab_type": "code",
        "colab": {}
      },
      "source": [
        "import os, sys\n",
        "import pandas as pd\n",
        "from pathlib import Path\n",
        "import json\n",
        "if not \"cwd\" in globals():\n",
        "    cwd = Path(os.getcwd())\n"
      ],
      "execution_count": 0,
      "outputs": []
    },
    {
      "cell_type": "code",
      "metadata": {
        "id": "4P5InlJXWGMx",
        "colab_type": "code",
        "colab": {}
      },
      "source": [
        "TASK_NAME = \"QNLI\"\n",
        "BERT_MODEL = \"bert-large-cased\"\n",
        "split = \"valid\"\n",
        "\n",
        "dataloader_config = {\n",
        "    \"batch_size\": 100,\n",
        "    \"data_dir\": \"Data\",\n",
        "    \"splits\": [\"train\", \"valid\"],\n",
        "}\n",
        "\n",
        "trainer_config = {\n",
        "    \"lr\": 0.6,\n",
        "    \"optimizer\": \"adamax\",\n",
        "    \"n_epochs\": 5,\n",
        "    \"conter_unit\": \"epochs\",\n",
        "    \"evaluation_freq\": 0.5,\n",
        "}"
      ],
      "execution_count": 0,
      "outputs": []
    },
    {
      "cell_type": "code",
      "metadata": {
        "id": "Bco-s9InWPL4",
        "colab_type": "code",
        "outputId": "40d7fb78-27e3-4efc-e4cd-93c1a4786928",
        "colab": {
          "base_uri": "https://localhost:8080/",
          "height": 34
        }
      },
      "source": [
        "cd snorkel-superglue-master/t"
      ],
      "execution_count": 0,
      "outputs": [
        {
          "output_type": "stream",
          "text": [
            "/snorkel-superglue-master/tutorials\n"
          ],
          "name": "stdout"
        }
      ]
    },
    {
      "cell_type": "code",
      "metadata": {
        "id": "Al6mZS-bWVbo",
        "colab_type": "code",
        "outputId": "bada5941-efad-47ff-deb0-ac9f29bf5c3a",
        "colab": {
          "base_uri": "https://localhost:8080/",
          "height": 102
        }
      },
      "source": [
        "ls"
      ],
      "execution_count": 0,
      "outputs": [
        {
          "output_type": "stream",
          "text": [
            "\u001b[0m\u001b[01;32mCOPA_pretrain_tutorial.ipynb\u001b[0m*  Untitled1.ipynb\n",
            "model_with_qnli.pth            Untitled2.ipynb\n",
            "QNLI.ipynb                     Untitled.ipynb\n",
            "\u001b[01;32mRTE_slicing_tutorial.ipynb\u001b[0m*    \u001b[01;32mWiC_augmentation_tutorial.ipynb\u001b[0m*\n",
            "snorkel.db                     \u001b[01;32mWiC_slicing_tutorial.ipynb\u001b[0m*\n"
          ],
          "name": "stdout"
        }
      ]
    },
    {
      "cell_type": "code",
      "metadata": {
        "id": "HlNEXMuyWX3Y",
        "colab_type": "code",
        "colab": {}
      },
      "source": [
        "from dataloaders import get_jsonl_path\n",
        "from superglue_parsers.wic import get_rows\n",
        "max_data_samples =1120"
      ],
      "execution_count": 0,
      "outputs": []
    },
    {
      "cell_type": "code",
      "metadata": {
        "id": "ZkEMhwuAWiXr",
        "colab_type": "code",
        "outputId": "4947fe8b-470a-4562-a119-964cae4c4456",
        "colab": {
          "base_uri": "https://localhost:8080/",
          "height": 34
        }
      },
      "source": [
        "cd .."
      ],
      "execution_count": 0,
      "outputs": [
        {
          "output_type": "stream",
          "text": [
            "/snorkel-superglue-master\n"
          ],
          "name": "stdout"
        }
      ]
    },
    {
      "cell_type": "code",
      "metadata": {
        "id": "I4OBcQIUWkMS",
        "colab_type": "code",
        "colab": {}
      },
      "source": [
        "from dataloaders import get_jsonl_path\n",
        "from superglue_parsers.wic import get_rows\n",
        "max_data_samples =1120\n",
        "\n"
      ],
      "execution_count": 0,
      "outputs": []
    },
    {
      "cell_type": "code",
      "metadata": {
        "id": "GIW3G9DaX3Jg",
        "colab_type": "code",
        "outputId": "2fe8c95f-bebd-4073-d0f9-0e8ac8e79b04",
        "colab": {
          "base_uri": "https://localhost:8080/",
          "height": 1000
        }
      },
      "source": [
        "from dataloaders import get_dataloaders\n",
        "\n",
        "dataloaders = get_dataloaders(\n",
        "    task_name=TASK_NAME,\n",
        "    tokenizer_name=BERT_MODEL,\n",
        "    **dataloader_config\n",
        ")"
      ],
      "execution_count": 0,
      "outputs": [
        {
          "output_type": "stream",
          "text": [
            "0\n",
            "1\n",
            "2\n",
            "3\n",
            "4\n",
            "5\n",
            "6\n",
            "7\n",
            "8\n",
            "9\n",
            "10\n",
            "11\n",
            "12\n",
            "13\n",
            "14\n",
            "15\n",
            "16\n",
            "17\n",
            "18\n",
            "19\n",
            "20\n",
            "21\n",
            "22\n",
            "23\n",
            "24\n",
            "25\n",
            "26\n",
            "27\n",
            "28\n",
            "29\n",
            "30\n",
            "31\n",
            "32\n",
            "33\n",
            "34\n",
            "35\n",
            "36\n",
            "37\n",
            "38\n",
            "39\n",
            "40\n",
            "41\n",
            "42\n",
            "43\n",
            "44\n",
            "45\n",
            "46\n",
            "47\n",
            "48\n",
            "49\n",
            "50\n",
            "51\n",
            "52\n",
            "53\n",
            "54\n",
            "55\n",
            "56\n",
            "57\n",
            "58\n",
            "59\n",
            "60\n",
            "61\n",
            "62\n",
            "63\n",
            "64\n",
            "65\n",
            "66\n",
            "67\n",
            "68\n",
            "69\n",
            "70\n",
            "71\n",
            "72\n",
            "73\n",
            "74\n",
            "75\n",
            "76\n",
            "77\n",
            "78\n",
            "79\n",
            "80\n",
            "81\n",
            "82\n",
            "83\n",
            "84\n",
            "85\n",
            "86\n",
            "87\n",
            "88\n",
            "89\n",
            "90\n",
            "91\n",
            "92\n",
            "93\n",
            "94\n",
            "95\n",
            "96\n",
            "97\n",
            "98\n",
            "99\n",
            "100\n",
            "101\n",
            "102\n",
            "103\n",
            "104\n",
            "105\n",
            "106\n",
            "107\n",
            "108\n",
            "109\n",
            "110\n",
            "111\n",
            "112\n",
            "113\n",
            "114\n",
            "115\n",
            "116\n",
            "117\n",
            "118\n",
            "119\n",
            "120\n",
            "121\n",
            "122\n",
            "123\n",
            "124\n",
            "125\n",
            "126\n",
            "127\n",
            "128\n",
            "129\n",
            "130\n",
            "131\n",
            "132\n",
            "133\n",
            "134\n",
            "135\n",
            "136\n",
            "137\n",
            "138\n",
            "139\n",
            "140\n",
            "141\n",
            "142\n",
            "143\n",
            "144\n",
            "145\n",
            "146\n",
            "147\n",
            "148\n",
            "149\n",
            "150\n",
            "151\n",
            "152\n",
            "153\n",
            "154\n",
            "155\n",
            "156\n",
            "157\n",
            "158\n",
            "159\n",
            "160\n",
            "161\n",
            "162\n",
            "163\n",
            "164\n",
            "165\n",
            "166\n",
            "167\n",
            "168\n",
            "169\n",
            "170\n",
            "171\n",
            "172\n",
            "173\n",
            "174\n",
            "175\n",
            "176\n",
            "177\n",
            "178\n",
            "179\n",
            "180\n",
            "181\n",
            "182\n",
            "183\n",
            "184\n",
            "185\n",
            "186\n",
            "187\n",
            "188\n",
            "189\n",
            "190\n",
            "191\n",
            "192\n",
            "193\n",
            "194\n",
            "195\n",
            "196\n",
            "197\n",
            "198\n",
            "199\n",
            "200\n",
            "201\n",
            "202\n",
            "203\n",
            "204\n",
            "205\n",
            "206\n",
            "207\n",
            "208\n",
            "209\n",
            "210\n",
            "211\n",
            "212\n",
            "213\n",
            "214\n",
            "215\n",
            "216\n",
            "217\n",
            "218\n",
            "219\n",
            "220\n",
            "221\n",
            "222\n",
            "223\n",
            "224\n",
            "225\n",
            "226\n",
            "227\n",
            "228\n",
            "229\n",
            "230\n",
            "231\n",
            "232\n",
            "233\n",
            "234\n",
            "235\n",
            "236\n",
            "237\n",
            "238\n",
            "239\n",
            "240\n",
            "241\n",
            "242\n",
            "243\n",
            "244\n",
            "245\n",
            "246\n",
            "247\n",
            "248\n",
            "249\n",
            "250\n",
            "251\n",
            "252\n",
            "253\n",
            "254\n",
            "255\n",
            "256\n",
            "257\n",
            "258\n",
            "259\n",
            "260\n",
            "261\n",
            "262\n",
            "263\n",
            "264\n",
            "265\n",
            "266\n",
            "267\n",
            "268\n",
            "269\n",
            "270\n",
            "271\n",
            "272\n",
            "273\n",
            "274\n",
            "275\n",
            "276\n",
            "277\n",
            "278\n",
            "279\n",
            "280\n",
            "281\n",
            "282\n",
            "283\n",
            "284\n",
            "285\n",
            "286\n",
            "287\n",
            "288\n",
            "289\n",
            "290\n",
            "291\n",
            "292\n",
            "293\n",
            "294\n",
            "295\n",
            "296\n",
            "297\n",
            "298\n",
            "299\n",
            "0\n",
            "1\n",
            "2\n",
            "3\n",
            "4\n",
            "5\n",
            "6\n",
            "7\n",
            "8\n",
            "9\n",
            "10\n",
            "11\n",
            "12\n",
            "13\n",
            "14\n",
            "15\n",
            "16\n",
            "17\n",
            "18\n",
            "19\n",
            "20\n",
            "21\n",
            "22\n",
            "23\n",
            "24\n",
            "25\n",
            "26\n",
            "27\n",
            "28\n",
            "29\n",
            "30\n",
            "31\n",
            "32\n",
            "33\n",
            "34\n",
            "35\n",
            "36\n",
            "37\n",
            "38\n",
            "39\n",
            "40\n",
            "41\n",
            "42\n",
            "43\n",
            "44\n",
            "45\n",
            "46\n",
            "47\n",
            "48\n",
            "49\n",
            "50\n",
            "51\n",
            "52\n",
            "53\n",
            "54\n",
            "55\n",
            "56\n",
            "57\n",
            "58\n",
            "59\n",
            "60\n",
            "61\n",
            "62\n",
            "63\n",
            "64\n",
            "65\n",
            "66\n",
            "67\n",
            "68\n",
            "69\n",
            "70\n",
            "71\n",
            "72\n",
            "73\n",
            "74\n",
            "75\n",
            "76\n",
            "77\n",
            "78\n",
            "79\n",
            "80\n",
            "81\n",
            "82\n",
            "83\n",
            "84\n",
            "85\n",
            "86\n",
            "87\n",
            "88\n",
            "89\n",
            "90\n",
            "91\n",
            "92\n",
            "93\n",
            "94\n",
            "95\n",
            "96\n",
            "97\n",
            "98\n",
            "99\n",
            "100\n",
            "101\n",
            "102\n",
            "103\n",
            "104\n",
            "105\n",
            "106\n",
            "107\n",
            "108\n",
            "109\n",
            "110\n",
            "111\n",
            "112\n",
            "113\n",
            "114\n",
            "115\n",
            "116\n",
            "117\n",
            "118\n",
            "119\n",
            "120\n",
            "121\n",
            "122\n",
            "123\n",
            "124\n",
            "125\n",
            "126\n",
            "127\n",
            "128\n",
            "129\n",
            "130\n",
            "131\n",
            "132\n",
            "133\n",
            "134\n",
            "135\n",
            "136\n",
            "137\n",
            "138\n",
            "139\n",
            "140\n",
            "141\n",
            "142\n",
            "143\n",
            "144\n",
            "145\n",
            "146\n",
            "147\n",
            "148\n",
            "149\n",
            "150\n",
            "151\n",
            "152\n",
            "153\n",
            "154\n",
            "155\n",
            "156\n",
            "157\n",
            "158\n",
            "159\n",
            "160\n",
            "161\n",
            "162\n",
            "163\n",
            "164\n",
            "165\n",
            "166\n",
            "167\n",
            "168\n",
            "169\n",
            "170\n",
            "171\n",
            "172\n",
            "173\n",
            "174\n",
            "175\n",
            "176\n",
            "177\n",
            "178\n",
            "179\n",
            "180\n",
            "181\n",
            "182\n",
            "183\n",
            "184\n",
            "185\n",
            "186\n",
            "187\n",
            "188\n",
            "189\n",
            "190\n",
            "191\n",
            "192\n",
            "193\n",
            "194\n",
            "195\n",
            "196\n",
            "197\n",
            "198\n",
            "199\n",
            "200\n",
            "201\n",
            "202\n",
            "203\n",
            "204\n",
            "205\n",
            "206\n",
            "207\n",
            "208\n",
            "209\n",
            "210\n",
            "211\n",
            "212\n",
            "213\n",
            "214\n",
            "215\n",
            "216\n",
            "217\n",
            "218\n",
            "219\n",
            "220\n",
            "221\n",
            "222\n",
            "223\n",
            "224\n",
            "225\n",
            "226\n",
            "227\n",
            "228\n",
            "229\n",
            "230\n",
            "231\n",
            "232\n",
            "233\n",
            "234\n",
            "235\n",
            "236\n",
            "237\n",
            "238\n",
            "239\n",
            "240\n",
            "241\n",
            "242\n",
            "243\n",
            "244\n",
            "245\n",
            "246\n",
            "247\n",
            "248\n",
            "249\n",
            "250\n",
            "251\n",
            "252\n",
            "253\n",
            "254\n",
            "255\n",
            "256\n",
            "257\n",
            "258\n",
            "259\n",
            "260\n",
            "261\n",
            "262\n",
            "263\n",
            "264\n",
            "265\n",
            "266\n",
            "267\n",
            "268\n",
            "269\n",
            "270\n",
            "271\n",
            "272\n",
            "273\n",
            "274\n",
            "275\n",
            "276\n",
            "277\n",
            "278\n",
            "279\n",
            "280\n",
            "281\n",
            "282\n",
            "283\n",
            "284\n",
            "285\n",
            "286\n",
            "287\n",
            "288\n",
            "289\n",
            "290\n",
            "291\n",
            "292\n",
            "293\n",
            "294\n",
            "295\n",
            "296\n",
            "297\n",
            "298\n",
            "299\n"
          ],
          "name": "stdout"
        }
      ]
    },
    {
      "cell_type": "code",
      "metadata": {
        "id": "eBIPfF56X5Cm",
        "colab_type": "code",
        "outputId": "1889cac6-3257-40f3-9354-36b893a6c485",
        "colab": {
          "base_uri": "https://localhost:8080/",
          "height": 34
        }
      },
      "source": [
        "from superglue_tasks import task_funcs\n",
        "\n",
        "task = task_funcs[TASK_NAME](BERT_MODEL)"
      ],
      "execution_count": 0,
      "outputs": [
        {
          "output_type": "stream",
          "text": [
            "100%|██████████| 1242874899/1242874899 [00:21<00:00, 57819268.78B/s]\n"
          ],
          "name": "stderr"
        }
      ]
    },
    {
      "cell_type": "code",
      "metadata": {
        "id": "Xkugip1gX79V",
        "colab_type": "code",
        "colab": {}
      },
      "source": [
        "from snorkel.mtl.model import MultitaskModel\n",
        "from snorkel.mtl.trainer import Trainer\n",
        "\n",
        "model = MultitaskModel(tasks=[task], device=-1, dataparallel=False)"
      ],
      "execution_count": 0,
      "outputs": []
    },
    {
      "cell_type": "code",
      "metadata": {
        "id": "k4qr9IWtYHJ7",
        "colab_type": "code",
        "colab": {}
      },
      "source": [
        "model.load(\"tutorials/model_with_qnli.pth\")"
      ],
      "execution_count": 0,
      "outputs": []
    },
    {
      "cell_type": "code",
      "metadata": {
        "id": "oujpdw1LYln0",
        "colab_type": "code",
        "outputId": "c4c4596a-35a8-40eb-e298-c89dfb861e80",
        "colab": {
          "base_uri": "https://localhost:8080/"
        }
      },
      "source": [
        "%%time\n",
        "model.score(dataloaders[1])"
      ],
      "execution_count": 0,
      "outputs": [
        {
          "output_type": "stream",
          "text": [
            "CPU times: user 6min 34s, sys: 5.14 s, total: 6min 39s\n",
            "Wall time: 6min 39s\n"
          ],
          "name": "stdout"
        },
        {
          "output_type": "execute_result",
          "data": {
            "text/plain": [
              "{'QNLI/SuperGLUE/valid/accuracy': 0.58}"
            ]
          },
          "metadata": {
            "tags": []
          },
          "execution_count": 56
        }
      ]
    },
    {
      "cell_type": "code",
      "metadata": {
        "id": "wpzMVpSmY5QO",
        "colab_type": "code",
        "colab": {}
      },
      "source": [
        ""
      ],
      "execution_count": 0,
      "outputs": []
    }
  ]
}